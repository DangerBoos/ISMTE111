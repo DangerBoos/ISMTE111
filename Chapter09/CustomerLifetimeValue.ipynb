{
  "cells": [
    {
      "metadata": {
        "trusted": true
      },
      "cell_type": "code",
      "source": "%matplotlib inline",
      "execution_count": 1,
      "outputs": []
    },
    {
      "metadata": {
        "trusted": true
      },
      "cell_type": "code",
      "source": "import matplotlib.pyplot as plt\nimport pandas as pd\nimport numpy as np",
      "execution_count": 2,
      "outputs": []
    },
    {
      "metadata": {},
      "cell_type": "markdown",
      "source": "# 1. Load Data"
    },
    {
      "metadata": {
        "trusted": true
      },
      "cell_type": "code",
      "source": "df = pd.read_excel('../data/Online Retail.xlsx', sheet_name='Online Retail')",
      "execution_count": 3,
      "outputs": []
    },
    {
      "metadata": {
        "trusted": true
      },
      "cell_type": "code",
      "source": "df.shape",
      "execution_count": 4,
      "outputs": [
        {
          "output_type": "execute_result",
          "execution_count": 4,
          "data": {
            "text/plain": "(541909, 8)"
          },
          "metadata": {}
        }
      ]
    },
    {
      "metadata": {
        "trusted": true
      },
      "cell_type": "code",
      "source": "df.head()",
      "execution_count": 5,
      "outputs": [
        {
          "output_type": "execute_result",
          "execution_count": 5,
          "data": {
            "text/plain": "  InvoiceNo StockCode                          Description  Quantity  \\\n0    536365    85123A   WHITE HANGING HEART T-LIGHT HOLDER         6   \n1    536365     71053                  WHITE METAL LANTERN         6   \n2    536365    84406B       CREAM CUPID HEARTS COAT HANGER         8   \n3    536365    84029G  KNITTED UNION FLAG HOT WATER BOTTLE         6   \n4    536365    84029E       RED WOOLLY HOTTIE WHITE HEART.         6   \n\n          InvoiceDate  UnitPrice  CustomerID         Country  \n0 2010-12-01 08:26:00       2.55     17850.0  United Kingdom  \n1 2010-12-01 08:26:00       3.39     17850.0  United Kingdom  \n2 2010-12-01 08:26:00       2.75     17850.0  United Kingdom  \n3 2010-12-01 08:26:00       3.39     17850.0  United Kingdom  \n4 2010-12-01 08:26:00       3.39     17850.0  United Kingdom  ",
            "text/html": "<div>\n<table border=\"1\" class=\"dataframe\">\n  <thead>\n    <tr style=\"text-align: right;\">\n      <th></th>\n      <th>InvoiceNo</th>\n      <th>StockCode</th>\n      <th>Description</th>\n      <th>Quantity</th>\n      <th>InvoiceDate</th>\n      <th>UnitPrice</th>\n      <th>CustomerID</th>\n      <th>Country</th>\n    </tr>\n  </thead>\n  <tbody>\n    <tr>\n      <th>0</th>\n      <td>536365</td>\n      <td>85123A</td>\n      <td>WHITE HANGING HEART T-LIGHT HOLDER</td>\n      <td>6</td>\n      <td>2010-12-01 08:26:00</td>\n      <td>2.55</td>\n      <td>17850.0</td>\n      <td>United Kingdom</td>\n    </tr>\n    <tr>\n      <th>1</th>\n      <td>536365</td>\n      <td>71053</td>\n      <td>WHITE METAL LANTERN</td>\n      <td>6</td>\n      <td>2010-12-01 08:26:00</td>\n      <td>3.39</td>\n      <td>17850.0</td>\n      <td>United Kingdom</td>\n    </tr>\n    <tr>\n      <th>2</th>\n      <td>536365</td>\n      <td>84406B</td>\n      <td>CREAM CUPID HEARTS COAT HANGER</td>\n      <td>8</td>\n      <td>2010-12-01 08:26:00</td>\n      <td>2.75</td>\n      <td>17850.0</td>\n      <td>United Kingdom</td>\n    </tr>\n    <tr>\n      <th>3</th>\n      <td>536365</td>\n      <td>84029G</td>\n      <td>KNITTED UNION FLAG HOT WATER BOTTLE</td>\n      <td>6</td>\n      <td>2010-12-01 08:26:00</td>\n      <td>3.39</td>\n      <td>17850.0</td>\n      <td>United Kingdom</td>\n    </tr>\n    <tr>\n      <th>4</th>\n      <td>536365</td>\n      <td>84029E</td>\n      <td>RED WOOLLY HOTTIE WHITE HEART.</td>\n      <td>6</td>\n      <td>2010-12-01 08:26:00</td>\n      <td>3.39</td>\n      <td>17850.0</td>\n      <td>United Kingdom</td>\n    </tr>\n  </tbody>\n</table>\n</div>"
          },
          "metadata": {}
        }
      ]
    },
    {
      "metadata": {},
      "cell_type": "markdown",
      "source": "# 2. Data Clean-Up"
    },
    {
      "metadata": {},
      "cell_type": "markdown",
      "source": "#### - Negative Quantity"
    },
    {
      "metadata": {
        "trusted": true
      },
      "cell_type": "code",
      "source": "df.loc[df['Quantity'] <= 0].shape",
      "execution_count": 6,
      "outputs": [
        {
          "output_type": "execute_result",
          "execution_count": 6,
          "data": {
            "text/plain": "(10624, 8)"
          },
          "metadata": {}
        }
      ]
    },
    {
      "metadata": {
        "trusted": true
      },
      "cell_type": "code",
      "source": "df.shape",
      "execution_count": 7,
      "outputs": [
        {
          "output_type": "execute_result",
          "execution_count": 7,
          "data": {
            "text/plain": "(541909, 8)"
          },
          "metadata": {}
        }
      ]
    },
    {
      "metadata": {
        "trusted": true
      },
      "cell_type": "code",
      "source": "df = df.loc[df['Quantity'] > 0]",
      "execution_count": 8,
      "outputs": []
    },
    {
      "metadata": {
        "trusted": true
      },
      "cell_type": "code",
      "source": "df.shape",
      "execution_count": 9,
      "outputs": [
        {
          "output_type": "execute_result",
          "execution_count": 9,
          "data": {
            "text/plain": "(531285, 8)"
          },
          "metadata": {}
        }
      ]
    },
    {
      "metadata": {},
      "cell_type": "markdown",
      "source": "#### - Missing CustomerID"
    },
    {
      "metadata": {
        "trusted": true
      },
      "cell_type": "code",
      "source": "pd.isnull(df['CustomerID']).sum()",
      "execution_count": 10,
      "outputs": [
        {
          "output_type": "execute_result",
          "execution_count": 10,
          "data": {
            "text/plain": "133361"
          },
          "metadata": {}
        }
      ]
    },
    {
      "metadata": {
        "trusted": true
      },
      "cell_type": "code",
      "source": "df.shape",
      "execution_count": 11,
      "outputs": [
        {
          "output_type": "execute_result",
          "execution_count": 11,
          "data": {
            "text/plain": "(531285, 8)"
          },
          "metadata": {}
        }
      ]
    },
    {
      "metadata": {
        "trusted": true
      },
      "cell_type": "code",
      "source": "df = df[pd.notnull(df['CustomerID'])]",
      "execution_count": 12,
      "outputs": []
    },
    {
      "metadata": {
        "trusted": true
      },
      "cell_type": "code",
      "source": "df.shape",
      "execution_count": 13,
      "outputs": [
        {
          "output_type": "execute_result",
          "execution_count": 13,
          "data": {
            "text/plain": "(397924, 8)"
          },
          "metadata": {}
        }
      ]
    },
    {
      "metadata": {
        "trusted": true
      },
      "cell_type": "code",
      "source": "df.head()",
      "execution_count": 14,
      "outputs": [
        {
          "output_type": "execute_result",
          "execution_count": 14,
          "data": {
            "text/plain": "  InvoiceNo StockCode                          Description  Quantity  \\\n0    536365    85123A   WHITE HANGING HEART T-LIGHT HOLDER         6   \n1    536365     71053                  WHITE METAL LANTERN         6   \n2    536365    84406B       CREAM CUPID HEARTS COAT HANGER         8   \n3    536365    84029G  KNITTED UNION FLAG HOT WATER BOTTLE         6   \n4    536365    84029E       RED WOOLLY HOTTIE WHITE HEART.         6   \n\n          InvoiceDate  UnitPrice  CustomerID         Country  \n0 2010-12-01 08:26:00       2.55     17850.0  United Kingdom  \n1 2010-12-01 08:26:00       3.39     17850.0  United Kingdom  \n2 2010-12-01 08:26:00       2.75     17850.0  United Kingdom  \n3 2010-12-01 08:26:00       3.39     17850.0  United Kingdom  \n4 2010-12-01 08:26:00       3.39     17850.0  United Kingdom  ",
            "text/html": "<div>\n<table border=\"1\" class=\"dataframe\">\n  <thead>\n    <tr style=\"text-align: right;\">\n      <th></th>\n      <th>InvoiceNo</th>\n      <th>StockCode</th>\n      <th>Description</th>\n      <th>Quantity</th>\n      <th>InvoiceDate</th>\n      <th>UnitPrice</th>\n      <th>CustomerID</th>\n      <th>Country</th>\n    </tr>\n  </thead>\n  <tbody>\n    <tr>\n      <th>0</th>\n      <td>536365</td>\n      <td>85123A</td>\n      <td>WHITE HANGING HEART T-LIGHT HOLDER</td>\n      <td>6</td>\n      <td>2010-12-01 08:26:00</td>\n      <td>2.55</td>\n      <td>17850.0</td>\n      <td>United Kingdom</td>\n    </tr>\n    <tr>\n      <th>1</th>\n      <td>536365</td>\n      <td>71053</td>\n      <td>WHITE METAL LANTERN</td>\n      <td>6</td>\n      <td>2010-12-01 08:26:00</td>\n      <td>3.39</td>\n      <td>17850.0</td>\n      <td>United Kingdom</td>\n    </tr>\n    <tr>\n      <th>2</th>\n      <td>536365</td>\n      <td>84406B</td>\n      <td>CREAM CUPID HEARTS COAT HANGER</td>\n      <td>8</td>\n      <td>2010-12-01 08:26:00</td>\n      <td>2.75</td>\n      <td>17850.0</td>\n      <td>United Kingdom</td>\n    </tr>\n    <tr>\n      <th>3</th>\n      <td>536365</td>\n      <td>84029G</td>\n      <td>KNITTED UNION FLAG HOT WATER BOTTLE</td>\n      <td>6</td>\n      <td>2010-12-01 08:26:00</td>\n      <td>3.39</td>\n      <td>17850.0</td>\n      <td>United Kingdom</td>\n    </tr>\n    <tr>\n      <th>4</th>\n      <td>536365</td>\n      <td>84029E</td>\n      <td>RED WOOLLY HOTTIE WHITE HEART.</td>\n      <td>6</td>\n      <td>2010-12-01 08:26:00</td>\n      <td>3.39</td>\n      <td>17850.0</td>\n      <td>United Kingdom</td>\n    </tr>\n  </tbody>\n</table>\n</div>"
          },
          "metadata": {}
        }
      ]
    },
    {
      "metadata": {},
      "cell_type": "markdown",
      "source": "#### - Excluding Incomplete Month"
    },
    {
      "metadata": {
        "trusted": true
      },
      "cell_type": "code",
      "source": "print('Date Range: %s ~ %s' % (df['InvoiceDate'].min(), df['InvoiceDate'].max()))",
      "execution_count": 15,
      "outputs": [
        {
          "output_type": "stream",
          "text": "Date Range: 2010-12-01 08:26:00 ~ 2011-12-09 12:50:00\n",
          "name": "stdout"
        }
      ]
    },
    {
      "metadata": {
        "trusted": true
      },
      "cell_type": "code",
      "source": "df.loc[df['InvoiceDate'] >= '2011-12-01'].shape",
      "execution_count": 16,
      "outputs": [
        {
          "output_type": "execute_result",
          "execution_count": 16,
          "data": {
            "text/plain": "(17304, 8)"
          },
          "metadata": {}
        }
      ]
    },
    {
      "metadata": {
        "trusted": true
      },
      "cell_type": "code",
      "source": "df.shape",
      "execution_count": 17,
      "outputs": [
        {
          "output_type": "execute_result",
          "execution_count": 17,
          "data": {
            "text/plain": "(397924, 8)"
          },
          "metadata": {}
        }
      ]
    },
    {
      "metadata": {
        "trusted": true
      },
      "cell_type": "code",
      "source": "df = df.loc[df['InvoiceDate'] < '2011-12-01']",
      "execution_count": 18,
      "outputs": []
    },
    {
      "metadata": {
        "trusted": true
      },
      "cell_type": "code",
      "source": "df.shape",
      "execution_count": 19,
      "outputs": [
        {
          "output_type": "execute_result",
          "execution_count": 19,
          "data": {
            "text/plain": "(380620, 8)"
          },
          "metadata": {}
        }
      ]
    },
    {
      "metadata": {},
      "cell_type": "markdown",
      "source": "#### - Total Sales"
    },
    {
      "metadata": {
        "trusted": true
      },
      "cell_type": "code",
      "source": "df['Sales'] = df['Quantity'] * df['UnitPrice']",
      "execution_count": 20,
      "outputs": []
    },
    {
      "metadata": {
        "trusted": true
      },
      "cell_type": "code",
      "source": "df.head()",
      "execution_count": 21,
      "outputs": [
        {
          "output_type": "execute_result",
          "execution_count": 21,
          "data": {
            "text/plain": "  InvoiceNo StockCode                          Description  Quantity  \\\n0    536365    85123A   WHITE HANGING HEART T-LIGHT HOLDER         6   \n1    536365     71053                  WHITE METAL LANTERN         6   \n2    536365    84406B       CREAM CUPID HEARTS COAT HANGER         8   \n3    536365    84029G  KNITTED UNION FLAG HOT WATER BOTTLE         6   \n4    536365    84029E       RED WOOLLY HOTTIE WHITE HEART.         6   \n\n          InvoiceDate  UnitPrice  CustomerID         Country  Sales  \n0 2010-12-01 08:26:00       2.55     17850.0  United Kingdom  15.30  \n1 2010-12-01 08:26:00       3.39     17850.0  United Kingdom  20.34  \n2 2010-12-01 08:26:00       2.75     17850.0  United Kingdom  22.00  \n3 2010-12-01 08:26:00       3.39     17850.0  United Kingdom  20.34  \n4 2010-12-01 08:26:00       3.39     17850.0  United Kingdom  20.34  ",
            "text/html": "<div>\n<table border=\"1\" class=\"dataframe\">\n  <thead>\n    <tr style=\"text-align: right;\">\n      <th></th>\n      <th>InvoiceNo</th>\n      <th>StockCode</th>\n      <th>Description</th>\n      <th>Quantity</th>\n      <th>InvoiceDate</th>\n      <th>UnitPrice</th>\n      <th>CustomerID</th>\n      <th>Country</th>\n      <th>Sales</th>\n    </tr>\n  </thead>\n  <tbody>\n    <tr>\n      <th>0</th>\n      <td>536365</td>\n      <td>85123A</td>\n      <td>WHITE HANGING HEART T-LIGHT HOLDER</td>\n      <td>6</td>\n      <td>2010-12-01 08:26:00</td>\n      <td>2.55</td>\n      <td>17850.0</td>\n      <td>United Kingdom</td>\n      <td>15.30</td>\n    </tr>\n    <tr>\n      <th>1</th>\n      <td>536365</td>\n      <td>71053</td>\n      <td>WHITE METAL LANTERN</td>\n      <td>6</td>\n      <td>2010-12-01 08:26:00</td>\n      <td>3.39</td>\n      <td>17850.0</td>\n      <td>United Kingdom</td>\n      <td>20.34</td>\n    </tr>\n    <tr>\n      <th>2</th>\n      <td>536365</td>\n      <td>84406B</td>\n      <td>CREAM CUPID HEARTS COAT HANGER</td>\n      <td>8</td>\n      <td>2010-12-01 08:26:00</td>\n      <td>2.75</td>\n      <td>17850.0</td>\n      <td>United Kingdom</td>\n      <td>22.00</td>\n    </tr>\n    <tr>\n      <th>3</th>\n      <td>536365</td>\n      <td>84029G</td>\n      <td>KNITTED UNION FLAG HOT WATER BOTTLE</td>\n      <td>6</td>\n      <td>2010-12-01 08:26:00</td>\n      <td>3.39</td>\n      <td>17850.0</td>\n      <td>United Kingdom</td>\n      <td>20.34</td>\n    </tr>\n    <tr>\n      <th>4</th>\n      <td>536365</td>\n      <td>84029E</td>\n      <td>RED WOOLLY HOTTIE WHITE HEART.</td>\n      <td>6</td>\n      <td>2010-12-01 08:26:00</td>\n      <td>3.39</td>\n      <td>17850.0</td>\n      <td>United Kingdom</td>\n      <td>20.34</td>\n    </tr>\n  </tbody>\n</table>\n</div>"
          },
          "metadata": {}
        }
      ]
    },
    {
      "metadata": {},
      "cell_type": "markdown",
      "source": "#### - Per Order Data"
    },
    {
      "metadata": {
        "trusted": true
      },
      "cell_type": "code",
      "source": "orders_df = df.groupby(['CustomerID', 'InvoiceNo']).agg({\n    'Sales': sum,\n    'InvoiceDate': max\n})",
      "execution_count": 22,
      "outputs": []
    },
    {
      "metadata": {
        "scrolled": true,
        "trusted": true
      },
      "cell_type": "code",
      "source": "orders_df",
      "execution_count": 23,
      "outputs": [
        {
          "output_type": "execute_result",
          "execution_count": 23,
          "data": {
            "text/plain": "                             InvoiceDate     Sales\nCustomerID InvoiceNo                              \n12346.0    541431    2011-01-18 10:01:00  77183.60\n12347.0    537626    2010-12-07 14:57:00    711.79\n           542237    2011-01-26 14:30:00    475.39\n           549222    2011-04-07 10:43:00    636.25\n           556201    2011-06-09 13:01:00    382.52\n           562032    2011-08-02 08:48:00    584.91\n           573511    2011-10-31 12:25:00   1294.32\n12348.0    539318    2010-12-16 19:09:00    892.80\n           541998    2011-01-25 10:42:00    227.44\n           548955    2011-04-05 10:47:00    367.00\n           568172    2011-09-25 13:13:00    310.00\n12349.0    577609    2011-11-21 09:51:00   1757.55\n12350.0    543037    2011-02-02 16:01:00    334.40\n12352.0    544156    2011-02-16 12:33:00    296.50\n           545323    2011-03-01 14:57:00    144.35\n           545332    2011-03-01 15:52:00    840.30\n           546869    2011-03-17 16:00:00    120.33\n           547390    2011-03-22 16:08:00    160.33\n           567505    2011-09-20 14:34:00    366.25\n           568699    2011-09-28 14:58:00    266.25\n           574275    2011-11-03 14:37:00    311.73\n12353.0    553900    2011-05-19 17:47:00     89.00\n12354.0    550911    2011-04-21 13:11:00   1079.40\n12355.0    552449    2011-05-09 13:49:00    459.40\n12356.0    541430    2011-01-18 09:50:00   2271.62\n           549435    2011-04-08 12:33:00    481.46\n           576895    2011-11-17 08:40:00     58.35\n12357.0    574740    2011-11-06 16:07:00   6207.67\n12358.0    559707    2011-07-12 10:04:00    484.86\n12359.0    540946    2011-01-12 12:43:00    547.50\n...                                  ...       ...\n18272.0    559813    2011-07-12 15:42:00    753.66\n           563680    2011-08-18 12:06:00    372.25\n           572617    2011-10-25 11:52:00    604.25\n18273.0    547843    2011-03-27 11:22:00     51.00\n           565480    2011-09-05 11:27:00    102.00\n18274.0    575485    2011-11-09 17:03:00    175.92\n18276.0    572990    2011-10-27 10:54:00    335.86\n18277.0    570859    2011-10-12 15:22:00    110.38\n18278.0    568492    2011-09-27 11:58:00    173.90\n18280.0    545712    2011-03-07 09:52:00    180.60\n18281.0    556464    2011-06-12 10:53:00     80.82\n18282.0    562525    2011-08-05 13:35:00    100.21\n18283.0    540350    2011-01-06 14:14:00    108.45\n           541854    2011-01-23 14:58:00    106.55\n           545079    2011-02-28 10:30:00    102.90\n           550957    2011-04-21 16:37:00    117.68\n           554157    2011-05-23 11:33:00     99.47\n           556731    2011-06-14 11:41:00    103.72\n           557956    2011-06-23 19:20:00    203.81\n           560025    2011-07-14 13:00:00    140.69\n           560032    2011-07-14 13:20:00      2.50\n           565579    2011-09-05 12:35:00    134.90\n           573093    2011-10-27 14:38:00    114.65\n           575668    2011-11-10 14:59:00    112.35\n           575675    2011-11-10 15:07:00      1.95\n           578262    2011-11-23 13:27:00    313.65\n           579673    2011-11-30 12:59:00    223.61\n18287.0    554065    2011-05-22 10:39:00    765.28\n           570715    2011-10-12 10:23:00   1001.32\n           573167    2011-10-28 09:29:00     70.68\n\n[17758 rows x 2 columns]",
            "text/html": "<div>\n<table border=\"1\" class=\"dataframe\">\n  <thead>\n    <tr style=\"text-align: right;\">\n      <th></th>\n      <th></th>\n      <th>InvoiceDate</th>\n      <th>Sales</th>\n    </tr>\n    <tr>\n      <th>CustomerID</th>\n      <th>InvoiceNo</th>\n      <th></th>\n      <th></th>\n    </tr>\n  </thead>\n  <tbody>\n    <tr>\n      <th>12346.0</th>\n      <th>541431</th>\n      <td>2011-01-18 10:01:00</td>\n      <td>77183.60</td>\n    </tr>\n    <tr>\n      <th rowspan=\"6\" valign=\"top\">12347.0</th>\n      <th>537626</th>\n      <td>2010-12-07 14:57:00</td>\n      <td>711.79</td>\n    </tr>\n    <tr>\n      <th>542237</th>\n      <td>2011-01-26 14:30:00</td>\n      <td>475.39</td>\n    </tr>\n    <tr>\n      <th>549222</th>\n      <td>2011-04-07 10:43:00</td>\n      <td>636.25</td>\n    </tr>\n    <tr>\n      <th>556201</th>\n      <td>2011-06-09 13:01:00</td>\n      <td>382.52</td>\n    </tr>\n    <tr>\n      <th>562032</th>\n      <td>2011-08-02 08:48:00</td>\n      <td>584.91</td>\n    </tr>\n    <tr>\n      <th>573511</th>\n      <td>2011-10-31 12:25:00</td>\n      <td>1294.32</td>\n    </tr>\n    <tr>\n      <th rowspan=\"4\" valign=\"top\">12348.0</th>\n      <th>539318</th>\n      <td>2010-12-16 19:09:00</td>\n      <td>892.80</td>\n    </tr>\n    <tr>\n      <th>541998</th>\n      <td>2011-01-25 10:42:00</td>\n      <td>227.44</td>\n    </tr>\n    <tr>\n      <th>548955</th>\n      <td>2011-04-05 10:47:00</td>\n      <td>367.00</td>\n    </tr>\n    <tr>\n      <th>568172</th>\n      <td>2011-09-25 13:13:00</td>\n      <td>310.00</td>\n    </tr>\n    <tr>\n      <th>12349.0</th>\n      <th>577609</th>\n      <td>2011-11-21 09:51:00</td>\n      <td>1757.55</td>\n    </tr>\n    <tr>\n      <th>12350.0</th>\n      <th>543037</th>\n      <td>2011-02-02 16:01:00</td>\n      <td>334.40</td>\n    </tr>\n    <tr>\n      <th rowspan=\"8\" valign=\"top\">12352.0</th>\n      <th>544156</th>\n      <td>2011-02-16 12:33:00</td>\n      <td>296.50</td>\n    </tr>\n    <tr>\n      <th>545323</th>\n      <td>2011-03-01 14:57:00</td>\n      <td>144.35</td>\n    </tr>\n    <tr>\n      <th>545332</th>\n      <td>2011-03-01 15:52:00</td>\n      <td>840.30</td>\n    </tr>\n    <tr>\n      <th>546869</th>\n      <td>2011-03-17 16:00:00</td>\n      <td>120.33</td>\n    </tr>\n    <tr>\n      <th>547390</th>\n      <td>2011-03-22 16:08:00</td>\n      <td>160.33</td>\n    </tr>\n    <tr>\n      <th>567505</th>\n      <td>2011-09-20 14:34:00</td>\n      <td>366.25</td>\n    </tr>\n    <tr>\n      <th>568699</th>\n      <td>2011-09-28 14:58:00</td>\n      <td>266.25</td>\n    </tr>\n    <tr>\n      <th>574275</th>\n      <td>2011-11-03 14:37:00</td>\n      <td>311.73</td>\n    </tr>\n    <tr>\n      <th>12353.0</th>\n      <th>553900</th>\n      <td>2011-05-19 17:47:00</td>\n      <td>89.00</td>\n    </tr>\n    <tr>\n      <th>12354.0</th>\n      <th>550911</th>\n      <td>2011-04-21 13:11:00</td>\n      <td>1079.40</td>\n    </tr>\n    <tr>\n      <th>12355.0</th>\n      <th>552449</th>\n      <td>2011-05-09 13:49:00</td>\n      <td>459.40</td>\n    </tr>\n    <tr>\n      <th rowspan=\"3\" valign=\"top\">12356.0</th>\n      <th>541430</th>\n      <td>2011-01-18 09:50:00</td>\n      <td>2271.62</td>\n    </tr>\n    <tr>\n      <th>549435</th>\n      <td>2011-04-08 12:33:00</td>\n      <td>481.46</td>\n    </tr>\n    <tr>\n      <th>576895</th>\n      <td>2011-11-17 08:40:00</td>\n      <td>58.35</td>\n    </tr>\n    <tr>\n      <th>12357.0</th>\n      <th>574740</th>\n      <td>2011-11-06 16:07:00</td>\n      <td>6207.67</td>\n    </tr>\n    <tr>\n      <th>12358.0</th>\n      <th>559707</th>\n      <td>2011-07-12 10:04:00</td>\n      <td>484.86</td>\n    </tr>\n    <tr>\n      <th>12359.0</th>\n      <th>540946</th>\n      <td>2011-01-12 12:43:00</td>\n      <td>547.50</td>\n    </tr>\n    <tr>\n      <th>...</th>\n      <th>...</th>\n      <td>...</td>\n      <td>...</td>\n    </tr>\n    <tr>\n      <th rowspan=\"3\" valign=\"top\">18272.0</th>\n      <th>559813</th>\n      <td>2011-07-12 15:42:00</td>\n      <td>753.66</td>\n    </tr>\n    <tr>\n      <th>563680</th>\n      <td>2011-08-18 12:06:00</td>\n      <td>372.25</td>\n    </tr>\n    <tr>\n      <th>572617</th>\n      <td>2011-10-25 11:52:00</td>\n      <td>604.25</td>\n    </tr>\n    <tr>\n      <th rowspan=\"2\" valign=\"top\">18273.0</th>\n      <th>547843</th>\n      <td>2011-03-27 11:22:00</td>\n      <td>51.00</td>\n    </tr>\n    <tr>\n      <th>565480</th>\n      <td>2011-09-05 11:27:00</td>\n      <td>102.00</td>\n    </tr>\n    <tr>\n      <th>18274.0</th>\n      <th>575485</th>\n      <td>2011-11-09 17:03:00</td>\n      <td>175.92</td>\n    </tr>\n    <tr>\n      <th>18276.0</th>\n      <th>572990</th>\n      <td>2011-10-27 10:54:00</td>\n      <td>335.86</td>\n    </tr>\n    <tr>\n      <th>18277.0</th>\n      <th>570859</th>\n      <td>2011-10-12 15:22:00</td>\n      <td>110.38</td>\n    </tr>\n    <tr>\n      <th>18278.0</th>\n      <th>568492</th>\n      <td>2011-09-27 11:58:00</td>\n      <td>173.90</td>\n    </tr>\n    <tr>\n      <th>18280.0</th>\n      <th>545712</th>\n      <td>2011-03-07 09:52:00</td>\n      <td>180.60</td>\n    </tr>\n    <tr>\n      <th>18281.0</th>\n      <th>556464</th>\n      <td>2011-06-12 10:53:00</td>\n      <td>80.82</td>\n    </tr>\n    <tr>\n      <th>18282.0</th>\n      <th>562525</th>\n      <td>2011-08-05 13:35:00</td>\n      <td>100.21</td>\n    </tr>\n    <tr>\n      <th rowspan=\"15\" valign=\"top\">18283.0</th>\n      <th>540350</th>\n      <td>2011-01-06 14:14:00</td>\n      <td>108.45</td>\n    </tr>\n    <tr>\n      <th>541854</th>\n      <td>2011-01-23 14:58:00</td>\n      <td>106.55</td>\n    </tr>\n    <tr>\n      <th>545079</th>\n      <td>2011-02-28 10:30:00</td>\n      <td>102.90</td>\n    </tr>\n    <tr>\n      <th>550957</th>\n      <td>2011-04-21 16:37:00</td>\n      <td>117.68</td>\n    </tr>\n    <tr>\n      <th>554157</th>\n      <td>2011-05-23 11:33:00</td>\n      <td>99.47</td>\n    </tr>\n    <tr>\n      <th>556731</th>\n      <td>2011-06-14 11:41:00</td>\n      <td>103.72</td>\n    </tr>\n    <tr>\n      <th>557956</th>\n      <td>2011-06-23 19:20:00</td>\n      <td>203.81</td>\n    </tr>\n    <tr>\n      <th>560025</th>\n      <td>2011-07-14 13:00:00</td>\n      <td>140.69</td>\n    </tr>\n    <tr>\n      <th>560032</th>\n      <td>2011-07-14 13:20:00</td>\n      <td>2.50</td>\n    </tr>\n    <tr>\n      <th>565579</th>\n      <td>2011-09-05 12:35:00</td>\n      <td>134.90</td>\n    </tr>\n    <tr>\n      <th>573093</th>\n      <td>2011-10-27 14:38:00</td>\n      <td>114.65</td>\n    </tr>\n    <tr>\n      <th>575668</th>\n      <td>2011-11-10 14:59:00</td>\n      <td>112.35</td>\n    </tr>\n    <tr>\n      <th>575675</th>\n      <td>2011-11-10 15:07:00</td>\n      <td>1.95</td>\n    </tr>\n    <tr>\n      <th>578262</th>\n      <td>2011-11-23 13:27:00</td>\n      <td>313.65</td>\n    </tr>\n    <tr>\n      <th>579673</th>\n      <td>2011-11-30 12:59:00</td>\n      <td>223.61</td>\n    </tr>\n    <tr>\n      <th rowspan=\"3\" valign=\"top\">18287.0</th>\n      <th>554065</th>\n      <td>2011-05-22 10:39:00</td>\n      <td>765.28</td>\n    </tr>\n    <tr>\n      <th>570715</th>\n      <td>2011-10-12 10:23:00</td>\n      <td>1001.32</td>\n    </tr>\n    <tr>\n      <th>573167</th>\n      <td>2011-10-28 09:29:00</td>\n      <td>70.68</td>\n    </tr>\n  </tbody>\n</table>\n<p>17758 rows × 2 columns</p>\n</div>"
          },
          "metadata": {}
        }
      ]
    },
    {
      "metadata": {},
      "cell_type": "markdown",
      "source": "# 3. Data Analysis"
    },
    {
      "metadata": {
        "trusted": true
      },
      "cell_type": "code",
      "source": "def groupby_mean(x):\n    return x.mean()\n\ndef groupby_count(x):\n    return x.count()\n\ndef purchase_duration(x):\n    return int((x.max() - x.min()).days)\n\ndef avg_frequency(x):\n    return (x.max() - x.min()).days/x.count()\n\ngroupby_mean.__name__ = 'avg'\ngroupby_count.__name__ = 'count'\npurchase_duration.__name__ = 'purchase_duration'\navg_frequency.__name__ = 'purchase_frequency'",
      "execution_count": 24,
      "outputs": []
    },
    {
      "metadata": {
        "scrolled": true,
        "trusted": true
      },
      "cell_type": "code",
      "source": "summary_df = orders_df.reset_index().groupby('CustomerID').agg({\n    'Sales': [min, max, sum, groupby_mean, groupby_count],\n    'InvoiceDate': [min, max, purchase_duration, avg_frequency]\n})",
      "execution_count": 25,
      "outputs": []
    },
    {
      "metadata": {
        "trusted": true
      },
      "cell_type": "code",
      "source": "purchase_duration(orders_df['InvoiceDate'][12347.0])",
      "execution_count": 26,
      "outputs": [
        {
          "output_type": "execute_result",
          "execution_count": 26,
          "data": {
            "text/plain": "327"
          },
          "metadata": {}
        }
      ]
    },
    {
      "metadata": {
        "scrolled": true,
        "trusted": true
      },
      "cell_type": "code",
      "source": "# Scannell note: I was having datatype problems here, so force it to be an int\nsummary_df['InvoiceDate','purchase_duration'] = summary_df['InvoiceDate','purchase_duration'].astype(int)\nsummary_df['InvoiceDate','purchase_frequency'] = summary_df['InvoiceDate','purchase_frequency'].astype(int)",
      "execution_count": 27,
      "outputs": []
    },
    {
      "metadata": {
        "trusted": true
      },
      "cell_type": "code",
      "source": "summary_df.columns = ['_'.join(col).lower() for col in summary_df.columns]",
      "execution_count": 28,
      "outputs": []
    },
    {
      "metadata": {
        "trusted": true
      },
      "cell_type": "code",
      "source": "summary_df",
      "execution_count": 29,
      "outputs": [
        {
          "output_type": "execute_result",
          "execution_count": 29,
          "data": {
            "text/plain": "               invoicedate_min     invoicedate_max  \\\nCustomerID                                           \n12346.0    2011-01-18 10:01:00 2011-01-18 10:01:00   \n12347.0    2010-12-07 14:57:00 2011-10-31 12:25:00   \n12348.0    2010-12-16 19:09:00 2011-09-25 13:13:00   \n12349.0    2011-11-21 09:51:00 2011-11-21 09:51:00   \n12350.0    2011-02-02 16:01:00 2011-02-02 16:01:00   \n12352.0    2011-02-16 12:33:00 2011-11-03 14:37:00   \n12353.0    2011-05-19 17:47:00 2011-05-19 17:47:00   \n12354.0    2011-04-21 13:11:00 2011-04-21 13:11:00   \n12355.0    2011-05-09 13:49:00 2011-05-09 13:49:00   \n12356.0    2011-01-18 09:50:00 2011-11-17 08:40:00   \n12357.0    2011-11-06 16:07:00 2011-11-06 16:07:00   \n12358.0    2011-07-12 10:04:00 2011-07-12 10:04:00   \n12359.0    2011-01-12 12:43:00 2011-10-13 12:47:00   \n12360.0    2011-05-23 09:43:00 2011-10-18 15:22:00   \n12361.0    2011-02-25 13:51:00 2011-02-25 13:51:00   \n12362.0    2011-02-17 10:30:00 2011-11-04 09:07:00   \n12363.0    2011-04-11 13:29:00 2011-08-22 10:18:00   \n12364.0    2011-08-19 15:24:00 2011-10-30 15:43:00   \n12365.0    2011-02-21 13:51:00 2011-02-21 14:04:00   \n12370.0    2010-12-14 12:58:00 2011-10-19 14:51:00   \n12371.0    2011-10-11 10:43:00 2011-10-26 10:16:00   \n12372.0    2011-02-16 12:46:00 2011-09-29 12:12:00   \n12373.0    2011-02-01 13:10:00 2011-02-01 13:10:00   \n12374.0    2011-11-14 15:37:00 2011-11-14 15:37:00   \n12375.0    2011-09-02 14:23:00 2011-11-29 10:36:00   \n12377.0    2010-12-20 09:37:00 2011-01-28 15:45:00   \n12378.0    2011-08-02 10:34:00 2011-08-02 10:34:00   \n12379.0    2011-06-22 16:32:00 2011-09-19 10:09:00   \n12380.0    2011-06-07 09:49:00 2011-11-18 11:27:00   \n12381.0    2011-08-12 09:57:00 2011-11-06 13:36:00   \n...                        ...                 ...   \n18242.0    2011-05-10 11:20:00 2011-09-28 13:43:00   \n18245.0    2010-12-19 14:58:00 2011-07-13 14:29:00   \n18246.0    2011-04-20 13:55:00 2011-11-16 11:49:00   \n18248.0    2011-06-06 13:18:00 2011-08-09 10:19:00   \n18249.0    2011-11-22 15:07:00 2011-11-22 15:07:00   \n18250.0    2011-02-02 13:16:00 2011-02-02 13:16:00   \n18251.0    2011-09-13 15:03:00 2011-09-13 15:03:00   \n18252.0    2011-06-21 11:47:00 2011-10-20 12:43:00   \n18255.0    2011-09-11 13:16:00 2011-09-11 13:16:00   \n18257.0    2011-02-16 15:13:00 2011-10-31 14:48:00   \n18259.0    2010-12-08 13:38:00 2011-11-15 12:34:00   \n18260.0    2010-12-16 18:23:00 2011-06-20 12:37:00   \n18261.0    2011-09-05 09:34:00 2011-10-27 15:36:00   \n18262.0    2011-07-22 16:04:00 2011-07-22 16:04:00   \n18263.0    2011-04-01 11:48:00 2011-11-14 09:00:00   \n18265.0    2011-07-04 15:26:00 2011-09-28 14:10:00   \n18268.0    2011-07-28 19:13:00 2011-07-28 19:13:00   \n18269.0    2010-12-08 13:53:00 2010-12-08 13:53:00   \n18270.0    2011-03-18 12:41:00 2011-11-01 13:57:00   \n18272.0    2011-04-07 09:35:00 2011-10-25 11:52:00   \n18273.0    2011-03-27 11:22:00 2011-09-05 11:27:00   \n18274.0    2011-11-09 17:03:00 2011-11-09 17:03:00   \n18276.0    2011-10-27 10:54:00 2011-10-27 10:54:00   \n18277.0    2011-10-12 15:22:00 2011-10-12 15:22:00   \n18278.0    2011-09-27 11:58:00 2011-09-27 11:58:00   \n18280.0    2011-03-07 09:52:00 2011-03-07 09:52:00   \n18281.0    2011-06-12 10:53:00 2011-06-12 10:53:00   \n18282.0    2011-08-05 13:35:00 2011-08-05 13:35:00   \n18283.0    2011-01-06 14:14:00 2011-11-30 12:59:00   \n18287.0    2011-05-22 10:39:00 2011-10-28 09:29:00   \n\n            invoicedate_purchase_duration  invoicedate_purchase_frequency  \\\nCustomerID                                                                  \n12346.0                                 0                               0   \n12347.0                               327                              54   \n12348.0                               282                              70   \n12349.0                                 0                               0   \n12350.0                                 0                               0   \n12352.0                               260                              32   \n12353.0                                 0                               0   \n12354.0                                 0                               0   \n12355.0                                 0                               0   \n12356.0                               302                             100   \n12357.0                                 0                               0   \n12358.0                                 0                               0   \n12359.0                               274                              68   \n12360.0                               148                              49   \n12361.0                                 0                               0   \n12362.0                               259                              28   \n12363.0                               132                              66   \n12364.0                                72                              24   \n12365.0                                 0                               0   \n12370.0                               309                              77   \n12371.0                                14                               7   \n12372.0                               224                              74   \n12373.0                                 0                               0   \n12374.0                                 0                               0   \n12375.0                                87                              43   \n12377.0                                39                              19   \n12378.0                                 0                               0   \n12379.0                                88                              44   \n12380.0                               164                              41   \n12381.0                                86                              21   \n...                                   ...                             ...   \n18242.0                               141                              35   \n18245.0                               205                              34   \n18246.0                               209                             104   \n18248.0                                63                              31   \n18249.0                                 0                               0   \n18250.0                                 0                               0   \n18251.0                                 0                               0   \n18252.0                               121                              60   \n18255.0                                 0                               0   \n18257.0                               256                              32   \n18259.0                               341                             113   \n18260.0                               185                              30   \n18261.0                                52                              26   \n18262.0                                 0                               0   \n18263.0                               226                              75   \n18265.0                                85                              42   \n18268.0                                 0                               0   \n18269.0                                 0                               0   \n18270.0                               228                             114   \n18272.0                               201                              40   \n18273.0                               162                              81   \n18274.0                                 0                               0   \n18276.0                                 0                               0   \n18277.0                                 0                               0   \n18278.0                                 0                               0   \n18280.0                                 0                               0   \n18281.0                                 0                               0   \n18282.0                                 0                               0   \n18283.0                               327                              21   \n18287.0                               158                              52   \n\n            sales_min  sales_max  sales_sum     sales_avg  sales_count  \nCustomerID                                                              \n12346.0      77183.60   77183.60   77183.60  77183.600000          1.0  \n12347.0        382.52    1294.32    4085.18    680.863333          6.0  \n12348.0        227.44     892.80    1797.24    449.310000          4.0  \n12349.0       1757.55    1757.55    1757.55   1757.550000          1.0  \n12350.0        334.40     334.40     334.40    334.400000          1.0  \n12352.0        120.33     840.30    2506.04    313.255000          8.0  \n12353.0         89.00      89.00      89.00     89.000000          1.0  \n12354.0       1079.40    1079.40    1079.40   1079.400000          1.0  \n12355.0        459.40     459.40     459.40    459.400000          1.0  \n12356.0         58.35    2271.62    2811.43    937.143333          3.0  \n12357.0       6207.67    6207.67    6207.67   6207.670000          1.0  \n12358.0        484.86     484.86     484.86    484.860000          1.0  \n12359.0        547.50    2876.85    6372.58   1593.145000          4.0  \n12360.0        534.70    1083.58    2662.06    887.353333          3.0  \n12361.0        189.90     189.90     189.90    189.900000          1.0  \n12362.0        303.76     829.99    4697.19    521.910000          9.0  \n12363.0        252.90     299.10     552.00    276.000000          2.0  \n12364.0         79.80     623.92    1002.78    334.260000          3.0  \n12365.0        320.69     320.69     641.38    320.690000          2.0  \n12370.0        277.20    1590.82    3545.69    886.422500          4.0  \n12371.0        360.00    1527.96    1887.96    943.980000          2.0  \n12372.0        383.12     515.70    1298.04    432.680000          3.0  \n12373.0        364.60     364.60     364.60    364.600000          1.0  \n12374.0        742.93     742.93     742.93    742.930000          1.0  \n12375.0        227.20     230.30     457.50    228.750000          2.0  \n12377.0        626.60    1001.52    1628.12    814.060000          2.0  \n12378.0       4008.62    4008.62    4008.62   4008.620000          1.0  \n12379.0        392.40     459.84     852.24    426.120000          2.0  \n12380.0        450.86    1040.39    2724.81    681.202500          4.0  \n12381.0          4.50    1268.74    1698.30    424.575000          4.0  \n...               ...        ...        ...           ...          ...  \n18242.0        312.92    1225.49    2232.49    558.122500          4.0  \n18245.0         35.60     439.18    1672.81    278.801667          6.0  \n18246.0        232.90     363.20     596.10    298.050000          2.0  \n18248.0        307.56     496.46     804.02    402.010000          2.0  \n18249.0         95.34      95.34      95.34     95.340000          1.0  \n18250.0        349.27     349.27     349.27    349.270000          1.0  \n18251.0       4314.72    4314.72    4314.72   4314.720000          1.0  \n18252.0         69.90     456.77     526.67    263.335000          2.0  \n18255.0        103.30     103.30     103.30    103.300000          1.0  \n18257.0         14.85     627.27    2337.63    292.203750          8.0  \n18259.0        376.30    1070.40    2338.60    779.533333          3.0  \n18260.0        230.70     557.07    2643.20    440.533333          6.0  \n18261.0         99.44     224.80     324.24    162.120000          2.0  \n18262.0        149.48     149.48     149.48    149.480000          1.0  \n18263.0        307.60     503.80    1213.16    404.386667          3.0  \n18265.0        312.96     488.55     801.51    400.755000          2.0  \n18268.0         25.50      25.50      25.50     25.500000          1.0  \n18269.0        168.60     168.60     168.60    168.600000          1.0  \n18270.0        111.95     171.20     283.15    141.575000          2.0  \n18272.0        340.72     753.66    2710.70    542.140000          5.0  \n18273.0         51.00     102.00     153.00     76.500000          2.0  \n18274.0        175.92     175.92     175.92    175.920000          1.0  \n18276.0        335.86     335.86     335.86    335.860000          1.0  \n18277.0        110.38     110.38     110.38    110.380000          1.0  \n18278.0        173.90     173.90     173.90    173.900000          1.0  \n18280.0        180.60     180.60     180.60    180.600000          1.0  \n18281.0         80.82      80.82      80.82     80.820000          1.0  \n18282.0        100.21     100.21     100.21    100.210000          1.0  \n18283.0          1.95     313.65    1886.88    125.792000         15.0  \n18287.0         70.68    1001.32    1837.28    612.426667          3.0  \n\n[4298 rows x 9 columns]",
            "text/html": "<div>\n<table border=\"1\" class=\"dataframe\">\n  <thead>\n    <tr style=\"text-align: right;\">\n      <th></th>\n      <th>invoicedate_min</th>\n      <th>invoicedate_max</th>\n      <th>invoicedate_purchase_duration</th>\n      <th>invoicedate_purchase_frequency</th>\n      <th>sales_min</th>\n      <th>sales_max</th>\n      <th>sales_sum</th>\n      <th>sales_avg</th>\n      <th>sales_count</th>\n    </tr>\n    <tr>\n      <th>CustomerID</th>\n      <th></th>\n      <th></th>\n      <th></th>\n      <th></th>\n      <th></th>\n      <th></th>\n      <th></th>\n      <th></th>\n      <th></th>\n    </tr>\n  </thead>\n  <tbody>\n    <tr>\n      <th>12346.0</th>\n      <td>2011-01-18 10:01:00</td>\n      <td>2011-01-18 10:01:00</td>\n      <td>0</td>\n      <td>0</td>\n      <td>77183.60</td>\n      <td>77183.60</td>\n      <td>77183.60</td>\n      <td>77183.600000</td>\n      <td>1.0</td>\n    </tr>\n    <tr>\n      <th>12347.0</th>\n      <td>2010-12-07 14:57:00</td>\n      <td>2011-10-31 12:25:00</td>\n      <td>327</td>\n      <td>54</td>\n      <td>382.52</td>\n      <td>1294.32</td>\n      <td>4085.18</td>\n      <td>680.863333</td>\n      <td>6.0</td>\n    </tr>\n    <tr>\n      <th>12348.0</th>\n      <td>2010-12-16 19:09:00</td>\n      <td>2011-09-25 13:13:00</td>\n      <td>282</td>\n      <td>70</td>\n      <td>227.44</td>\n      <td>892.80</td>\n      <td>1797.24</td>\n      <td>449.310000</td>\n      <td>4.0</td>\n    </tr>\n    <tr>\n      <th>12349.0</th>\n      <td>2011-11-21 09:51:00</td>\n      <td>2011-11-21 09:51:00</td>\n      <td>0</td>\n      <td>0</td>\n      <td>1757.55</td>\n      <td>1757.55</td>\n      <td>1757.55</td>\n      <td>1757.550000</td>\n      <td>1.0</td>\n    </tr>\n    <tr>\n      <th>12350.0</th>\n      <td>2011-02-02 16:01:00</td>\n      <td>2011-02-02 16:01:00</td>\n      <td>0</td>\n      <td>0</td>\n      <td>334.40</td>\n      <td>334.40</td>\n      <td>334.40</td>\n      <td>334.400000</td>\n      <td>1.0</td>\n    </tr>\n    <tr>\n      <th>12352.0</th>\n      <td>2011-02-16 12:33:00</td>\n      <td>2011-11-03 14:37:00</td>\n      <td>260</td>\n      <td>32</td>\n      <td>120.33</td>\n      <td>840.30</td>\n      <td>2506.04</td>\n      <td>313.255000</td>\n      <td>8.0</td>\n    </tr>\n    <tr>\n      <th>12353.0</th>\n      <td>2011-05-19 17:47:00</td>\n      <td>2011-05-19 17:47:00</td>\n      <td>0</td>\n      <td>0</td>\n      <td>89.00</td>\n      <td>89.00</td>\n      <td>89.00</td>\n      <td>89.000000</td>\n      <td>1.0</td>\n    </tr>\n    <tr>\n      <th>12354.0</th>\n      <td>2011-04-21 13:11:00</td>\n      <td>2011-04-21 13:11:00</td>\n      <td>0</td>\n      <td>0</td>\n      <td>1079.40</td>\n      <td>1079.40</td>\n      <td>1079.40</td>\n      <td>1079.400000</td>\n      <td>1.0</td>\n    </tr>\n    <tr>\n      <th>12355.0</th>\n      <td>2011-05-09 13:49:00</td>\n      <td>2011-05-09 13:49:00</td>\n      <td>0</td>\n      <td>0</td>\n      <td>459.40</td>\n      <td>459.40</td>\n      <td>459.40</td>\n      <td>459.400000</td>\n      <td>1.0</td>\n    </tr>\n    <tr>\n      <th>12356.0</th>\n      <td>2011-01-18 09:50:00</td>\n      <td>2011-11-17 08:40:00</td>\n      <td>302</td>\n      <td>100</td>\n      <td>58.35</td>\n      <td>2271.62</td>\n      <td>2811.43</td>\n      <td>937.143333</td>\n      <td>3.0</td>\n    </tr>\n    <tr>\n      <th>12357.0</th>\n      <td>2011-11-06 16:07:00</td>\n      <td>2011-11-06 16:07:00</td>\n      <td>0</td>\n      <td>0</td>\n      <td>6207.67</td>\n      <td>6207.67</td>\n      <td>6207.67</td>\n      <td>6207.670000</td>\n      <td>1.0</td>\n    </tr>\n    <tr>\n      <th>12358.0</th>\n      <td>2011-07-12 10:04:00</td>\n      <td>2011-07-12 10:04:00</td>\n      <td>0</td>\n      <td>0</td>\n      <td>484.86</td>\n      <td>484.86</td>\n      <td>484.86</td>\n      <td>484.860000</td>\n      <td>1.0</td>\n    </tr>\n    <tr>\n      <th>12359.0</th>\n      <td>2011-01-12 12:43:00</td>\n      <td>2011-10-13 12:47:00</td>\n      <td>274</td>\n      <td>68</td>\n      <td>547.50</td>\n      <td>2876.85</td>\n      <td>6372.58</td>\n      <td>1593.145000</td>\n      <td>4.0</td>\n    </tr>\n    <tr>\n      <th>12360.0</th>\n      <td>2011-05-23 09:43:00</td>\n      <td>2011-10-18 15:22:00</td>\n      <td>148</td>\n      <td>49</td>\n      <td>534.70</td>\n      <td>1083.58</td>\n      <td>2662.06</td>\n      <td>887.353333</td>\n      <td>3.0</td>\n    </tr>\n    <tr>\n      <th>12361.0</th>\n      <td>2011-02-25 13:51:00</td>\n      <td>2011-02-25 13:51:00</td>\n      <td>0</td>\n      <td>0</td>\n      <td>189.90</td>\n      <td>189.90</td>\n      <td>189.90</td>\n      <td>189.900000</td>\n      <td>1.0</td>\n    </tr>\n    <tr>\n      <th>12362.0</th>\n      <td>2011-02-17 10:30:00</td>\n      <td>2011-11-04 09:07:00</td>\n      <td>259</td>\n      <td>28</td>\n      <td>303.76</td>\n      <td>829.99</td>\n      <td>4697.19</td>\n      <td>521.910000</td>\n      <td>9.0</td>\n    </tr>\n    <tr>\n      <th>12363.0</th>\n      <td>2011-04-11 13:29:00</td>\n      <td>2011-08-22 10:18:00</td>\n      <td>132</td>\n      <td>66</td>\n      <td>252.90</td>\n      <td>299.10</td>\n      <td>552.00</td>\n      <td>276.000000</td>\n      <td>2.0</td>\n    </tr>\n    <tr>\n      <th>12364.0</th>\n      <td>2011-08-19 15:24:00</td>\n      <td>2011-10-30 15:43:00</td>\n      <td>72</td>\n      <td>24</td>\n      <td>79.80</td>\n      <td>623.92</td>\n      <td>1002.78</td>\n      <td>334.260000</td>\n      <td>3.0</td>\n    </tr>\n    <tr>\n      <th>12365.0</th>\n      <td>2011-02-21 13:51:00</td>\n      <td>2011-02-21 14:04:00</td>\n      <td>0</td>\n      <td>0</td>\n      <td>320.69</td>\n      <td>320.69</td>\n      <td>641.38</td>\n      <td>320.690000</td>\n      <td>2.0</td>\n    </tr>\n    <tr>\n      <th>12370.0</th>\n      <td>2010-12-14 12:58:00</td>\n      <td>2011-10-19 14:51:00</td>\n      <td>309</td>\n      <td>77</td>\n      <td>277.20</td>\n      <td>1590.82</td>\n      <td>3545.69</td>\n      <td>886.422500</td>\n      <td>4.0</td>\n    </tr>\n    <tr>\n      <th>12371.0</th>\n      <td>2011-10-11 10:43:00</td>\n      <td>2011-10-26 10:16:00</td>\n      <td>14</td>\n      <td>7</td>\n      <td>360.00</td>\n      <td>1527.96</td>\n      <td>1887.96</td>\n      <td>943.980000</td>\n      <td>2.0</td>\n    </tr>\n    <tr>\n      <th>12372.0</th>\n      <td>2011-02-16 12:46:00</td>\n      <td>2011-09-29 12:12:00</td>\n      <td>224</td>\n      <td>74</td>\n      <td>383.12</td>\n      <td>515.70</td>\n      <td>1298.04</td>\n      <td>432.680000</td>\n      <td>3.0</td>\n    </tr>\n    <tr>\n      <th>12373.0</th>\n      <td>2011-02-01 13:10:00</td>\n      <td>2011-02-01 13:10:00</td>\n      <td>0</td>\n      <td>0</td>\n      <td>364.60</td>\n      <td>364.60</td>\n      <td>364.60</td>\n      <td>364.600000</td>\n      <td>1.0</td>\n    </tr>\n    <tr>\n      <th>12374.0</th>\n      <td>2011-11-14 15:37:00</td>\n      <td>2011-11-14 15:37:00</td>\n      <td>0</td>\n      <td>0</td>\n      <td>742.93</td>\n      <td>742.93</td>\n      <td>742.93</td>\n      <td>742.930000</td>\n      <td>1.0</td>\n    </tr>\n    <tr>\n      <th>12375.0</th>\n      <td>2011-09-02 14:23:00</td>\n      <td>2011-11-29 10:36:00</td>\n      <td>87</td>\n      <td>43</td>\n      <td>227.20</td>\n      <td>230.30</td>\n      <td>457.50</td>\n      <td>228.750000</td>\n      <td>2.0</td>\n    </tr>\n    <tr>\n      <th>12377.0</th>\n      <td>2010-12-20 09:37:00</td>\n      <td>2011-01-28 15:45:00</td>\n      <td>39</td>\n      <td>19</td>\n      <td>626.60</td>\n      <td>1001.52</td>\n      <td>1628.12</td>\n      <td>814.060000</td>\n      <td>2.0</td>\n    </tr>\n    <tr>\n      <th>12378.0</th>\n      <td>2011-08-02 10:34:00</td>\n      <td>2011-08-02 10:34:00</td>\n      <td>0</td>\n      <td>0</td>\n      <td>4008.62</td>\n      <td>4008.62</td>\n      <td>4008.62</td>\n      <td>4008.620000</td>\n      <td>1.0</td>\n    </tr>\n    <tr>\n      <th>12379.0</th>\n      <td>2011-06-22 16:32:00</td>\n      <td>2011-09-19 10:09:00</td>\n      <td>88</td>\n      <td>44</td>\n      <td>392.40</td>\n      <td>459.84</td>\n      <td>852.24</td>\n      <td>426.120000</td>\n      <td>2.0</td>\n    </tr>\n    <tr>\n      <th>12380.0</th>\n      <td>2011-06-07 09:49:00</td>\n      <td>2011-11-18 11:27:00</td>\n      <td>164</td>\n      <td>41</td>\n      <td>450.86</td>\n      <td>1040.39</td>\n      <td>2724.81</td>\n      <td>681.202500</td>\n      <td>4.0</td>\n    </tr>\n    <tr>\n      <th>12381.0</th>\n      <td>2011-08-12 09:57:00</td>\n      <td>2011-11-06 13:36:00</td>\n      <td>86</td>\n      <td>21</td>\n      <td>4.50</td>\n      <td>1268.74</td>\n      <td>1698.30</td>\n      <td>424.575000</td>\n      <td>4.0</td>\n    </tr>\n    <tr>\n      <th>...</th>\n      <td>...</td>\n      <td>...</td>\n      <td>...</td>\n      <td>...</td>\n      <td>...</td>\n      <td>...</td>\n      <td>...</td>\n      <td>...</td>\n      <td>...</td>\n    </tr>\n    <tr>\n      <th>18242.0</th>\n      <td>2011-05-10 11:20:00</td>\n      <td>2011-09-28 13:43:00</td>\n      <td>141</td>\n      <td>35</td>\n      <td>312.92</td>\n      <td>1225.49</td>\n      <td>2232.49</td>\n      <td>558.122500</td>\n      <td>4.0</td>\n    </tr>\n    <tr>\n      <th>18245.0</th>\n      <td>2010-12-19 14:58:00</td>\n      <td>2011-07-13 14:29:00</td>\n      <td>205</td>\n      <td>34</td>\n      <td>35.60</td>\n      <td>439.18</td>\n      <td>1672.81</td>\n      <td>278.801667</td>\n      <td>6.0</td>\n    </tr>\n    <tr>\n      <th>18246.0</th>\n      <td>2011-04-20 13:55:00</td>\n      <td>2011-11-16 11:49:00</td>\n      <td>209</td>\n      <td>104</td>\n      <td>232.90</td>\n      <td>363.20</td>\n      <td>596.10</td>\n      <td>298.050000</td>\n      <td>2.0</td>\n    </tr>\n    <tr>\n      <th>18248.0</th>\n      <td>2011-06-06 13:18:00</td>\n      <td>2011-08-09 10:19:00</td>\n      <td>63</td>\n      <td>31</td>\n      <td>307.56</td>\n      <td>496.46</td>\n      <td>804.02</td>\n      <td>402.010000</td>\n      <td>2.0</td>\n    </tr>\n    <tr>\n      <th>18249.0</th>\n      <td>2011-11-22 15:07:00</td>\n      <td>2011-11-22 15:07:00</td>\n      <td>0</td>\n      <td>0</td>\n      <td>95.34</td>\n      <td>95.34</td>\n      <td>95.34</td>\n      <td>95.340000</td>\n      <td>1.0</td>\n    </tr>\n    <tr>\n      <th>18250.0</th>\n      <td>2011-02-02 13:16:00</td>\n      <td>2011-02-02 13:16:00</td>\n      <td>0</td>\n      <td>0</td>\n      <td>349.27</td>\n      <td>349.27</td>\n      <td>349.27</td>\n      <td>349.270000</td>\n      <td>1.0</td>\n    </tr>\n    <tr>\n      <th>18251.0</th>\n      <td>2011-09-13 15:03:00</td>\n      <td>2011-09-13 15:03:00</td>\n      <td>0</td>\n      <td>0</td>\n      <td>4314.72</td>\n      <td>4314.72</td>\n      <td>4314.72</td>\n      <td>4314.720000</td>\n      <td>1.0</td>\n    </tr>\n    <tr>\n      <th>18252.0</th>\n      <td>2011-06-21 11:47:00</td>\n      <td>2011-10-20 12:43:00</td>\n      <td>121</td>\n      <td>60</td>\n      <td>69.90</td>\n      <td>456.77</td>\n      <td>526.67</td>\n      <td>263.335000</td>\n      <td>2.0</td>\n    </tr>\n    <tr>\n      <th>18255.0</th>\n      <td>2011-09-11 13:16:00</td>\n      <td>2011-09-11 13:16:00</td>\n      <td>0</td>\n      <td>0</td>\n      <td>103.30</td>\n      <td>103.30</td>\n      <td>103.30</td>\n      <td>103.300000</td>\n      <td>1.0</td>\n    </tr>\n    <tr>\n      <th>18257.0</th>\n      <td>2011-02-16 15:13:00</td>\n      <td>2011-10-31 14:48:00</td>\n      <td>256</td>\n      <td>32</td>\n      <td>14.85</td>\n      <td>627.27</td>\n      <td>2337.63</td>\n      <td>292.203750</td>\n      <td>8.0</td>\n    </tr>\n    <tr>\n      <th>18259.0</th>\n      <td>2010-12-08 13:38:00</td>\n      <td>2011-11-15 12:34:00</td>\n      <td>341</td>\n      <td>113</td>\n      <td>376.30</td>\n      <td>1070.40</td>\n      <td>2338.60</td>\n      <td>779.533333</td>\n      <td>3.0</td>\n    </tr>\n    <tr>\n      <th>18260.0</th>\n      <td>2010-12-16 18:23:00</td>\n      <td>2011-06-20 12:37:00</td>\n      <td>185</td>\n      <td>30</td>\n      <td>230.70</td>\n      <td>557.07</td>\n      <td>2643.20</td>\n      <td>440.533333</td>\n      <td>6.0</td>\n    </tr>\n    <tr>\n      <th>18261.0</th>\n      <td>2011-09-05 09:34:00</td>\n      <td>2011-10-27 15:36:00</td>\n      <td>52</td>\n      <td>26</td>\n      <td>99.44</td>\n      <td>224.80</td>\n      <td>324.24</td>\n      <td>162.120000</td>\n      <td>2.0</td>\n    </tr>\n    <tr>\n      <th>18262.0</th>\n      <td>2011-07-22 16:04:00</td>\n      <td>2011-07-22 16:04:00</td>\n      <td>0</td>\n      <td>0</td>\n      <td>149.48</td>\n      <td>149.48</td>\n      <td>149.48</td>\n      <td>149.480000</td>\n      <td>1.0</td>\n    </tr>\n    <tr>\n      <th>18263.0</th>\n      <td>2011-04-01 11:48:00</td>\n      <td>2011-11-14 09:00:00</td>\n      <td>226</td>\n      <td>75</td>\n      <td>307.60</td>\n      <td>503.80</td>\n      <td>1213.16</td>\n      <td>404.386667</td>\n      <td>3.0</td>\n    </tr>\n    <tr>\n      <th>18265.0</th>\n      <td>2011-07-04 15:26:00</td>\n      <td>2011-09-28 14:10:00</td>\n      <td>85</td>\n      <td>42</td>\n      <td>312.96</td>\n      <td>488.55</td>\n      <td>801.51</td>\n      <td>400.755000</td>\n      <td>2.0</td>\n    </tr>\n    <tr>\n      <th>18268.0</th>\n      <td>2011-07-28 19:13:00</td>\n      <td>2011-07-28 19:13:00</td>\n      <td>0</td>\n      <td>0</td>\n      <td>25.50</td>\n      <td>25.50</td>\n      <td>25.50</td>\n      <td>25.500000</td>\n      <td>1.0</td>\n    </tr>\n    <tr>\n      <th>18269.0</th>\n      <td>2010-12-08 13:53:00</td>\n      <td>2010-12-08 13:53:00</td>\n      <td>0</td>\n      <td>0</td>\n      <td>168.60</td>\n      <td>168.60</td>\n      <td>168.60</td>\n      <td>168.600000</td>\n      <td>1.0</td>\n    </tr>\n    <tr>\n      <th>18270.0</th>\n      <td>2011-03-18 12:41:00</td>\n      <td>2011-11-01 13:57:00</td>\n      <td>228</td>\n      <td>114</td>\n      <td>111.95</td>\n      <td>171.20</td>\n      <td>283.15</td>\n      <td>141.575000</td>\n      <td>2.0</td>\n    </tr>\n    <tr>\n      <th>18272.0</th>\n      <td>2011-04-07 09:35:00</td>\n      <td>2011-10-25 11:52:00</td>\n      <td>201</td>\n      <td>40</td>\n      <td>340.72</td>\n      <td>753.66</td>\n      <td>2710.70</td>\n      <td>542.140000</td>\n      <td>5.0</td>\n    </tr>\n    <tr>\n      <th>18273.0</th>\n      <td>2011-03-27 11:22:00</td>\n      <td>2011-09-05 11:27:00</td>\n      <td>162</td>\n      <td>81</td>\n      <td>51.00</td>\n      <td>102.00</td>\n      <td>153.00</td>\n      <td>76.500000</td>\n      <td>2.0</td>\n    </tr>\n    <tr>\n      <th>18274.0</th>\n      <td>2011-11-09 17:03:00</td>\n      <td>2011-11-09 17:03:00</td>\n      <td>0</td>\n      <td>0</td>\n      <td>175.92</td>\n      <td>175.92</td>\n      <td>175.92</td>\n      <td>175.920000</td>\n      <td>1.0</td>\n    </tr>\n    <tr>\n      <th>18276.0</th>\n      <td>2011-10-27 10:54:00</td>\n      <td>2011-10-27 10:54:00</td>\n      <td>0</td>\n      <td>0</td>\n      <td>335.86</td>\n      <td>335.86</td>\n      <td>335.86</td>\n      <td>335.860000</td>\n      <td>1.0</td>\n    </tr>\n    <tr>\n      <th>18277.0</th>\n      <td>2011-10-12 15:22:00</td>\n      <td>2011-10-12 15:22:00</td>\n      <td>0</td>\n      <td>0</td>\n      <td>110.38</td>\n      <td>110.38</td>\n      <td>110.38</td>\n      <td>110.380000</td>\n      <td>1.0</td>\n    </tr>\n    <tr>\n      <th>18278.0</th>\n      <td>2011-09-27 11:58:00</td>\n      <td>2011-09-27 11:58:00</td>\n      <td>0</td>\n      <td>0</td>\n      <td>173.90</td>\n      <td>173.90</td>\n      <td>173.90</td>\n      <td>173.900000</td>\n      <td>1.0</td>\n    </tr>\n    <tr>\n      <th>18280.0</th>\n      <td>2011-03-07 09:52:00</td>\n      <td>2011-03-07 09:52:00</td>\n      <td>0</td>\n      <td>0</td>\n      <td>180.60</td>\n      <td>180.60</td>\n      <td>180.60</td>\n      <td>180.600000</td>\n      <td>1.0</td>\n    </tr>\n    <tr>\n      <th>18281.0</th>\n      <td>2011-06-12 10:53:00</td>\n      <td>2011-06-12 10:53:00</td>\n      <td>0</td>\n      <td>0</td>\n      <td>80.82</td>\n      <td>80.82</td>\n      <td>80.82</td>\n      <td>80.820000</td>\n      <td>1.0</td>\n    </tr>\n    <tr>\n      <th>18282.0</th>\n      <td>2011-08-05 13:35:00</td>\n      <td>2011-08-05 13:35:00</td>\n      <td>0</td>\n      <td>0</td>\n      <td>100.21</td>\n      <td>100.21</td>\n      <td>100.21</td>\n      <td>100.210000</td>\n      <td>1.0</td>\n    </tr>\n    <tr>\n      <th>18283.0</th>\n      <td>2011-01-06 14:14:00</td>\n      <td>2011-11-30 12:59:00</td>\n      <td>327</td>\n      <td>21</td>\n      <td>1.95</td>\n      <td>313.65</td>\n      <td>1886.88</td>\n      <td>125.792000</td>\n      <td>15.0</td>\n    </tr>\n    <tr>\n      <th>18287.0</th>\n      <td>2011-05-22 10:39:00</td>\n      <td>2011-10-28 09:29:00</td>\n      <td>158</td>\n      <td>52</td>\n      <td>70.68</td>\n      <td>1001.32</td>\n      <td>1837.28</td>\n      <td>612.426667</td>\n      <td>3.0</td>\n    </tr>\n  </tbody>\n</table>\n<p>4298 rows × 9 columns</p>\n</div>"
          },
          "metadata": {}
        }
      ]
    },
    {
      "metadata": {
        "trusted": true
      },
      "cell_type": "code",
      "source": "summary_df.shape",
      "execution_count": 30,
      "outputs": [
        {
          "output_type": "execute_result",
          "execution_count": 30,
          "data": {
            "text/plain": "(4298, 9)"
          },
          "metadata": {}
        }
      ]
    },
    {
      "metadata": {
        "trusted": true
      },
      "cell_type": "code",
      "source": "summary_df = summary_df.loc[summary_df['invoicedate_purchase_duration'] > 0]",
      "execution_count": 31,
      "outputs": []
    },
    {
      "metadata": {
        "trusted": true
      },
      "cell_type": "code",
      "source": "summary_df.shape",
      "execution_count": 32,
      "outputs": [
        {
          "output_type": "execute_result",
          "execution_count": 32,
          "data": {
            "text/plain": "(2692, 9)"
          },
          "metadata": {}
        }
      ]
    },
    {
      "metadata": {
        "trusted": true
      },
      "cell_type": "code",
      "source": "ax = summary_df.groupby('sales_count').count()['sales_avg'][:20].plot(\n    kind='bar', \n    color='skyblue',\n    figsize=(12,7), \n    grid=True\n)\n\nax.set_ylabel('count')\n\nplt.show()",
      "execution_count": 33,
      "outputs": [
        {
          "output_type": "display_data",
          "data": {
            "image/png": "[encoded data removed]",
            "text/plain": "<matplotlib.figure.Figure at 0x7f2a546dc710>"
          },
          "metadata": {}
        }
      ]
    },
    {
      "metadata": {
        "scrolled": true,
        "trusted": true
      },
      "cell_type": "code",
      "source": "summary_df['sales_count'].describe()",
      "execution_count": 34,
      "outputs": [
        {
          "output_type": "execute_result",
          "execution_count": 34,
          "data": {
            "text/plain": "count    2692.000000\nmean        5.971025\nstd         8.878128\nmin         2.000000\n25%         2.000000\n50%         4.000000\n75%         6.000000\nmax       201.000000\nName: sales_count, dtype: float64"
          },
          "metadata": {}
        }
      ]
    },
    {
      "metadata": {
        "trusted": true
      },
      "cell_type": "code",
      "source": "summary_df['sales_avg'].describe()",
      "execution_count": 35,
      "outputs": [
        {
          "output_type": "execute_result",
          "execution_count": 35,
          "data": {
            "text/plain": "count     2692.000000\nmean       391.458687\nstd        465.584404\nmin          3.450000\n25%        197.661000\n50%        306.043333\n75%        444.524000\nmax      14844.766667\nName: sales_avg, dtype: float64"
          },
          "metadata": {}
        }
      ]
    },
    {
      "metadata": {
        "trusted": true
      },
      "cell_type": "code",
      "source": "ax = summary_df['invoicedate_purchase_frequency'].hist(\n    bins=20,\n    color='skyblue',\n    rwidth=0.7,\n    figsize=(12,7)\n)\n\nax.set_xlabel('avg. number of days between purchases')\nax.set_ylabel('count')\n\nplt.show()",
      "execution_count": 36,
      "outputs": [
        {
          "output_type": "display_data",
          "data": {
            "image/png": "[encoded data removed]",
            "text/plain": "<matplotlib.figure.Figure at 0x7f2a546dc780>"
          },
          "metadata": {}
        }
      ]
    },
    {
      "metadata": {
        "scrolled": true,
        "trusted": true
      },
      "cell_type": "code",
      "source": "summary_df['invoicedate_purchase_frequency'].describe()",
      "execution_count": 37,
      "outputs": [
        {
          "output_type": "execute_result",
          "execution_count": 37,
          "data": {
            "text/plain": "count    2692.000000\nmean       46.635958\nstd        32.426856\nmin         0.000000\n25%        23.000000\n50%        40.000000\n75%        62.000000\nmax       182.000000\nName: invoicedate_purchase_frequency, dtype: float64"
          },
          "metadata": {}
        }
      ]
    },
    {
      "metadata": {
        "trusted": true
      },
      "cell_type": "code",
      "source": "summary_df['invoicedate_purchase_duration'].describe()",
      "execution_count": 38,
      "outputs": [
        {
          "output_type": "execute_result",
          "execution_count": 38,
          "data": {
            "text/plain": "count    2692.000000\nmean      199.720282\nstd       107.816559\nmin         1.000000\n25%       107.000000\n50%       209.000000\n75%       296.000000\nmax       364.000000\nName: invoicedate_purchase_duration, dtype: float64"
          },
          "metadata": {}
        }
      ]
    },
    {
      "metadata": {},
      "cell_type": "markdown",
      "source": "# 4. Predicting 3-Month CLV"
    },
    {
      "metadata": {},
      "cell_type": "markdown",
      "source": "## 4.1. Data Preparation"
    },
    {
      "metadata": {
        "trusted": true
      },
      "cell_type": "code",
      "source": "clv_freq = '3M'",
      "execution_count": 39,
      "outputs": []
    },
    {
      "metadata": {
        "trusted": true
      },
      "cell_type": "code",
      "source": "data_df = orders_df.reset_index().groupby([\n    'CustomerID',\n    pd.Grouper(key='InvoiceDate', freq=clv_freq)\n]).agg({\n    'Sales': [sum, groupby_mean, groupby_count],\n})",
      "execution_count": 40,
      "outputs": []
    },
    {
      "metadata": {
        "trusted": true
      },
      "cell_type": "code",
      "source": "data_df.columns = ['_'.join(col).lower() for col in data_df.columns]",
      "execution_count": 41,
      "outputs": []
    },
    {
      "metadata": {
        "scrolled": true,
        "trusted": true
      },
      "cell_type": "code",
      "source": "data_df = data_df.reset_index()",
      "execution_count": 42,
      "outputs": []
    },
    {
      "metadata": {
        "trusted": true
      },
      "cell_type": "code",
      "source": "data_df.head(10)",
      "execution_count": 43,
      "outputs": [
        {
          "output_type": "execute_result",
          "execution_count": 43,
          "data": {
            "text/plain": "   CustomerID InvoiceDate  sales_sum  sales_avg  sales_count\n0     12346.0  2011-03-31   77183.60  77183.600          1.0\n1     12347.0  2010-12-31     711.79    711.790          1.0\n2     12347.0  2011-03-31     475.39    475.390          1.0\n3     12347.0  2011-06-30    1018.77    509.385          2.0\n4     12347.0  2011-09-30     584.91    584.910          1.0\n5     12347.0  2011-12-31    1294.32   1294.320          1.0\n6     12348.0  2010-12-31     892.80    892.800          1.0\n7     12348.0  2011-03-31     227.44    227.440          1.0\n8     12348.0  2011-06-30     367.00    367.000          1.0\n9     12348.0  2011-09-30     310.00    310.000          1.0",
            "text/html": "<div>\n<table border=\"1\" class=\"dataframe\">\n  <thead>\n    <tr style=\"text-align: right;\">\n      <th></th>\n      <th>CustomerID</th>\n      <th>InvoiceDate</th>\n      <th>sales_sum</th>\n      <th>sales_avg</th>\n      <th>sales_count</th>\n    </tr>\n  </thead>\n  <tbody>\n    <tr>\n      <th>0</th>\n      <td>12346.0</td>\n      <td>2011-03-31</td>\n      <td>77183.60</td>\n      <td>77183.600</td>\n      <td>1.0</td>\n    </tr>\n    <tr>\n      <th>1</th>\n      <td>12347.0</td>\n      <td>2010-12-31</td>\n      <td>711.79</td>\n      <td>711.790</td>\n      <td>1.0</td>\n    </tr>\n    <tr>\n      <th>2</th>\n      <td>12347.0</td>\n      <td>2011-03-31</td>\n      <td>475.39</td>\n      <td>475.390</td>\n      <td>1.0</td>\n    </tr>\n    <tr>\n      <th>3</th>\n      <td>12347.0</td>\n      <td>2011-06-30</td>\n      <td>1018.77</td>\n      <td>509.385</td>\n      <td>2.0</td>\n    </tr>\n    <tr>\n      <th>4</th>\n      <td>12347.0</td>\n      <td>2011-09-30</td>\n      <td>584.91</td>\n      <td>584.910</td>\n      <td>1.0</td>\n    </tr>\n    <tr>\n      <th>5</th>\n      <td>12347.0</td>\n      <td>2011-12-31</td>\n      <td>1294.32</td>\n      <td>1294.320</td>\n      <td>1.0</td>\n    </tr>\n    <tr>\n      <th>6</th>\n      <td>12348.0</td>\n      <td>2010-12-31</td>\n      <td>892.80</td>\n      <td>892.800</td>\n      <td>1.0</td>\n    </tr>\n    <tr>\n      <th>7</th>\n      <td>12348.0</td>\n      <td>2011-03-31</td>\n      <td>227.44</td>\n      <td>227.440</td>\n      <td>1.0</td>\n    </tr>\n    <tr>\n      <th>8</th>\n      <td>12348.0</td>\n      <td>2011-06-30</td>\n      <td>367.00</td>\n      <td>367.000</td>\n      <td>1.0</td>\n    </tr>\n    <tr>\n      <th>9</th>\n      <td>12348.0</td>\n      <td>2011-09-30</td>\n      <td>310.00</td>\n      <td>310.000</td>\n      <td>1.0</td>\n    </tr>\n  </tbody>\n</table>\n</div>"
          },
          "metadata": {}
        }
      ]
    },
    {
      "metadata": {
        "trusted": true
      },
      "cell_type": "code",
      "source": "date_month_map = {\n    str(x)[:10]: 'M_%s' % (i+1) for i, x in enumerate(\n        sorted(data_df.reset_index()['InvoiceDate'].unique(), reverse=True)\n    )\n}",
      "execution_count": 44,
      "outputs": []
    },
    {
      "metadata": {
        "trusted": true
      },
      "cell_type": "code",
      "source": "data_df['M'] = data_df['InvoiceDate'].apply(lambda x: date_month_map[str(x)[:10]])",
      "execution_count": 45,
      "outputs": []
    },
    {
      "metadata": {
        "trusted": true
      },
      "cell_type": "code",
      "source": "date_month_map",
      "execution_count": 46,
      "outputs": [
        {
          "output_type": "execute_result",
          "execution_count": 46,
          "data": {
            "text/plain": "{'2010-12-31': 'M_5',\n '2011-03-31': 'M_4',\n '2011-06-30': 'M_3',\n '2011-09-30': 'M_2',\n '2011-12-31': 'M_1'}"
          },
          "metadata": {}
        }
      ]
    },
    {
      "metadata": {
        "trusted": true
      },
      "cell_type": "code",
      "source": "data_df.head(10)",
      "execution_count": 47,
      "outputs": [
        {
          "output_type": "execute_result",
          "execution_count": 47,
          "data": {
            "text/plain": "   CustomerID InvoiceDate  sales_sum  sales_avg  sales_count    M\n0     12346.0  2011-03-31   77183.60  77183.600          1.0  M_4\n1     12347.0  2010-12-31     711.79    711.790          1.0  M_5\n2     12347.0  2011-03-31     475.39    475.390          1.0  M_4\n3     12347.0  2011-06-30    1018.77    509.385          2.0  M_3\n4     12347.0  2011-09-30     584.91    584.910          1.0  M_2\n5     12347.0  2011-12-31    1294.32   1294.320          1.0  M_1\n6     12348.0  2010-12-31     892.80    892.800          1.0  M_5\n7     12348.0  2011-03-31     227.44    227.440          1.0  M_4\n8     12348.0  2011-06-30     367.00    367.000          1.0  M_3\n9     12348.0  2011-09-30     310.00    310.000          1.0  M_2",
            "text/html": "<div>\n<table border=\"1\" class=\"dataframe\">\n  <thead>\n    <tr style=\"text-align: right;\">\n      <th></th>\n      <th>CustomerID</th>\n      <th>InvoiceDate</th>\n      <th>sales_sum</th>\n      <th>sales_avg</th>\n      <th>sales_count</th>\n      <th>M</th>\n    </tr>\n  </thead>\n  <tbody>\n    <tr>\n      <th>0</th>\n      <td>12346.0</td>\n      <td>2011-03-31</td>\n      <td>77183.60</td>\n      <td>77183.600</td>\n      <td>1.0</td>\n      <td>M_4</td>\n    </tr>\n    <tr>\n      <th>1</th>\n      <td>12347.0</td>\n      <td>2010-12-31</td>\n      <td>711.79</td>\n      <td>711.790</td>\n      <td>1.0</td>\n      <td>M_5</td>\n    </tr>\n    <tr>\n      <th>2</th>\n      <td>12347.0</td>\n      <td>2011-03-31</td>\n      <td>475.39</td>\n      <td>475.390</td>\n      <td>1.0</td>\n      <td>M_4</td>\n    </tr>\n    <tr>\n      <th>3</th>\n      <td>12347.0</td>\n      <td>2011-06-30</td>\n      <td>1018.77</td>\n      <td>509.385</td>\n      <td>2.0</td>\n      <td>M_3</td>\n    </tr>\n    <tr>\n      <th>4</th>\n      <td>12347.0</td>\n      <td>2011-09-30</td>\n      <td>584.91</td>\n      <td>584.910</td>\n      <td>1.0</td>\n      <td>M_2</td>\n    </tr>\n    <tr>\n      <th>5</th>\n      <td>12347.0</td>\n      <td>2011-12-31</td>\n      <td>1294.32</td>\n      <td>1294.320</td>\n      <td>1.0</td>\n      <td>M_1</td>\n    </tr>\n    <tr>\n      <th>6</th>\n      <td>12348.0</td>\n      <td>2010-12-31</td>\n      <td>892.80</td>\n      <td>892.800</td>\n      <td>1.0</td>\n      <td>M_5</td>\n    </tr>\n    <tr>\n      <th>7</th>\n      <td>12348.0</td>\n      <td>2011-03-31</td>\n      <td>227.44</td>\n      <td>227.440</td>\n      <td>1.0</td>\n      <td>M_4</td>\n    </tr>\n    <tr>\n      <th>8</th>\n      <td>12348.0</td>\n      <td>2011-06-30</td>\n      <td>367.00</td>\n      <td>367.000</td>\n      <td>1.0</td>\n      <td>M_3</td>\n    </tr>\n    <tr>\n      <th>9</th>\n      <td>12348.0</td>\n      <td>2011-09-30</td>\n      <td>310.00</td>\n      <td>310.000</td>\n      <td>1.0</td>\n      <td>M_2</td>\n    </tr>\n  </tbody>\n</table>\n</div>"
          },
          "metadata": {}
        }
      ]
    },
    {
      "metadata": {},
      "cell_type": "markdown",
      "source": "#### - Building Sample Set"
    },
    {
      "metadata": {
        "trusted": true
      },
      "cell_type": "code",
      "source": "features_df = pd.pivot_table(\n    data_df.loc[data_df['M'] != 'M_1'], \n    values=['sales_sum', 'sales_avg', 'sales_count'], \n    columns='M', \n    index='CustomerID'\n)",
      "execution_count": 48,
      "outputs": []
    },
    {
      "metadata": {
        "trusted": true
      },
      "cell_type": "code",
      "source": "features_df.columns = ['_'.join(col) for col in features_df.columns]",
      "execution_count": 49,
      "outputs": []
    },
    {
      "metadata": {
        "trusted": true
      },
      "cell_type": "code",
      "source": "features_df.shape",
      "execution_count": 50,
      "outputs": [
        {
          "output_type": "execute_result",
          "execution_count": 50,
          "data": {
            "text/plain": "(3616, 12)"
          },
          "metadata": {}
        }
      ]
    },
    {
      "metadata": {
        "trusted": true
      },
      "cell_type": "code",
      "source": "features_df.head(10)",
      "execution_count": 51,
      "outputs": [
        {
          "output_type": "execute_result",
          "execution_count": 51,
          "data": {
            "text/plain": "            sales_sum_M_2  sales_sum_M_3  sales_sum_M_4  sales_sum_M_5  \\\nCustomerID                                                               \n12346.0               NaN            NaN       77183.60            NaN   \n12347.0            584.91        1018.77         475.39         711.79   \n12348.0            310.00         367.00         227.44         892.80   \n12350.0               NaN            NaN         334.40            NaN   \n12352.0            632.50            NaN        1561.81            NaN   \n12353.0               NaN          89.00            NaN            NaN   \n12354.0               NaN        1079.40            NaN            NaN   \n12355.0               NaN         459.40            NaN            NaN   \n12356.0               NaN         481.46        2271.62            NaN   \n12358.0            484.86            NaN            NaN            NaN   \n\n            sales_avg_M_2  sales_avg_M_3  sales_avg_M_4  sales_avg_M_5  \\\nCustomerID                                                               \n12346.0               NaN            NaN      77183.600            NaN   \n12347.0            584.91        509.385        475.390         711.79   \n12348.0            310.00        367.000        227.440         892.80   \n12350.0               NaN            NaN        334.400            NaN   \n12352.0            316.25            NaN        312.362            NaN   \n12353.0               NaN         89.000            NaN            NaN   \n12354.0               NaN       1079.400            NaN            NaN   \n12355.0               NaN        459.400            NaN            NaN   \n12356.0               NaN        481.460       2271.620            NaN   \n12358.0            484.86            NaN            NaN            NaN   \n\n            sales_count_M_2  sales_count_M_3  sales_count_M_4  sales_count_M_5  \nCustomerID                                                                      \n12346.0                 NaN              NaN              1.0              NaN  \n12347.0                 1.0              2.0              1.0              1.0  \n12348.0                 1.0              1.0              1.0              1.0  \n12350.0                 NaN              NaN              1.0              NaN  \n12352.0                 2.0              NaN              5.0              NaN  \n12353.0                 NaN              1.0              NaN              NaN  \n12354.0                 NaN              1.0              NaN              NaN  \n12355.0                 NaN              1.0              NaN              NaN  \n12356.0                 NaN              1.0              1.0              NaN  \n12358.0                 1.0              NaN              NaN              NaN  ",
            "text/html": "<div>\n<table border=\"1\" class=\"dataframe\">\n  <thead>\n    <tr style=\"text-align: right;\">\n      <th></th>\n      <th>sales_sum_M_2</th>\n      <th>sales_sum_M_3</th>\n      <th>sales_sum_M_4</th>\n      <th>sales_sum_M_5</th>\n      <th>sales_avg_M_2</th>\n      <th>sales_avg_M_3</th>\n      <th>sales_avg_M_4</th>\n      <th>sales_avg_M_5</th>\n      <th>sales_count_M_2</th>\n      <th>sales_count_M_3</th>\n      <th>sales_count_M_4</th>\n      <th>sales_count_M_5</th>\n    </tr>\n    <tr>\n      <th>CustomerID</th>\n      <th></th>\n      <th></th>\n      <th></th>\n      <th></th>\n      <th></th>\n      <th></th>\n      <th></th>\n      <th></th>\n      <th></th>\n      <th></th>\n      <th></th>\n      <th></th>\n    </tr>\n  </thead>\n  <tbody>\n    <tr>\n      <th>12346.0</th>\n      <td>NaN</td>\n      <td>NaN</td>\n      <td>77183.60</td>\n      <td>NaN</td>\n      <td>NaN</td>\n      <td>NaN</td>\n      <td>77183.600</td>\n      <td>NaN</td>\n      <td>NaN</td>\n      <td>NaN</td>\n      <td>1.0</td>\n      <td>NaN</td>\n    </tr>\n    <tr>\n      <th>12347.0</th>\n      <td>584.91</td>\n      <td>1018.77</td>\n      <td>475.39</td>\n      <td>711.79</td>\n      <td>584.91</td>\n      <td>509.385</td>\n      <td>475.390</td>\n      <td>711.79</td>\n      <td>1.0</td>\n      <td>2.0</td>\n      <td>1.0</td>\n      <td>1.0</td>\n    </tr>\n    <tr>\n      <th>12348.0</th>\n      <td>310.00</td>\n      <td>367.00</td>\n      <td>227.44</td>\n      <td>892.80</td>\n      <td>310.00</td>\n      <td>367.000</td>\n      <td>227.440</td>\n      <td>892.80</td>\n      <td>1.0</td>\n      <td>1.0</td>\n      <td>1.0</td>\n      <td>1.0</td>\n    </tr>\n    <tr>\n      <th>12350.0</th>\n      <td>NaN</td>\n      <td>NaN</td>\n      <td>334.40</td>\n      <td>NaN</td>\n      <td>NaN</td>\n      <td>NaN</td>\n      <td>334.400</td>\n      <td>NaN</td>\n      <td>NaN</td>\n      <td>NaN</td>\n      <td>1.0</td>\n      <td>NaN</td>\n    </tr>\n    <tr>\n      <th>12352.0</th>\n      <td>632.50</td>\n      <td>NaN</td>\n      <td>1561.81</td>\n      <td>NaN</td>\n      <td>316.25</td>\n      <td>NaN</td>\n      <td>312.362</td>\n      <td>NaN</td>\n      <td>2.0</td>\n      <td>NaN</td>\n      <td>5.0</td>\n      <td>NaN</td>\n    </tr>\n    <tr>\n      <th>12353.0</th>\n      <td>NaN</td>\n      <td>89.00</td>\n      <td>NaN</td>\n      <td>NaN</td>\n      <td>NaN</td>\n      <td>89.000</td>\n      <td>NaN</td>\n      <td>NaN</td>\n      <td>NaN</td>\n      <td>1.0</td>\n      <td>NaN</td>\n      <td>NaN</td>\n    </tr>\n    <tr>\n      <th>12354.0</th>\n      <td>NaN</td>\n      <td>1079.40</td>\n      <td>NaN</td>\n      <td>NaN</td>\n      <td>NaN</td>\n      <td>1079.400</td>\n      <td>NaN</td>\n      <td>NaN</td>\n      <td>NaN</td>\n      <td>1.0</td>\n      <td>NaN</td>\n      <td>NaN</td>\n    </tr>\n    <tr>\n      <th>12355.0</th>\n      <td>NaN</td>\n      <td>459.40</td>\n      <td>NaN</td>\n      <td>NaN</td>\n      <td>NaN</td>\n      <td>459.400</td>\n      <td>NaN</td>\n      <td>NaN</td>\n      <td>NaN</td>\n      <td>1.0</td>\n      <td>NaN</td>\n      <td>NaN</td>\n    </tr>\n    <tr>\n      <th>12356.0</th>\n      <td>NaN</td>\n      <td>481.46</td>\n      <td>2271.62</td>\n      <td>NaN</td>\n      <td>NaN</td>\n      <td>481.460</td>\n      <td>2271.620</td>\n      <td>NaN</td>\n      <td>NaN</td>\n      <td>1.0</td>\n      <td>1.0</td>\n      <td>NaN</td>\n    </tr>\n    <tr>\n      <th>12358.0</th>\n      <td>484.86</td>\n      <td>NaN</td>\n      <td>NaN</td>\n      <td>NaN</td>\n      <td>484.86</td>\n      <td>NaN</td>\n      <td>NaN</td>\n      <td>NaN</td>\n      <td>1.0</td>\n      <td>NaN</td>\n      <td>NaN</td>\n      <td>NaN</td>\n    </tr>\n  </tbody>\n</table>\n</div>"
          },
          "metadata": {}
        }
      ]
    },
    {
      "metadata": {
        "trusted": true
      },
      "cell_type": "code",
      "source": "features_df = features_df.fillna(0)",
      "execution_count": 52,
      "outputs": []
    },
    {
      "metadata": {
        "trusted": true
      },
      "cell_type": "code",
      "source": "features_df.head()",
      "execution_count": 53,
      "outputs": [
        {
          "output_type": "execute_result",
          "execution_count": 53,
          "data": {
            "text/plain": "            sales_sum_M_2  sales_sum_M_3  sales_sum_M_4  sales_sum_M_5  \\\nCustomerID                                                               \n12346.0              0.00           0.00       77183.60           0.00   \n12347.0            584.91        1018.77         475.39         711.79   \n12348.0            310.00         367.00         227.44         892.80   \n12350.0              0.00           0.00         334.40           0.00   \n12352.0            632.50           0.00        1561.81           0.00   \n\n            sales_avg_M_2  sales_avg_M_3  sales_avg_M_4  sales_avg_M_5  \\\nCustomerID                                                               \n12346.0              0.00          0.000      77183.600           0.00   \n12347.0            584.91        509.385        475.390         711.79   \n12348.0            310.00        367.000        227.440         892.80   \n12350.0              0.00          0.000        334.400           0.00   \n12352.0            316.25          0.000        312.362           0.00   \n\n            sales_count_M_2  sales_count_M_3  sales_count_M_4  sales_count_M_5  \nCustomerID                                                                      \n12346.0                 0.0              0.0              1.0              0.0  \n12347.0                 1.0              2.0              1.0              1.0  \n12348.0                 1.0              1.0              1.0              1.0  \n12350.0                 0.0              0.0              1.0              0.0  \n12352.0                 2.0              0.0              5.0              0.0  ",
            "text/html": "<div>\n<table border=\"1\" class=\"dataframe\">\n  <thead>\n    <tr style=\"text-align: right;\">\n      <th></th>\n      <th>sales_sum_M_2</th>\n      <th>sales_sum_M_3</th>\n      <th>sales_sum_M_4</th>\n      <th>sales_sum_M_5</th>\n      <th>sales_avg_M_2</th>\n      <th>sales_avg_M_3</th>\n      <th>sales_avg_M_4</th>\n      <th>sales_avg_M_5</th>\n      <th>sales_count_M_2</th>\n      <th>sales_count_M_3</th>\n      <th>sales_count_M_4</th>\n      <th>sales_count_M_5</th>\n    </tr>\n    <tr>\n      <th>CustomerID</th>\n      <th></th>\n      <th></th>\n      <th></th>\n      <th></th>\n      <th></th>\n      <th></th>\n      <th></th>\n      <th></th>\n      <th></th>\n      <th></th>\n      <th></th>\n      <th></th>\n    </tr>\n  </thead>\n  <tbody>\n    <tr>\n      <th>12346.0</th>\n      <td>0.00</td>\n      <td>0.00</td>\n      <td>77183.60</td>\n      <td>0.00</td>\n      <td>0.00</td>\n      <td>0.000</td>\n      <td>77183.600</td>\n      <td>0.00</td>\n      <td>0.0</td>\n      <td>0.0</td>\n      <td>1.0</td>\n      <td>0.0</td>\n    </tr>\n    <tr>\n      <th>12347.0</th>\n      <td>584.91</td>\n      <td>1018.77</td>\n      <td>475.39</td>\n      <td>711.79</td>\n      <td>584.91</td>\n      <td>509.385</td>\n      <td>475.390</td>\n      <td>711.79</td>\n      <td>1.0</td>\n      <td>2.0</td>\n      <td>1.0</td>\n      <td>1.0</td>\n    </tr>\n    <tr>\n      <th>12348.0</th>\n      <td>310.00</td>\n      <td>367.00</td>\n      <td>227.44</td>\n      <td>892.80</td>\n      <td>310.00</td>\n      <td>367.000</td>\n      <td>227.440</td>\n      <td>892.80</td>\n      <td>1.0</td>\n      <td>1.0</td>\n      <td>1.0</td>\n      <td>1.0</td>\n    </tr>\n    <tr>\n      <th>12350.0</th>\n      <td>0.00</td>\n      <td>0.00</td>\n      <td>334.40</td>\n      <td>0.00</td>\n      <td>0.00</td>\n      <td>0.000</td>\n      <td>334.400</td>\n      <td>0.00</td>\n      <td>0.0</td>\n      <td>0.0</td>\n      <td>1.0</td>\n      <td>0.0</td>\n    </tr>\n    <tr>\n      <th>12352.0</th>\n      <td>632.50</td>\n      <td>0.00</td>\n      <td>1561.81</td>\n      <td>0.00</td>\n      <td>316.25</td>\n      <td>0.000</td>\n      <td>312.362</td>\n      <td>0.00</td>\n      <td>2.0</td>\n      <td>0.0</td>\n      <td>5.0</td>\n      <td>0.0</td>\n    </tr>\n  </tbody>\n</table>\n</div>"
          },
          "metadata": {}
        }
      ]
    },
    {
      "metadata": {
        "trusted": true
      },
      "cell_type": "code",
      "source": "response_df = data_df.loc[\n    data_df['M'] == 'M_1',\n    ['CustomerID', 'sales_sum']\n]",
      "execution_count": 54,
      "outputs": []
    },
    {
      "metadata": {
        "trusted": true
      },
      "cell_type": "code",
      "source": "response_df.columns = ['CustomerID', 'CLV_'+clv_freq]",
      "execution_count": 55,
      "outputs": []
    },
    {
      "metadata": {
        "trusted": true
      },
      "cell_type": "code",
      "source": "response_df.shape",
      "execution_count": 56,
      "outputs": [
        {
          "output_type": "execute_result",
          "execution_count": 56,
          "data": {
            "text/plain": "(2407, 2)"
          },
          "metadata": {}
        }
      ]
    },
    {
      "metadata": {
        "scrolled": true,
        "trusted": true
      },
      "cell_type": "code",
      "source": "response_df.head(10)",
      "execution_count": 57,
      "outputs": [
        {
          "output_type": "execute_result",
          "execution_count": 57,
          "data": {
            "text/plain": "    CustomerID   CLV_3M\n5      12347.0  1294.32\n10     12349.0  1757.55\n14     12352.0   311.73\n20     12356.0    58.35\n21     12357.0  6207.67\n25     12359.0  2876.85\n28     12360.0  1043.78\n33     12362.0  2119.85\n37     12364.0   299.06\n41     12370.0   739.28",
            "text/html": "<div>\n<table border=\"1\" class=\"dataframe\">\n  <thead>\n    <tr style=\"text-align: right;\">\n      <th></th>\n      <th>CustomerID</th>\n      <th>CLV_3M</th>\n    </tr>\n  </thead>\n  <tbody>\n    <tr>\n      <th>5</th>\n      <td>12347.0</td>\n      <td>1294.32</td>\n    </tr>\n    <tr>\n      <th>10</th>\n      <td>12349.0</td>\n      <td>1757.55</td>\n    </tr>\n    <tr>\n      <th>14</th>\n      <td>12352.0</td>\n      <td>311.73</td>\n    </tr>\n    <tr>\n      <th>20</th>\n      <td>12356.0</td>\n      <td>58.35</td>\n    </tr>\n    <tr>\n      <th>21</th>\n      <td>12357.0</td>\n      <td>6207.67</td>\n    </tr>\n    <tr>\n      <th>25</th>\n      <td>12359.0</td>\n      <td>2876.85</td>\n    </tr>\n    <tr>\n      <th>28</th>\n      <td>12360.0</td>\n      <td>1043.78</td>\n    </tr>\n    <tr>\n      <th>33</th>\n      <td>12362.0</td>\n      <td>2119.85</td>\n    </tr>\n    <tr>\n      <th>37</th>\n      <td>12364.0</td>\n      <td>299.06</td>\n    </tr>\n    <tr>\n      <th>41</th>\n      <td>12370.0</td>\n      <td>739.28</td>\n    </tr>\n  </tbody>\n</table>\n</div>"
          },
          "metadata": {}
        }
      ]
    },
    {
      "metadata": {
        "trusted": true
      },
      "cell_type": "code",
      "source": "sample_set_df = features_df.merge(\n    response_df, \n    left_index=True, \n    right_on='CustomerID',\n    how='left'\n)",
      "execution_count": 58,
      "outputs": []
    },
    {
      "metadata": {
        "trusted": true
      },
      "cell_type": "code",
      "source": "sample_set_df.shape",
      "execution_count": 59,
      "outputs": [
        {
          "output_type": "execute_result",
          "execution_count": 59,
          "data": {
            "text/plain": "(3616, 14)"
          },
          "metadata": {}
        }
      ]
    },
    {
      "metadata": {
        "trusted": true
      },
      "cell_type": "code",
      "source": "sample_set_df.head(10)",
      "execution_count": 60,
      "outputs": [
        {
          "output_type": "execute_result",
          "execution_count": 60,
          "data": {
            "text/plain": "      sales_sum_M_2  sales_sum_M_3  sales_sum_M_4  sales_sum_M_5  \\\n9219           0.00           0.00       77183.60           0.00   \n5            584.91        1018.77         475.39         711.79   \n9219         310.00         367.00         227.44         892.80   \n9219           0.00           0.00         334.40           0.00   \n14           632.50           0.00        1561.81           0.00   \n9219           0.00          89.00           0.00           0.00   \n9219           0.00        1079.40           0.00           0.00   \n9219           0.00         459.40           0.00           0.00   \n20             0.00         481.46        2271.62           0.00   \n9219         484.86           0.00           0.00           0.00   \n\n      sales_avg_M_2  sales_avg_M_3  sales_avg_M_4  sales_avg_M_5  \\\n9219           0.00          0.000      77183.600           0.00   \n5            584.91        509.385        475.390         711.79   \n9219         310.00        367.000        227.440         892.80   \n9219           0.00          0.000        334.400           0.00   \n14           316.25          0.000        312.362           0.00   \n9219           0.00         89.000          0.000           0.00   \n9219           0.00       1079.400          0.000           0.00   \n9219           0.00        459.400          0.000           0.00   \n20             0.00        481.460       2271.620           0.00   \n9219         484.86          0.000          0.000           0.00   \n\n      sales_count_M_2  sales_count_M_3  sales_count_M_4  sales_count_M_5  \\\n9219              0.0              0.0              1.0              0.0   \n5                 1.0              2.0              1.0              1.0   \n9219              1.0              1.0              1.0              1.0   \n9219              0.0              0.0              1.0              0.0   \n14                2.0              0.0              5.0              0.0   \n9219              0.0              1.0              0.0              0.0   \n9219              0.0              1.0              0.0              0.0   \n9219              0.0              1.0              0.0              0.0   \n20                0.0              1.0              1.0              0.0   \n9219              1.0              0.0              0.0              0.0   \n\n      CustomerID   CLV_3M  \n9219     12346.0      NaN  \n5        12347.0  1294.32  \n9219     12348.0      NaN  \n9219     12350.0      NaN  \n14       12352.0   311.73  \n9219     12353.0      NaN  \n9219     12354.0      NaN  \n9219     12355.0      NaN  \n20       12356.0    58.35  \n9219     12358.0      NaN  ",
            "text/html": "<div>\n<table border=\"1\" class=\"dataframe\">\n  <thead>\n    <tr style=\"text-align: right;\">\n      <th></th>\n      <th>sales_sum_M_2</th>\n      <th>sales_sum_M_3</th>\n      <th>sales_sum_M_4</th>\n      <th>sales_sum_M_5</th>\n      <th>sales_avg_M_2</th>\n      <th>sales_avg_M_3</th>\n      <th>sales_avg_M_4</th>\n      <th>sales_avg_M_5</th>\n      <th>sales_count_M_2</th>\n      <th>sales_count_M_3</th>\n      <th>sales_count_M_4</th>\n      <th>sales_count_M_5</th>\n      <th>CustomerID</th>\n      <th>CLV_3M</th>\n    </tr>\n  </thead>\n  <tbody>\n    <tr>\n      <th>9219</th>\n      <td>0.00</td>\n      <td>0.00</td>\n      <td>77183.60</td>\n      <td>0.00</td>\n      <td>0.00</td>\n      <td>0.000</td>\n      <td>77183.600</td>\n      <td>0.00</td>\n      <td>0.0</td>\n      <td>0.0</td>\n      <td>1.0</td>\n      <td>0.0</td>\n      <td>12346.0</td>\n      <td>NaN</td>\n    </tr>\n    <tr>\n      <th>5</th>\n      <td>584.91</td>\n      <td>1018.77</td>\n      <td>475.39</td>\n      <td>711.79</td>\n      <td>584.91</td>\n      <td>509.385</td>\n      <td>475.390</td>\n      <td>711.79</td>\n      <td>1.0</td>\n      <td>2.0</td>\n      <td>1.0</td>\n      <td>1.0</td>\n      <td>12347.0</td>\n      <td>1294.32</td>\n    </tr>\n    <tr>\n      <th>9219</th>\n      <td>310.00</td>\n      <td>367.00</td>\n      <td>227.44</td>\n      <td>892.80</td>\n      <td>310.00</td>\n      <td>367.000</td>\n      <td>227.440</td>\n      <td>892.80</td>\n      <td>1.0</td>\n      <td>1.0</td>\n      <td>1.0</td>\n      <td>1.0</td>\n      <td>12348.0</td>\n      <td>NaN</td>\n    </tr>\n    <tr>\n      <th>9219</th>\n      <td>0.00</td>\n      <td>0.00</td>\n      <td>334.40</td>\n      <td>0.00</td>\n      <td>0.00</td>\n      <td>0.000</td>\n      <td>334.400</td>\n      <td>0.00</td>\n      <td>0.0</td>\n      <td>0.0</td>\n      <td>1.0</td>\n      <td>0.0</td>\n      <td>12350.0</td>\n      <td>NaN</td>\n    </tr>\n    <tr>\n      <th>14</th>\n      <td>632.50</td>\n      <td>0.00</td>\n      <td>1561.81</td>\n      <td>0.00</td>\n      <td>316.25</td>\n      <td>0.000</td>\n      <td>312.362</td>\n      <td>0.00</td>\n      <td>2.0</td>\n      <td>0.0</td>\n      <td>5.0</td>\n      <td>0.0</td>\n      <td>12352.0</td>\n      <td>311.73</td>\n    </tr>\n    <tr>\n      <th>9219</th>\n      <td>0.00</td>\n      <td>89.00</td>\n      <td>0.00</td>\n      <td>0.00</td>\n      <td>0.00</td>\n      <td>89.000</td>\n      <td>0.000</td>\n      <td>0.00</td>\n      <td>0.0</td>\n      <td>1.0</td>\n      <td>0.0</td>\n      <td>0.0</td>\n      <td>12353.0</td>\n      <td>NaN</td>\n    </tr>\n    <tr>\n      <th>9219</th>\n      <td>0.00</td>\n      <td>1079.40</td>\n      <td>0.00</td>\n      <td>0.00</td>\n      <td>0.00</td>\n      <td>1079.400</td>\n      <td>0.000</td>\n      <td>0.00</td>\n      <td>0.0</td>\n      <td>1.0</td>\n      <td>0.0</td>\n      <td>0.0</td>\n      <td>12354.0</td>\n      <td>NaN</td>\n    </tr>\n    <tr>\n      <th>9219</th>\n      <td>0.00</td>\n      <td>459.40</td>\n      <td>0.00</td>\n      <td>0.00</td>\n      <td>0.00</td>\n      <td>459.400</td>\n      <td>0.000</td>\n      <td>0.00</td>\n      <td>0.0</td>\n      <td>1.0</td>\n      <td>0.0</td>\n      <td>0.0</td>\n      <td>12355.0</td>\n      <td>NaN</td>\n    </tr>\n    <tr>\n      <th>20</th>\n      <td>0.00</td>\n      <td>481.46</td>\n      <td>2271.62</td>\n      <td>0.00</td>\n      <td>0.00</td>\n      <td>481.460</td>\n      <td>2271.620</td>\n      <td>0.00</td>\n      <td>0.0</td>\n      <td>1.0</td>\n      <td>1.0</td>\n      <td>0.0</td>\n      <td>12356.0</td>\n      <td>58.35</td>\n    </tr>\n    <tr>\n      <th>9219</th>\n      <td>484.86</td>\n      <td>0.00</td>\n      <td>0.00</td>\n      <td>0.00</td>\n      <td>484.86</td>\n      <td>0.000</td>\n      <td>0.000</td>\n      <td>0.00</td>\n      <td>1.0</td>\n      <td>0.0</td>\n      <td>0.0</td>\n      <td>0.0</td>\n      <td>12358.0</td>\n      <td>NaN</td>\n    </tr>\n  </tbody>\n</table>\n</div>"
          },
          "metadata": {}
        }
      ]
    },
    {
      "metadata": {
        "trusted": true
      },
      "cell_type": "code",
      "source": "sample_set_df = sample_set_df.fillna(0)",
      "execution_count": 61,
      "outputs": []
    },
    {
      "metadata": {
        "trusted": true
      },
      "cell_type": "code",
      "source": "sample_set_df.head()",
      "execution_count": 62,
      "outputs": [
        {
          "output_type": "execute_result",
          "execution_count": 62,
          "data": {
            "text/plain": "      sales_sum_M_2  sales_sum_M_3  sales_sum_M_4  sales_sum_M_5  \\\n9219           0.00           0.00       77183.60           0.00   \n5            584.91        1018.77         475.39         711.79   \n9219         310.00         367.00         227.44         892.80   \n9219           0.00           0.00         334.40           0.00   \n14           632.50           0.00        1561.81           0.00   \n\n      sales_avg_M_2  sales_avg_M_3  sales_avg_M_4  sales_avg_M_5  \\\n9219           0.00          0.000      77183.600           0.00   \n5            584.91        509.385        475.390         711.79   \n9219         310.00        367.000        227.440         892.80   \n9219           0.00          0.000        334.400           0.00   \n14           316.25          0.000        312.362           0.00   \n\n      sales_count_M_2  sales_count_M_3  sales_count_M_4  sales_count_M_5  \\\n9219              0.0              0.0              1.0              0.0   \n5                 1.0              2.0              1.0              1.0   \n9219              1.0              1.0              1.0              1.0   \n9219              0.0              0.0              1.0              0.0   \n14                2.0              0.0              5.0              0.0   \n\n      CustomerID   CLV_3M  \n9219     12346.0     0.00  \n5        12347.0  1294.32  \n9219     12348.0     0.00  \n9219     12350.0     0.00  \n14       12352.0   311.73  ",
            "text/html": "<div>\n<table border=\"1\" class=\"dataframe\">\n  <thead>\n    <tr style=\"text-align: right;\">\n      <th></th>\n      <th>sales_sum_M_2</th>\n      <th>sales_sum_M_3</th>\n      <th>sales_sum_M_4</th>\n      <th>sales_sum_M_5</th>\n      <th>sales_avg_M_2</th>\n      <th>sales_avg_M_3</th>\n      <th>sales_avg_M_4</th>\n      <th>sales_avg_M_5</th>\n      <th>sales_count_M_2</th>\n      <th>sales_count_M_3</th>\n      <th>sales_count_M_4</th>\n      <th>sales_count_M_5</th>\n      <th>CustomerID</th>\n      <th>CLV_3M</th>\n    </tr>\n  </thead>\n  <tbody>\n    <tr>\n      <th>9219</th>\n      <td>0.00</td>\n      <td>0.00</td>\n      <td>77183.60</td>\n      <td>0.00</td>\n      <td>0.00</td>\n      <td>0.000</td>\n      <td>77183.600</td>\n      <td>0.00</td>\n      <td>0.0</td>\n      <td>0.0</td>\n      <td>1.0</td>\n      <td>0.0</td>\n      <td>12346.0</td>\n      <td>0.00</td>\n    </tr>\n    <tr>\n      <th>5</th>\n      <td>584.91</td>\n      <td>1018.77</td>\n      <td>475.39</td>\n      <td>711.79</td>\n      <td>584.91</td>\n      <td>509.385</td>\n      <td>475.390</td>\n      <td>711.79</td>\n      <td>1.0</td>\n      <td>2.0</td>\n      <td>1.0</td>\n      <td>1.0</td>\n      <td>12347.0</td>\n      <td>1294.32</td>\n    </tr>\n    <tr>\n      <th>9219</th>\n      <td>310.00</td>\n      <td>367.00</td>\n      <td>227.44</td>\n      <td>892.80</td>\n      <td>310.00</td>\n      <td>367.000</td>\n      <td>227.440</td>\n      <td>892.80</td>\n      <td>1.0</td>\n      <td>1.0</td>\n      <td>1.0</td>\n      <td>1.0</td>\n      <td>12348.0</td>\n      <td>0.00</td>\n    </tr>\n    <tr>\n      <th>9219</th>\n      <td>0.00</td>\n      <td>0.00</td>\n      <td>334.40</td>\n      <td>0.00</td>\n      <td>0.00</td>\n      <td>0.000</td>\n      <td>334.400</td>\n      <td>0.00</td>\n      <td>0.0</td>\n      <td>0.0</td>\n      <td>1.0</td>\n      <td>0.0</td>\n      <td>12350.0</td>\n      <td>0.00</td>\n    </tr>\n    <tr>\n      <th>14</th>\n      <td>632.50</td>\n      <td>0.00</td>\n      <td>1561.81</td>\n      <td>0.00</td>\n      <td>316.25</td>\n      <td>0.000</td>\n      <td>312.362</td>\n      <td>0.00</td>\n      <td>2.0</td>\n      <td>0.0</td>\n      <td>5.0</td>\n      <td>0.0</td>\n      <td>12352.0</td>\n      <td>311.73</td>\n    </tr>\n  </tbody>\n</table>\n</div>"
          },
          "metadata": {}
        }
      ]
    },
    {
      "metadata": {
        "trusted": true
      },
      "cell_type": "code",
      "source": "sample_set_df['CLV_'+clv_freq].describe()",
      "execution_count": 63,
      "outputs": [
        {
          "output_type": "execute_result",
          "execution_count": 63,
          "data": {
            "text/plain": "count     3616.000000\nmean       511.558520\nstd       2371.743293\nmin          0.000000\n25%          0.000000\n50%          0.000000\n75%        458.662500\nmax      68012.350000\nName: CLV_3M, dtype: float64"
          },
          "metadata": {}
        }
      ]
    },
    {
      "metadata": {},
      "cell_type": "markdown",
      "source": "## 4.2. Regression Models"
    },
    {
      "metadata": {
        "trusted": true
      },
      "cell_type": "code",
      "source": "from sklearn.model_selection import train_test_split",
      "execution_count": 64,
      "outputs": []
    },
    {
      "metadata": {
        "trusted": true
      },
      "cell_type": "code",
      "source": "target_var = 'CLV_'+clv_freq\nall_features = [x for x in sample_set_df.columns if x not in ['CustomerID', target_var]]",
      "execution_count": 65,
      "outputs": []
    },
    {
      "metadata": {
        "trusted": true
      },
      "cell_type": "code",
      "source": "x_train, x_test, y_train, y_test = train_test_split(\n    sample_set_df[all_features], \n    sample_set_df[target_var], \n    test_size=0.3\n)",
      "execution_count": 66,
      "outputs": []
    },
    {
      "metadata": {},
      "cell_type": "markdown",
      "source": "#### - Linear Regression Model"
    },
    {
      "metadata": {
        "trusted": true
      },
      "cell_type": "code",
      "source": "from sklearn.linear_model import LinearRegression\n\n# Try these models as well\nfrom sklearn.svm import SVR\nfrom sklearn.ensemble import RandomForestRegressor",
      "execution_count": 67,
      "outputs": [
        {
          "output_type": "stream",
          "text": "/home/nbuser/anaconda3_420/lib/python3.5/site-packages/sklearn/ensemble/weight_boosting.py:29: DeprecationWarning: numpy.core.umath_tests is an internal NumPy module and should not be imported. It will be removed in a future NumPy release.\n  from numpy.core.umath_tests import inner1d\n",
          "name": "stderr"
        }
      ]
    },
    {
      "metadata": {
        "trusted": true
      },
      "cell_type": "code",
      "source": "reg_fit = LinearRegression()",
      "execution_count": 68,
      "outputs": []
    },
    {
      "metadata": {
        "trusted": true
      },
      "cell_type": "code",
      "source": "reg_fit.fit(x_train, y_train)",
      "execution_count": 69,
      "outputs": [
        {
          "output_type": "execute_result",
          "execution_count": 69,
          "data": {
            "text/plain": "LinearRegression(copy_X=True, fit_intercept=True, n_jobs=1, normalize=False)"
          },
          "metadata": {}
        }
      ]
    },
    {
      "metadata": {
        "trusted": true
      },
      "cell_type": "code",
      "source": "reg_fit.intercept_",
      "execution_count": 70,
      "outputs": [
        {
          "output_type": "execute_result",
          "execution_count": 70,
          "data": {
            "text/plain": "108.44400981349173"
          },
          "metadata": {}
        }
      ]
    },
    {
      "metadata": {
        "trusted": true
      },
      "cell_type": "code",
      "source": "coef = pd.DataFrame(list(zip(all_features, reg_fit.coef_)))\ncoef.columns = ['feature', 'coef']\n\ncoef",
      "execution_count": 71,
      "outputs": [
        {
          "output_type": "execute_result",
          "execution_count": 71,
          "data": {
            "text/plain": "            feature        coef\n0     sales_sum_M_2    0.184086\n1     sales_sum_M_3    0.383306\n2     sales_sum_M_4    0.363418\n3     sales_sum_M_5    0.829009\n4     sales_avg_M_2    0.169926\n5     sales_avg_M_3   -0.540072\n6     sales_avg_M_4   -0.324988\n7     sales_avg_M_5   -0.421698\n8   sales_count_M_2  106.325721\n9   sales_count_M_3  -25.098798\n10  sales_count_M_4  -87.375218\n11  sales_count_M_5  -90.885186",
            "text/html": "<div>\n<table border=\"1\" class=\"dataframe\">\n  <thead>\n    <tr style=\"text-align: right;\">\n      <th></th>\n      <th>feature</th>\n      <th>coef</th>\n    </tr>\n  </thead>\n  <tbody>\n    <tr>\n      <th>0</th>\n      <td>sales_sum_M_2</td>\n      <td>0.184086</td>\n    </tr>\n    <tr>\n      <th>1</th>\n      <td>sales_sum_M_3</td>\n      <td>0.383306</td>\n    </tr>\n    <tr>\n      <th>2</th>\n      <td>sales_sum_M_4</td>\n      <td>0.363418</td>\n    </tr>\n    <tr>\n      <th>3</th>\n      <td>sales_sum_M_5</td>\n      <td>0.829009</td>\n    </tr>\n    <tr>\n      <th>4</th>\n      <td>sales_avg_M_2</td>\n      <td>0.169926</td>\n    </tr>\n    <tr>\n      <th>5</th>\n      <td>sales_avg_M_3</td>\n      <td>-0.540072</td>\n    </tr>\n    <tr>\n      <th>6</th>\n      <td>sales_avg_M_4</td>\n      <td>-0.324988</td>\n    </tr>\n    <tr>\n      <th>7</th>\n      <td>sales_avg_M_5</td>\n      <td>-0.421698</td>\n    </tr>\n    <tr>\n      <th>8</th>\n      <td>sales_count_M_2</td>\n      <td>106.325721</td>\n    </tr>\n    <tr>\n      <th>9</th>\n      <td>sales_count_M_3</td>\n      <td>-25.098798</td>\n    </tr>\n    <tr>\n      <th>10</th>\n      <td>sales_count_M_4</td>\n      <td>-87.375218</td>\n    </tr>\n    <tr>\n      <th>11</th>\n      <td>sales_count_M_5</td>\n      <td>-90.885186</td>\n    </tr>\n  </tbody>\n</table>\n</div>"
          },
          "metadata": {}
        }
      ]
    },
    {
      "metadata": {},
      "cell_type": "markdown",
      "source": "## 4.3. Evaluation"
    },
    {
      "metadata": {
        "trusted": true
      },
      "cell_type": "code",
      "source": "from sklearn.metrics import r2_score, median_absolute_error",
      "execution_count": 72,
      "outputs": []
    },
    {
      "metadata": {
        "trusted": true
      },
      "cell_type": "code",
      "source": "train_preds =  reg_fit.predict(x_train)\ntest_preds = reg_fit.predict(x_test)",
      "execution_count": 73,
      "outputs": []
    },
    {
      "metadata": {},
      "cell_type": "markdown",
      "source": "#### - R-Squared"
    },
    {
      "metadata": {
        "trusted": true
      },
      "cell_type": "code",
      "source": "print('In-Sample R-Squared: %0.4f' % r2_score(y_true=y_train, y_pred=train_preds))\nprint('Out-of-Sample R-Squared: %0.4f' % r2_score(y_true=y_test, y_pred=test_preds))",
      "execution_count": 74,
      "outputs": [
        {
          "output_type": "stream",
          "text": "In-Sample R-Squared: 0.8259\nOut-of-Sample R-Squared: 0.4346\n",
          "name": "stdout"
        }
      ]
    },
    {
      "metadata": {},
      "cell_type": "markdown",
      "source": "#### - Median Absolute Error"
    },
    {
      "metadata": {
        "trusted": true
      },
      "cell_type": "code",
      "source": "print('In-Sample MSE: %0.4f' % median_absolute_error(y_true=y_train, y_pred=train_preds))\nprint('Out-of-Sample MSE: %0.4f' % median_absolute_error(y_true=y_test, y_pred=test_preds))",
      "execution_count": 75,
      "outputs": [
        {
          "output_type": "stream",
          "text": "In-Sample MSE: 207.0019\nOut-of-Sample MSE: 232.5312\n",
          "name": "stdout"
        }
      ]
    },
    {
      "metadata": {},
      "cell_type": "markdown",
      "source": "#### - Scatter Plot"
    },
    {
      "metadata": {
        "scrolled": true,
        "trusted": true
      },
      "cell_type": "code",
      "source": "plt.scatter(y_train, train_preds)\nplt.plot([0, max(y_train)], [0, max(train_preds)], color='gray', lw=1, linestyle='--')\n\nplt.xlabel('actual')\nplt.ylabel('predicted')\nplt.title('In-Sample Actual vs. Predicted')\nplt.grid()\n\nplt.show()",
      "execution_count": 76,
      "outputs": [
        {
          "output_type": "display_data",
          "data": {
            "image/png": "[encoded data removed]",
            "text/plain": "<matplotlib.figure.Figure at 0x7f2a572acc18>"
          },
          "metadata": {}
        }
      ]
    },
    {
      "metadata": {
        "trusted": true
      },
      "cell_type": "code",
      "source": "plt.scatter(y_test, test_preds)\nplt.plot([0, max(y_test)], [0, max(test_preds)], color='gray', lw=1, linestyle='--')\n\nplt.xlabel('actual')\nplt.ylabel('predicted')\nplt.title('Out-of-Sample Actual vs. Predicted')\nplt.grid()\n\nplt.show()",
      "execution_count": 77,
      "outputs": [
        {
          "output_type": "display_data",
          "data": {
            "image/png": "[encoded data removed]",
            "text/plain": "<matplotlib.figure.Figure at 0x7f2a572cf278>"
          },
          "metadata": {}
        }
      ]
    },
    {
      "metadata": {
        "trusted": true
      },
      "cell_type": "code",
      "source": "",
      "execution_count": null,
      "outputs": []
    }
  ],
  "metadata": {
    "kernelspec": {
      "name": "python3",
      "display_name": "Python 3",
      "language": "python"
    },
    "language_info": {
      "mimetype": "text/x-python",
      "nbconvert_exporter": "python",
      "name": "python",
      "file_extension": ".py",
      "version": "3.5.4",
      "pygments_lexer": "ipython3",
      "codemirror_mode": {
        "version": 3,
        "name": "ipython"
      }
    }
  },
  "nbformat": 4,
  "nbformat_minor": 2
}