{
  "cells": [
    {
      "metadata": {
        "trusted": true
      },
      "cell_type": "code",
      "source": "%matplotlib inline",
      "execution_count": 1,
      "outputs": [
        {
          "output_type": "stream",
          "text": "/home/nbuser/anaconda3_420/lib/python3.5/site-packages/matplotlib/font_manager.py:281: UserWarning: Matplotlib is building the font cache using fc-list. This may take a moment.\n  'Matplotlib is building the font cache using fc-list. '\n",
          "name": "stderr"
        }
      ]
    },
    {
      "metadata": {
        "trusted": true
      },
      "cell_type": "code",
      "source": "import matplotlib.pyplot as plt\nimport pandas as pd",
      "execution_count": 2,
      "outputs": []
    },
    {
      "metadata": {},
      "cell_type": "markdown",
      "source": "# 1. Load Data"
    },
    {
      "metadata": {
        "trusted": true
      },
      "cell_type": "code",
      "source": "df = pd.read_csv('../data/WA_Fn-UseC_-Marketing-Customer-Value-Analysis.csv')",
      "execution_count": 3,
      "outputs": []
    },
    {
      "metadata": {
        "trusted": true
      },
      "cell_type": "code",
      "source": "df.shape",
      "execution_count": 4,
      "outputs": [
        {
          "output_type": "execute_result",
          "execution_count": 4,
          "data": {
            "text/plain": "(9134, 24)"
          },
          "metadata": {}
        }
      ]
    },
    {
      "metadata": {
        "trusted": true
      },
      "cell_type": "code",
      "source": "df.head()",
      "execution_count": 5,
      "outputs": [
        {
          "output_type": "execute_result",
          "execution_count": 5,
          "data": {
            "text/plain": "  Customer       State  Customer Lifetime Value Response  Coverage Education  \\\n0  BU79786  Washington              2763.519279       No     Basic  Bachelor   \n1  QZ44356     Arizona              6979.535903       No  Extended  Bachelor   \n2  AI49188      Nevada             12887.431650       No   Premium  Bachelor   \n3  WW63253  California              7645.861827       No     Basic  Bachelor   \n4  HB64268  Washington              2813.692575       No     Basic  Bachelor   \n\n  Effective To Date EmploymentStatus Gender  Income     ...       \\\n0           2/24/11         Employed      F   56274     ...        \n1           1/31/11       Unemployed      F       0     ...        \n2           2/19/11         Employed      F   48767     ...        \n3           1/20/11       Unemployed      M       0     ...        \n4            2/3/11         Employed      M   43836     ...        \n\n  Months Since Policy Inception Number of Open Complaints  Number of Policies  \\\n0                             5                         0                   1   \n1                            42                         0                   8   \n2                            38                         0                   2   \n3                            65                         0                   7   \n4                            44                         0                   1   \n\n      Policy Type        Policy  Renew Offer Type  Sales Channel  \\\n0  Corporate Auto  Corporate L3            Offer1          Agent   \n1   Personal Auto   Personal L3            Offer3          Agent   \n2   Personal Auto   Personal L3            Offer1          Agent   \n3  Corporate Auto  Corporate L2            Offer1    Call Center   \n4   Personal Auto   Personal L1            Offer1          Agent   \n\n  Total Claim Amount  Vehicle Class Vehicle Size  \n0         384.811147   Two-Door Car      Medsize  \n1        1131.464935  Four-Door Car      Medsize  \n2         566.472247   Two-Door Car      Medsize  \n3         529.881344            SUV      Medsize  \n4         138.130879  Four-Door Car      Medsize  \n\n[5 rows x 24 columns]",
            "text/html": "<div>\n<table border=\"1\" class=\"dataframe\">\n  <thead>\n    <tr style=\"text-align: right;\">\n      <th></th>\n      <th>Customer</th>\n      <th>State</th>\n      <th>Customer Lifetime Value</th>\n      <th>Response</th>\n      <th>Coverage</th>\n      <th>Education</th>\n      <th>Effective To Date</th>\n      <th>EmploymentStatus</th>\n      <th>Gender</th>\n      <th>Income</th>\n      <th>...</th>\n      <th>Months Since Policy Inception</th>\n      <th>Number of Open Complaints</th>\n      <th>Number of Policies</th>\n      <th>Policy Type</th>\n      <th>Policy</th>\n      <th>Renew Offer Type</th>\n      <th>Sales Channel</th>\n      <th>Total Claim Amount</th>\n      <th>Vehicle Class</th>\n      <th>Vehicle Size</th>\n    </tr>\n  </thead>\n  <tbody>\n    <tr>\n      <th>0</th>\n      <td>BU79786</td>\n      <td>Washington</td>\n      <td>2763.519279</td>\n      <td>No</td>\n      <td>Basic</td>\n      <td>Bachelor</td>\n      <td>2/24/11</td>\n      <td>Employed</td>\n      <td>F</td>\n      <td>56274</td>\n      <td>...</td>\n      <td>5</td>\n      <td>0</td>\n      <td>1</td>\n      <td>Corporate Auto</td>\n      <td>Corporate L3</td>\n      <td>Offer1</td>\n      <td>Agent</td>\n      <td>384.811147</td>\n      <td>Two-Door Car</td>\n      <td>Medsize</td>\n    </tr>\n    <tr>\n      <th>1</th>\n      <td>QZ44356</td>\n      <td>Arizona</td>\n      <td>6979.535903</td>\n      <td>No</td>\n      <td>Extended</td>\n      <td>Bachelor</td>\n      <td>1/31/11</td>\n      <td>Unemployed</td>\n      <td>F</td>\n      <td>0</td>\n      <td>...</td>\n      <td>42</td>\n      <td>0</td>\n      <td>8</td>\n      <td>Personal Auto</td>\n      <td>Personal L3</td>\n      <td>Offer3</td>\n      <td>Agent</td>\n      <td>1131.464935</td>\n      <td>Four-Door Car</td>\n      <td>Medsize</td>\n    </tr>\n    <tr>\n      <th>2</th>\n      <td>AI49188</td>\n      <td>Nevada</td>\n      <td>12887.431650</td>\n      <td>No</td>\n      <td>Premium</td>\n      <td>Bachelor</td>\n      <td>2/19/11</td>\n      <td>Employed</td>\n      <td>F</td>\n      <td>48767</td>\n      <td>...</td>\n      <td>38</td>\n      <td>0</td>\n      <td>2</td>\n      <td>Personal Auto</td>\n      <td>Personal L3</td>\n      <td>Offer1</td>\n      <td>Agent</td>\n      <td>566.472247</td>\n      <td>Two-Door Car</td>\n      <td>Medsize</td>\n    </tr>\n    <tr>\n      <th>3</th>\n      <td>WW63253</td>\n      <td>California</td>\n      <td>7645.861827</td>\n      <td>No</td>\n      <td>Basic</td>\n      <td>Bachelor</td>\n      <td>1/20/11</td>\n      <td>Unemployed</td>\n      <td>M</td>\n      <td>0</td>\n      <td>...</td>\n      <td>65</td>\n      <td>0</td>\n      <td>7</td>\n      <td>Corporate Auto</td>\n      <td>Corporate L2</td>\n      <td>Offer1</td>\n      <td>Call Center</td>\n      <td>529.881344</td>\n      <td>SUV</td>\n      <td>Medsize</td>\n    </tr>\n    <tr>\n      <th>4</th>\n      <td>HB64268</td>\n      <td>Washington</td>\n      <td>2813.692575</td>\n      <td>No</td>\n      <td>Basic</td>\n      <td>Bachelor</td>\n      <td>2/3/11</td>\n      <td>Employed</td>\n      <td>M</td>\n      <td>43836</td>\n      <td>...</td>\n      <td>44</td>\n      <td>0</td>\n      <td>1</td>\n      <td>Personal Auto</td>\n      <td>Personal L1</td>\n      <td>Offer1</td>\n      <td>Agent</td>\n      <td>138.130879</td>\n      <td>Four-Door Car</td>\n      <td>Medsize</td>\n    </tr>\n  </tbody>\n</table>\n<p>5 rows × 24 columns</p>\n</div>"
          },
          "metadata": {}
        }
      ]
    },
    {
      "metadata": {},
      "cell_type": "markdown",
      "source": "# 2. Variable Encoding"
    },
    {
      "metadata": {},
      "cell_type": "markdown",
      "source": "## 2.1. Response Variable: Response"
    },
    {
      "metadata": {
        "trusted": true
      },
      "cell_type": "code",
      "source": "def my_other_func(foo):\n    return 1 if foo == 'Yes' else 0\n\nmy_other_func('Yes')",
      "execution_count": 50,
      "outputs": [
        {
          "output_type": "execute_result",
          "execution_count": 50,
          "data": {
            "text/plain": "1"
          },
          "metadata": {}
        }
      ]
    },
    {
      "metadata": {
        "trusted": true
      },
      "cell_type": "code",
      "source": "df['Engaged'] = df['Response'].apply(my_other_func)",
      "execution_count": 51,
      "outputs": []
    },
    {
      "metadata": {
        "trusted": true
      },
      "cell_type": "code",
      "source": "df['Engaged'].mean()",
      "execution_count": 52,
      "outputs": [
        {
          "output_type": "execute_result",
          "execution_count": 52,
          "data": {
            "text/plain": "0.14320122618786948"
          },
          "metadata": {}
        }
      ]
    },
    {
      "metadata": {},
      "cell_type": "markdown",
      "source": "## 2.2. Features"
    },
    {
      "metadata": {
        "trusted": true
      },
      "cell_type": "code",
      "source": "df.describe()",
      "execution_count": 8,
      "outputs": [
        {
          "output_type": "execute_result",
          "execution_count": 8,
          "data": {
            "text/plain": "       Customer Lifetime Value        Income  Monthly Premium Auto  \\\ncount              9134.000000   9134.000000           9134.000000   \nmean               8004.940475  37657.380009             93.219291   \nstd                6870.967608  30379.904734             34.407967   \nmin                1898.007675      0.000000             61.000000   \n25%                3994.251794      0.000000             68.000000   \n50%                5780.182197  33889.500000             83.000000   \n75%                8962.167041  62320.000000            109.000000   \nmax               83325.381190  99981.000000            298.000000   \n\n       Months Since Last Claim  Months Since Policy Inception  \\\ncount              9134.000000                    9134.000000   \nmean                 15.097000                      48.064594   \nstd                  10.073257                      27.905991   \nmin                   0.000000                       0.000000   \n25%                   6.000000                      24.000000   \n50%                  14.000000                      48.000000   \n75%                  23.000000                      71.000000   \nmax                  35.000000                      99.000000   \n\n       Number of Open Complaints  Number of Policies  Total Claim Amount  \\\ncount                9134.000000         9134.000000         9134.000000   \nmean                    0.384388            2.966170          434.088794   \nstd                     0.910384            2.390182          290.500092   \nmin                     0.000000            1.000000            0.099007   \n25%                     0.000000            1.000000          272.258244   \n50%                     0.000000            2.000000          383.945434   \n75%                     0.000000            4.000000          547.514839   \nmax                     5.000000            9.000000         2893.239678   \n\n           Engaged  \ncount  9134.000000  \nmean      0.143201  \nstd       0.350297  \nmin       0.000000  \n25%       0.000000  \n50%       0.000000  \n75%       0.000000  \nmax       1.000000  ",
            "text/html": "<div>\n<table border=\"1\" class=\"dataframe\">\n  <thead>\n    <tr style=\"text-align: right;\">\n      <th></th>\n      <th>Customer Lifetime Value</th>\n      <th>Income</th>\n      <th>Monthly Premium Auto</th>\n      <th>Months Since Last Claim</th>\n      <th>Months Since Policy Inception</th>\n      <th>Number of Open Complaints</th>\n      <th>Number of Policies</th>\n      <th>Total Claim Amount</th>\n      <th>Engaged</th>\n    </tr>\n  </thead>\n  <tbody>\n    <tr>\n      <th>count</th>\n      <td>9134.000000</td>\n      <td>9134.000000</td>\n      <td>9134.000000</td>\n      <td>9134.000000</td>\n      <td>9134.000000</td>\n      <td>9134.000000</td>\n      <td>9134.000000</td>\n      <td>9134.000000</td>\n      <td>9134.000000</td>\n    </tr>\n    <tr>\n      <th>mean</th>\n      <td>8004.940475</td>\n      <td>37657.380009</td>\n      <td>93.219291</td>\n      <td>15.097000</td>\n      <td>48.064594</td>\n      <td>0.384388</td>\n      <td>2.966170</td>\n      <td>434.088794</td>\n      <td>0.143201</td>\n    </tr>\n    <tr>\n      <th>std</th>\n      <td>6870.967608</td>\n      <td>30379.904734</td>\n      <td>34.407967</td>\n      <td>10.073257</td>\n      <td>27.905991</td>\n      <td>0.910384</td>\n      <td>2.390182</td>\n      <td>290.500092</td>\n      <td>0.350297</td>\n    </tr>\n    <tr>\n      <th>min</th>\n      <td>1898.007675</td>\n      <td>0.000000</td>\n      <td>61.000000</td>\n      <td>0.000000</td>\n      <td>0.000000</td>\n      <td>0.000000</td>\n      <td>1.000000</td>\n      <td>0.099007</td>\n      <td>0.000000</td>\n    </tr>\n    <tr>\n      <th>25%</th>\n      <td>3994.251794</td>\n      <td>0.000000</td>\n      <td>68.000000</td>\n      <td>6.000000</td>\n      <td>24.000000</td>\n      <td>0.000000</td>\n      <td>1.000000</td>\n      <td>272.258244</td>\n      <td>0.000000</td>\n    </tr>\n    <tr>\n      <th>50%</th>\n      <td>5780.182197</td>\n      <td>33889.500000</td>\n      <td>83.000000</td>\n      <td>14.000000</td>\n      <td>48.000000</td>\n      <td>0.000000</td>\n      <td>2.000000</td>\n      <td>383.945434</td>\n      <td>0.000000</td>\n    </tr>\n    <tr>\n      <th>75%</th>\n      <td>8962.167041</td>\n      <td>62320.000000</td>\n      <td>109.000000</td>\n      <td>23.000000</td>\n      <td>71.000000</td>\n      <td>0.000000</td>\n      <td>4.000000</td>\n      <td>547.514839</td>\n      <td>0.000000</td>\n    </tr>\n    <tr>\n      <th>max</th>\n      <td>83325.381190</td>\n      <td>99981.000000</td>\n      <td>298.000000</td>\n      <td>35.000000</td>\n      <td>99.000000</td>\n      <td>5.000000</td>\n      <td>9.000000</td>\n      <td>2893.239678</td>\n      <td>1.000000</td>\n    </tr>\n  </tbody>\n</table>\n</div>"
          },
          "metadata": {}
        }
      ]
    },
    {
      "metadata": {
        "trusted": true
      },
      "cell_type": "code",
      "source": "continuous_features = [\n    'Customer Lifetime Value', 'Income', 'Monthly Premium Auto',\n    'Months Since Last Claim', 'Months Since Policy Inception',\n    'Number of Open Complaints', 'Number of Policies', 'Total Claim Amount'\n]",
      "execution_count": 9,
      "outputs": []
    },
    {
      "metadata": {},
      "cell_type": "markdown",
      "source": "#### - Creating Dummy Variables"
    },
    {
      "metadata": {
        "trusted": true
      },
      "cell_type": "code",
      "source": "df['Vehicle Size'].head(20)",
      "execution_count": 59,
      "outputs": [
        {
          "output_type": "execute_result",
          "execution_count": 59,
          "data": {
            "text/plain": "0     Medsize\n1     Medsize\n2     Medsize\n3     Medsize\n4     Medsize\n5     Medsize\n6     Medsize\n7     Medsize\n8     Medsize\n9     Medsize\n10      Small\n11    Medsize\n12    Medsize\n13    Medsize\n14    Medsize\n15    Medsize\n16    Medsize\n17    Medsize\n18    Medsize\n19      Small\nName: Vehicle Size, dtype: object"
          },
          "metadata": {}
        }
      ]
    },
    {
      "metadata": {
        "trusted": true
      },
      "cell_type": "code",
      "source": "pd.get_dummies(df['Sales Channel'])",
      "execution_count": 68,
      "outputs": [
        {
          "output_type": "execute_result",
          "execution_count": 68,
          "data": {
            "text/plain": "      Agent  Branch  Call Center  Web\n0         1       0            0    0\n1         1       0            0    0\n2         1       0            0    0\n3         0       0            1    0\n4         1       0            0    0\n5         0       0            0    1\n6         1       0            0    0\n7         1       0            0    0\n8         1       0            0    0\n9         0       1            0    0\n10        1       0            0    0\n11        1       0            0    0\n12        1       0            0    0\n13        0       1            0    0\n14        0       0            1    0\n15        0       1            0    0\n16        0       0            1    0\n17        0       0            1    0\n18        0       1            0    0\n19        0       0            1    0\n20        0       1            0    0\n21        0       0            1    0\n22        1       0            0    0\n23        0       1            0    0\n24        0       1            0    0\n25        0       0            1    0\n26        1       0            0    0\n27        0       1            0    0\n28        0       0            1    0\n29        0       1            0    0\n...     ...     ...          ...  ...\n9104      1       0            0    0\n9105      0       1            0    0\n9106      1       0            0    0\n9107      0       0            0    1\n9108      1       0            0    0\n9109      0       1            0    0\n9110      1       0            0    0\n9111      1       0            0    0\n9112      1       0            0    0\n9113      1       0            0    0\n9114      0       1            0    0\n9115      0       0            1    0\n9116      1       0            0    0\n9117      0       1            0    0\n9118      1       0            0    0\n9119      0       1            0    0\n9120      0       0            0    1\n9121      0       1            0    0\n9122      0       1            0    0\n9123      1       0            0    0\n9124      1       0            0    0\n9125      1       0            0    0\n9126      0       1            0    0\n9127      0       0            1    0\n9128      0       1            0    0\n9129      0       0            0    1\n9130      0       1            0    0\n9131      0       1            0    0\n9132      0       1            0    0\n9133      0       0            1    0\n\n[9134 rows x 4 columns]",
            "text/html": "<div>\n<table border=\"1\" class=\"dataframe\">\n  <thead>\n    <tr style=\"text-align: right;\">\n      <th></th>\n      <th>Agent</th>\n      <th>Branch</th>\n      <th>Call Center</th>\n      <th>Web</th>\n    </tr>\n  </thead>\n  <tbody>\n    <tr>\n      <th>0</th>\n      <td>1</td>\n      <td>0</td>\n      <td>0</td>\n      <td>0</td>\n    </tr>\n    <tr>\n      <th>1</th>\n      <td>1</td>\n      <td>0</td>\n      <td>0</td>\n      <td>0</td>\n    </tr>\n    <tr>\n      <th>2</th>\n      <td>1</td>\n      <td>0</td>\n      <td>0</td>\n      <td>0</td>\n    </tr>\n    <tr>\n      <th>3</th>\n      <td>0</td>\n      <td>0</td>\n      <td>1</td>\n      <td>0</td>\n    </tr>\n    <tr>\n      <th>4</th>\n      <td>1</td>\n      <td>0</td>\n      <td>0</td>\n      <td>0</td>\n    </tr>\n    <tr>\n      <th>5</th>\n      <td>0</td>\n      <td>0</td>\n      <td>0</td>\n      <td>1</td>\n    </tr>\n    <tr>\n      <th>6</th>\n      <td>1</td>\n      <td>0</td>\n      <td>0</td>\n      <td>0</td>\n    </tr>\n    <tr>\n      <th>7</th>\n      <td>1</td>\n      <td>0</td>\n      <td>0</td>\n      <td>0</td>\n    </tr>\n    <tr>\n      <th>8</th>\n      <td>1</td>\n      <td>0</td>\n      <td>0</td>\n      <td>0</td>\n    </tr>\n    <tr>\n      <th>9</th>\n      <td>0</td>\n      <td>1</td>\n      <td>0</td>\n      <td>0</td>\n    </tr>\n    <tr>\n      <th>10</th>\n      <td>1</td>\n      <td>0</td>\n      <td>0</td>\n      <td>0</td>\n    </tr>\n    <tr>\n      <th>11</th>\n      <td>1</td>\n      <td>0</td>\n      <td>0</td>\n      <td>0</td>\n    </tr>\n    <tr>\n      <th>12</th>\n      <td>1</td>\n      <td>0</td>\n      <td>0</td>\n      <td>0</td>\n    </tr>\n    <tr>\n      <th>13</th>\n      <td>0</td>\n      <td>1</td>\n      <td>0</td>\n      <td>0</td>\n    </tr>\n    <tr>\n      <th>14</th>\n      <td>0</td>\n      <td>0</td>\n      <td>1</td>\n      <td>0</td>\n    </tr>\n    <tr>\n      <th>15</th>\n      <td>0</td>\n      <td>1</td>\n      <td>0</td>\n      <td>0</td>\n    </tr>\n    <tr>\n      <th>16</th>\n      <td>0</td>\n      <td>0</td>\n      <td>1</td>\n      <td>0</td>\n    </tr>\n    <tr>\n      <th>17</th>\n      <td>0</td>\n      <td>0</td>\n      <td>1</td>\n      <td>0</td>\n    </tr>\n    <tr>\n      <th>18</th>\n      <td>0</td>\n      <td>1</td>\n      <td>0</td>\n      <td>0</td>\n    </tr>\n    <tr>\n      <th>19</th>\n      <td>0</td>\n      <td>0</td>\n      <td>1</td>\n      <td>0</td>\n    </tr>\n    <tr>\n      <th>20</th>\n      <td>0</td>\n      <td>1</td>\n      <td>0</td>\n      <td>0</td>\n    </tr>\n    <tr>\n      <th>21</th>\n      <td>0</td>\n      <td>0</td>\n      <td>1</td>\n      <td>0</td>\n    </tr>\n    <tr>\n      <th>22</th>\n      <td>1</td>\n      <td>0</td>\n      <td>0</td>\n      <td>0</td>\n    </tr>\n    <tr>\n      <th>23</th>\n      <td>0</td>\n      <td>1</td>\n      <td>0</td>\n      <td>0</td>\n    </tr>\n    <tr>\n      <th>24</th>\n      <td>0</td>\n      <td>1</td>\n      <td>0</td>\n      <td>0</td>\n    </tr>\n    <tr>\n      <th>25</th>\n      <td>0</td>\n      <td>0</td>\n      <td>1</td>\n      <td>0</td>\n    </tr>\n    <tr>\n      <th>26</th>\n      <td>1</td>\n      <td>0</td>\n      <td>0</td>\n      <td>0</td>\n    </tr>\n    <tr>\n      <th>27</th>\n      <td>0</td>\n      <td>1</td>\n      <td>0</td>\n      <td>0</td>\n    </tr>\n    <tr>\n      <th>28</th>\n      <td>0</td>\n      <td>0</td>\n      <td>1</td>\n      <td>0</td>\n    </tr>\n    <tr>\n      <th>29</th>\n      <td>0</td>\n      <td>1</td>\n      <td>0</td>\n      <td>0</td>\n    </tr>\n    <tr>\n      <th>...</th>\n      <td>...</td>\n      <td>...</td>\n      <td>...</td>\n      <td>...</td>\n    </tr>\n    <tr>\n      <th>9104</th>\n      <td>1</td>\n      <td>0</td>\n      <td>0</td>\n      <td>0</td>\n    </tr>\n    <tr>\n      <th>9105</th>\n      <td>0</td>\n      <td>1</td>\n      <td>0</td>\n      <td>0</td>\n    </tr>\n    <tr>\n      <th>9106</th>\n      <td>1</td>\n      <td>0</td>\n      <td>0</td>\n      <td>0</td>\n    </tr>\n    <tr>\n      <th>9107</th>\n      <td>0</td>\n      <td>0</td>\n      <td>0</td>\n      <td>1</td>\n    </tr>\n    <tr>\n      <th>9108</th>\n      <td>1</td>\n      <td>0</td>\n      <td>0</td>\n      <td>0</td>\n    </tr>\n    <tr>\n      <th>9109</th>\n      <td>0</td>\n      <td>1</td>\n      <td>0</td>\n      <td>0</td>\n    </tr>\n    <tr>\n      <th>9110</th>\n      <td>1</td>\n      <td>0</td>\n      <td>0</td>\n      <td>0</td>\n    </tr>\n    <tr>\n      <th>9111</th>\n      <td>1</td>\n      <td>0</td>\n      <td>0</td>\n      <td>0</td>\n    </tr>\n    <tr>\n      <th>9112</th>\n      <td>1</td>\n      <td>0</td>\n      <td>0</td>\n      <td>0</td>\n    </tr>\n    <tr>\n      <th>9113</th>\n      <td>1</td>\n      <td>0</td>\n      <td>0</td>\n      <td>0</td>\n    </tr>\n    <tr>\n      <th>9114</th>\n      <td>0</td>\n      <td>1</td>\n      <td>0</td>\n      <td>0</td>\n    </tr>\n    <tr>\n      <th>9115</th>\n      <td>0</td>\n      <td>0</td>\n      <td>1</td>\n      <td>0</td>\n    </tr>\n    <tr>\n      <th>9116</th>\n      <td>1</td>\n      <td>0</td>\n      <td>0</td>\n      <td>0</td>\n    </tr>\n    <tr>\n      <th>9117</th>\n      <td>0</td>\n      <td>1</td>\n      <td>0</td>\n      <td>0</td>\n    </tr>\n    <tr>\n      <th>9118</th>\n      <td>1</td>\n      <td>0</td>\n      <td>0</td>\n      <td>0</td>\n    </tr>\n    <tr>\n      <th>9119</th>\n      <td>0</td>\n      <td>1</td>\n      <td>0</td>\n      <td>0</td>\n    </tr>\n    <tr>\n      <th>9120</th>\n      <td>0</td>\n      <td>0</td>\n      <td>0</td>\n      <td>1</td>\n    </tr>\n    <tr>\n      <th>9121</th>\n      <td>0</td>\n      <td>1</td>\n      <td>0</td>\n      <td>0</td>\n    </tr>\n    <tr>\n      <th>9122</th>\n      <td>0</td>\n      <td>1</td>\n      <td>0</td>\n      <td>0</td>\n    </tr>\n    <tr>\n      <th>9123</th>\n      <td>1</td>\n      <td>0</td>\n      <td>0</td>\n      <td>0</td>\n    </tr>\n    <tr>\n      <th>9124</th>\n      <td>1</td>\n      <td>0</td>\n      <td>0</td>\n      <td>0</td>\n    </tr>\n    <tr>\n      <th>9125</th>\n      <td>1</td>\n      <td>0</td>\n      <td>0</td>\n      <td>0</td>\n    </tr>\n    <tr>\n      <th>9126</th>\n      <td>0</td>\n      <td>1</td>\n      <td>0</td>\n      <td>0</td>\n    </tr>\n    <tr>\n      <th>9127</th>\n      <td>0</td>\n      <td>0</td>\n      <td>1</td>\n      <td>0</td>\n    </tr>\n    <tr>\n      <th>9128</th>\n      <td>0</td>\n      <td>1</td>\n      <td>0</td>\n      <td>0</td>\n    </tr>\n    <tr>\n      <th>9129</th>\n      <td>0</td>\n      <td>0</td>\n      <td>0</td>\n      <td>1</td>\n    </tr>\n    <tr>\n      <th>9130</th>\n      <td>0</td>\n      <td>1</td>\n      <td>0</td>\n      <td>0</td>\n    </tr>\n    <tr>\n      <th>9131</th>\n      <td>0</td>\n      <td>1</td>\n      <td>0</td>\n      <td>0</td>\n    </tr>\n    <tr>\n      <th>9132</th>\n      <td>0</td>\n      <td>1</td>\n      <td>0</td>\n      <td>0</td>\n    </tr>\n    <tr>\n      <th>9133</th>\n      <td>0</td>\n      <td>0</td>\n      <td>1</td>\n      <td>0</td>\n    </tr>\n  </tbody>\n</table>\n<p>9134 rows × 4 columns</p>\n</div>"
          },
          "metadata": {}
        }
      ]
    },
    {
      "metadata": {
        "trusted": true
      },
      "cell_type": "code",
      "source": "columns_to_encode = [\n    'Sales Channel', 'Vehicle Size', 'Vehicle Class', 'Policy', 'Policy Type', \n    'EmploymentStatus', 'Marital Status', 'Education', 'Coverage'\n]\n\ncategorical_features = []\nfor col in columns_to_encode:\n    encoded_df = pd.get_dummies(df[col])\n    encoded_df.columns = [col.replace(' ', '.') + '.' + x for x in encoded_df.columns]\n    \n    categorical_features += list(encoded_df.columns)\n    \n    df = pd.concat([df, encoded_df], axis=1)",
      "execution_count": 10,
      "outputs": []
    },
    {
      "metadata": {},
      "cell_type": "markdown",
      "source": "#### - Encoding Gender"
    },
    {
      "metadata": {
        "trusted": true
      },
      "cell_type": "code",
      "source": "df['Gender'].head(10)",
      "execution_count": 63,
      "outputs": [
        {
          "output_type": "execute_result",
          "execution_count": 63,
          "data": {
            "text/plain": "0    F\n1    F\n2    F\n3    M\n4    M\n5    F\n6    F\n7    M\n8    M\n9    F\nName: Gender, dtype: object"
          },
          "metadata": {}
        }
      ]
    },
    {
      "metadata": {
        "trusted": true
      },
      "cell_type": "code",
      "source": "df['Is.Female']",
      "execution_count": 64,
      "outputs": [
        {
          "output_type": "execute_result",
          "execution_count": 64,
          "data": {
            "text/plain": "0       1\n1       1\n2       1\n3       0\n4       0\n5       1\n6       1\n7       0\n8       0\n9       1\n10      0\n11      1\n12      0\n13      0\n14      0\n15      1\n16      0\n17      0\n18      0\n19      1\n20      0\n21      1\n22      0\n23      1\n24      1\n25      0\n26      1\n27      1\n28      1\n29      1\n       ..\n9104    0\n9105    0\n9106    0\n9107    0\n9108    1\n9109    0\n9110    1\n9111    0\n9112    1\n9113    1\n9114    1\n9115    1\n9116    1\n9117    1\n9118    0\n9119    0\n9120    1\n9121    1\n9122    1\n9123    1\n9124    0\n9125    0\n9126    0\n9127    0\n9128    1\n9129    0\n9130    1\n9131    0\n9132    0\n9133    0\nName: Is.Female, dtype: int64"
          },
          "metadata": {}
        }
      ]
    },
    {
      "metadata": {
        "trusted": true
      },
      "cell_type": "code",
      "source": "female_mapping = lambda x: 1 if x == 'F' else 0\n\nfemale_mapping('M')",
      "execution_count": 66,
      "outputs": [
        {
          "output_type": "execute_result",
          "execution_count": 66,
          "data": {
            "text/plain": "0"
          },
          "metadata": {}
        }
      ]
    },
    {
      "metadata": {
        "trusted": true
      },
      "cell_type": "code",
      "source": "df[['Gender', 'Is.Female']].head(10)",
      "execution_count": 67,
      "outputs": [
        {
          "output_type": "execute_result",
          "execution_count": 67,
          "data": {
            "text/plain": "  Gender  Is.Female\n0      F          1\n1      F          1\n2      F          1\n3      M          0\n4      M          0\n5      F          1\n6      F          1\n7      M          0\n8      M          0\n9      F          1",
            "text/html": "<div>\n<table border=\"1\" class=\"dataframe\">\n  <thead>\n    <tr style=\"text-align: right;\">\n      <th></th>\n      <th>Gender</th>\n      <th>Is.Female</th>\n    </tr>\n  </thead>\n  <tbody>\n    <tr>\n      <th>0</th>\n      <td>F</td>\n      <td>1</td>\n    </tr>\n    <tr>\n      <th>1</th>\n      <td>F</td>\n      <td>1</td>\n    </tr>\n    <tr>\n      <th>2</th>\n      <td>F</td>\n      <td>1</td>\n    </tr>\n    <tr>\n      <th>3</th>\n      <td>M</td>\n      <td>0</td>\n    </tr>\n    <tr>\n      <th>4</th>\n      <td>M</td>\n      <td>0</td>\n    </tr>\n    <tr>\n      <th>5</th>\n      <td>F</td>\n      <td>1</td>\n    </tr>\n    <tr>\n      <th>6</th>\n      <td>F</td>\n      <td>1</td>\n    </tr>\n    <tr>\n      <th>7</th>\n      <td>M</td>\n      <td>0</td>\n    </tr>\n    <tr>\n      <th>8</th>\n      <td>M</td>\n      <td>0</td>\n    </tr>\n    <tr>\n      <th>9</th>\n      <td>F</td>\n      <td>1</td>\n    </tr>\n  </tbody>\n</table>\n</div>"
          },
          "metadata": {}
        }
      ]
    },
    {
      "metadata": {
        "trusted": true
      },
      "cell_type": "code",
      "source": "df['Is.Female'] = df['Gender'].apply(lambda x: 1 if x == 'F' else 0)\n\ncategorical_features.append('Is.Female')",
      "execution_count": 11,
      "outputs": []
    },
    {
      "metadata": {},
      "cell_type": "markdown",
      "source": "#### - all features & response "
    },
    {
      "metadata": {
        "trusted": true
      },
      "cell_type": "code",
      "source": "all_features = continuous_features + categorical_features\nresponse = 'Engaged'",
      "execution_count": 69,
      "outputs": []
    },
    {
      "metadata": {
        "trusted": true
      },
      "cell_type": "code",
      "source": "categorical_features",
      "execution_count": 1,
      "outputs": [
        {
          "output_type": "error",
          "ename": "NameError",
          "evalue": "name 'categorical_features' is not defined",
          "traceback": [
            "\u001b[0;31m---------------------------------------------------------------------------\u001b[0m",
            "\u001b[0;31mNameError\u001b[0m                                 Traceback (most recent call last)",
            "\u001b[0;32m<ipython-input-1-1924cd84d78c>\u001b[0m in \u001b[0;36m<module>\u001b[0;34m()\u001b[0m\n\u001b[0;32m----> 1\u001b[0;31m \u001b[0mcategorical_features\u001b[0m\u001b[0;34m\u001b[0m\u001b[0m\n\u001b[0m",
            "\u001b[0;31mNameError\u001b[0m: name 'categorical_features' is not defined"
          ]
        }
      ]
    },
    {
      "metadata": {
        "trusted": true
      },
      "cell_type": "code",
      "source": "x = 'Sales Channel'\nx.replace(' ', '.')",
      "execution_count": 72,
      "outputs": [
        {
          "output_type": "execute_result",
          "execution_count": 72,
          "data": {
            "text/plain": "'Sales.Channel'"
          },
          "metadata": {}
        }
      ]
    },
    {
      "metadata": {
        "trusted": true
      },
      "cell_type": "code",
      "source": "sample_df = df[all_features + [response]]\nsample_df.columns = [x.replace(' ', '.') for x in sample_df.columns]\nall_features = [x.replace(' ', '.') for x in all_features]",
      "execution_count": 70,
      "outputs": []
    },
    {
      "metadata": {
        "trusted": true
      },
      "cell_type": "code",
      "source": "sample_df.head()",
      "execution_count": 71,
      "outputs": [
        {
          "output_type": "execute_result",
          "execution_count": 71,
          "data": {
            "text/plain": "   Customer.Lifetime.Value  Income  Monthly.Premium.Auto  \\\n0              2763.519279   56274                    69   \n1              6979.535903       0                    94   \n2             12887.431650   48767                   108   \n3              7645.861827       0                   106   \n4              2813.692575   43836                    73   \n\n   Months.Since.Last.Claim  Months.Since.Policy.Inception  \\\n0                       32                              5   \n1                       13                             42   \n2                       18                             38   \n3                       18                             65   \n4                       12                             44   \n\n   Number.of.Open.Complaints  Number.of.Policies  Total.Claim.Amount  \\\n0                          0                   1          384.811147   \n1                          0                   8         1131.464935   \n2                          0                   2          566.472247   \n3                          0                   7          529.881344   \n4                          0                   1          138.130879   \n\n   Sales.Channel.Agent  Sales.Channel.Branch   ...     Education.Bachelor  \\\n0                    1                     0   ...                      1   \n1                    1                     0   ...                      1   \n2                    1                     0   ...                      1   \n3                    0                     0   ...                      1   \n4                    1                     0   ...                      1   \n\n   Education.College  Education.Doctor  Education.High.School.or.Below  \\\n0                  0                 0                               0   \n1                  0                 0                               0   \n2                  0                 0                               0   \n3                  0                 0                               0   \n4                  0                 0                               0   \n\n   Education.Master  Coverage.Basic  Coverage.Extended  Coverage.Premium  \\\n0                 0               1                  0                 0   \n1                 0               0                  1                 0   \n2                 0               0                  0                 1   \n3                 0               1                  0                 0   \n4                 0               1                  0                 0   \n\n   Is.Female  Engaged  \n0          1        0  \n1          1        0  \n2          1        0  \n3          0        0  \n4          0        0  \n\n[5 rows x 51 columns]",
            "text/html": "<div>\n<table border=\"1\" class=\"dataframe\">\n  <thead>\n    <tr style=\"text-align: right;\">\n      <th></th>\n      <th>Customer.Lifetime.Value</th>\n      <th>Income</th>\n      <th>Monthly.Premium.Auto</th>\n      <th>Months.Since.Last.Claim</th>\n      <th>Months.Since.Policy.Inception</th>\n      <th>Number.of.Open.Complaints</th>\n      <th>Number.of.Policies</th>\n      <th>Total.Claim.Amount</th>\n      <th>Sales.Channel.Agent</th>\n      <th>Sales.Channel.Branch</th>\n      <th>...</th>\n      <th>Education.Bachelor</th>\n      <th>Education.College</th>\n      <th>Education.Doctor</th>\n      <th>Education.High.School.or.Below</th>\n      <th>Education.Master</th>\n      <th>Coverage.Basic</th>\n      <th>Coverage.Extended</th>\n      <th>Coverage.Premium</th>\n      <th>Is.Female</th>\n      <th>Engaged</th>\n    </tr>\n  </thead>\n  <tbody>\n    <tr>\n      <th>0</th>\n      <td>2763.519279</td>\n      <td>56274</td>\n      <td>69</td>\n      <td>32</td>\n      <td>5</td>\n      <td>0</td>\n      <td>1</td>\n      <td>384.811147</td>\n      <td>1</td>\n      <td>0</td>\n      <td>...</td>\n      <td>1</td>\n      <td>0</td>\n      <td>0</td>\n      <td>0</td>\n      <td>0</td>\n      <td>1</td>\n      <td>0</td>\n      <td>0</td>\n      <td>1</td>\n      <td>0</td>\n    </tr>\n    <tr>\n      <th>1</th>\n      <td>6979.535903</td>\n      <td>0</td>\n      <td>94</td>\n      <td>13</td>\n      <td>42</td>\n      <td>0</td>\n      <td>8</td>\n      <td>1131.464935</td>\n      <td>1</td>\n      <td>0</td>\n      <td>...</td>\n      <td>1</td>\n      <td>0</td>\n      <td>0</td>\n      <td>0</td>\n      <td>0</td>\n      <td>0</td>\n      <td>1</td>\n      <td>0</td>\n      <td>1</td>\n      <td>0</td>\n    </tr>\n    <tr>\n      <th>2</th>\n      <td>12887.431650</td>\n      <td>48767</td>\n      <td>108</td>\n      <td>18</td>\n      <td>38</td>\n      <td>0</td>\n      <td>2</td>\n      <td>566.472247</td>\n      <td>1</td>\n      <td>0</td>\n      <td>...</td>\n      <td>1</td>\n      <td>0</td>\n      <td>0</td>\n      <td>0</td>\n      <td>0</td>\n      <td>0</td>\n      <td>0</td>\n      <td>1</td>\n      <td>1</td>\n      <td>0</td>\n    </tr>\n    <tr>\n      <th>3</th>\n      <td>7645.861827</td>\n      <td>0</td>\n      <td>106</td>\n      <td>18</td>\n      <td>65</td>\n      <td>0</td>\n      <td>7</td>\n      <td>529.881344</td>\n      <td>0</td>\n      <td>0</td>\n      <td>...</td>\n      <td>1</td>\n      <td>0</td>\n      <td>0</td>\n      <td>0</td>\n      <td>0</td>\n      <td>1</td>\n      <td>0</td>\n      <td>0</td>\n      <td>0</td>\n      <td>0</td>\n    </tr>\n    <tr>\n      <th>4</th>\n      <td>2813.692575</td>\n      <td>43836</td>\n      <td>73</td>\n      <td>12</td>\n      <td>44</td>\n      <td>0</td>\n      <td>1</td>\n      <td>138.130879</td>\n      <td>1</td>\n      <td>0</td>\n      <td>...</td>\n      <td>1</td>\n      <td>0</td>\n      <td>0</td>\n      <td>0</td>\n      <td>0</td>\n      <td>1</td>\n      <td>0</td>\n      <td>0</td>\n      <td>0</td>\n      <td>0</td>\n    </tr>\n  </tbody>\n</table>\n<p>5 rows × 51 columns</p>\n</div>"
          },
          "metadata": {}
        }
      ]
    },
    {
      "metadata": {},
      "cell_type": "markdown",
      "source": "# 3. Training & Testing"
    },
    {
      "metadata": {
        "trusted": true
      },
      "cell_type": "code",
      "source": "from sklearn.model_selection import train_test_split",
      "execution_count": 15,
      "outputs": []
    },
    {
      "metadata": {
        "trusted": true
      },
      "cell_type": "code",
      "source": "#x_train, x_test = train_test_split(sample_df, test_size=0.3)",
      "execution_count": 75,
      "outputs": []
    },
    {
      "metadata": {
        "trusted": true
      },
      "cell_type": "code",
      "source": "x_train, x_test, y_train, y_test = train_test_split(sample_df[['']], sample_df[response], test_size=0.3)",
      "execution_count": 77,
      "outputs": []
    },
    {
      "metadata": {
        "trusted": true
      },
      "cell_type": "code",
      "source": "sample_df.shape",
      "execution_count": 78,
      "outputs": [
        {
          "output_type": "execute_result",
          "execution_count": 78,
          "data": {
            "text/plain": "(9134, 51)"
          },
          "metadata": {}
        }
      ]
    },
    {
      "metadata": {
        "trusted": true
      },
      "cell_type": "code",
      "source": "x_train.shape",
      "execution_count": 79,
      "outputs": [
        {
          "output_type": "execute_result",
          "execution_count": 79,
          "data": {
            "text/plain": "(6393, 50)"
          },
          "metadata": {}
        }
      ]
    },
    {
      "metadata": {
        "trusted": true
      },
      "cell_type": "code",
      "source": "x_test.shape",
      "execution_count": 19,
      "outputs": [
        {
          "output_type": "execute_result",
          "execution_count": 19,
          "data": {
            "text/plain": "(2741, 50)"
          },
          "metadata": {}
        }
      ]
    },
    {
      "metadata": {},
      "cell_type": "markdown",
      "source": "## 3.1. Building RandomForest Model"
    },
    {
      "metadata": {
        "trusted": true
      },
      "cell_type": "code",
      "source": "from sklearn.ensemble import RandomForestClassifier",
      "execution_count": 20,
      "outputs": [
        {
          "output_type": "stream",
          "text": "/home/nbuser/anaconda3_420/lib/python3.5/site-packages/sklearn/ensemble/weight_boosting.py:29: DeprecationWarning: numpy.core.umath_tests is an internal NumPy module and should not be imported. It will be removed in a future NumPy release.\n  from numpy.core.umath_tests import inner1d\n",
          "name": "stderr"
        }
      ]
    },
    {
      "metadata": {
        "trusted": true
      },
      "cell_type": "code",
      "source": "rf_model = RandomForestClassifier(\n    n_estimators=200,\n    max_depth=5\n)",
      "execution_count": 21,
      "outputs": []
    },
    {
      "metadata": {
        "trusted": true
      },
      "cell_type": "code",
      "source": "rf_model.fit(X=x_train, y=y_train)",
      "execution_count": 22,
      "outputs": [
        {
          "output_type": "execute_result",
          "execution_count": 22,
          "data": {
            "text/plain": "RandomForestClassifier(bootstrap=True, class_weight=None, criterion='gini',\n            max_depth=5, max_features='auto', max_leaf_nodes=None,\n            min_impurity_decrease=0.0, min_impurity_split=None,\n            min_samples_leaf=1, min_samples_split=2,\n            min_weight_fraction_leaf=0.0, n_estimators=200, n_jobs=1,\n            oob_score=False, random_state=None, verbose=0,\n            warm_start=False)"
          },
          "metadata": {}
        }
      ]
    },
    {
      "metadata": {},
      "cell_type": "markdown",
      "source": "#### - Individual Trees"
    },
    {
      "metadata": {
        "scrolled": true,
        "trusted": true
      },
      "cell_type": "code",
      "source": "rf_model.estimators_",
      "execution_count": 23,
      "outputs": [
        {
          "output_type": "execute_result",
          "execution_count": 23,
          "data": {
            "text/plain": "[DecisionTreeClassifier(class_weight=None, criterion='gini', max_depth=5,\n             max_features='auto', max_leaf_nodes=None,\n             min_impurity_decrease=0.0, min_impurity_split=None,\n             min_samples_leaf=1, min_samples_split=2,\n             min_weight_fraction_leaf=0.0, presort=False,\n             random_state=961533479, splitter='best'),\n DecisionTreeClassifier(class_weight=None, criterion='gini', max_depth=5,\n             max_features='auto', max_leaf_nodes=None,\n             min_impurity_decrease=0.0, min_impurity_split=None,\n             min_samples_leaf=1, min_samples_split=2,\n             min_weight_fraction_leaf=0.0, presort=False,\n             random_state=623543440, splitter='best'),\n DecisionTreeClassifier(class_weight=None, criterion='gini', max_depth=5,\n             max_features='auto', max_leaf_nodes=None,\n             min_impurity_decrease=0.0, min_impurity_split=None,\n             min_samples_leaf=1, min_samples_split=2,\n             min_weight_fraction_leaf=0.0, presort=False,\n             random_state=312625284, splitter='best'),\n DecisionTreeClassifier(class_weight=None, criterion='gini', max_depth=5,\n             max_features='auto', max_leaf_nodes=None,\n             min_impurity_decrease=0.0, min_impurity_split=None,\n             min_samples_leaf=1, min_samples_split=2,\n             min_weight_fraction_leaf=0.0, presort=False,\n             random_state=2041224598, splitter='best'),\n DecisionTreeClassifier(class_weight=None, criterion='gini', max_depth=5,\n             max_features='auto', max_leaf_nodes=None,\n             min_impurity_decrease=0.0, min_impurity_split=None,\n             min_samples_leaf=1, min_samples_split=2,\n             min_weight_fraction_leaf=0.0, presort=False,\n             random_state=1877442747, splitter='best'),\n DecisionTreeClassifier(class_weight=None, criterion='gini', max_depth=5,\n             max_features='auto', max_leaf_nodes=None,\n             min_impurity_decrease=0.0, min_impurity_split=None,\n             min_samples_leaf=1, min_samples_split=2,\n             min_weight_fraction_leaf=0.0, presort=False,\n             random_state=59641862, splitter='best'),\n DecisionTreeClassifier(class_weight=None, criterion='gini', max_depth=5,\n             max_features='auto', max_leaf_nodes=None,\n             min_impurity_decrease=0.0, min_impurity_split=None,\n             min_samples_leaf=1, min_samples_split=2,\n             min_weight_fraction_leaf=0.0, presort=False,\n             random_state=223027961, splitter='best'),\n DecisionTreeClassifier(class_weight=None, criterion='gini', max_depth=5,\n             max_features='auto', max_leaf_nodes=None,\n             min_impurity_decrease=0.0, min_impurity_split=None,\n             min_samples_leaf=1, min_samples_split=2,\n             min_weight_fraction_leaf=0.0, presort=False,\n             random_state=831519914, splitter='best'),\n DecisionTreeClassifier(class_weight=None, criterion='gini', max_depth=5,\n             max_features='auto', max_leaf_nodes=None,\n             min_impurity_decrease=0.0, min_impurity_split=None,\n             min_samples_leaf=1, min_samples_split=2,\n             min_weight_fraction_leaf=0.0, presort=False,\n             random_state=1134006590, splitter='best'),\n DecisionTreeClassifier(class_weight=None, criterion='gini', max_depth=5,\n             max_features='auto', max_leaf_nodes=None,\n             min_impurity_decrease=0.0, min_impurity_split=None,\n             min_samples_leaf=1, min_samples_split=2,\n             min_weight_fraction_leaf=0.0, presort=False,\n             random_state=572006440, splitter='best'),\n DecisionTreeClassifier(class_weight=None, criterion='gini', max_depth=5,\n             max_features='auto', max_leaf_nodes=None,\n             min_impurity_decrease=0.0, min_impurity_split=None,\n             min_samples_leaf=1, min_samples_split=2,\n             min_weight_fraction_leaf=0.0, presort=False,\n             random_state=448517472, splitter='best'),\n DecisionTreeClassifier(class_weight=None, criterion='gini', max_depth=5,\n             max_features='auto', max_leaf_nodes=None,\n             min_impurity_decrease=0.0, min_impurity_split=None,\n             min_samples_leaf=1, min_samples_split=2,\n             min_weight_fraction_leaf=0.0, presort=False,\n             random_state=993140948, splitter='best'),\n DecisionTreeClassifier(class_weight=None, criterion='gini', max_depth=5,\n             max_features='auto', max_leaf_nodes=None,\n             min_impurity_decrease=0.0, min_impurity_split=None,\n             min_samples_leaf=1, min_samples_split=2,\n             min_weight_fraction_leaf=0.0, presort=False,\n             random_state=1388835270, splitter='best'),\n DecisionTreeClassifier(class_weight=None, criterion='gini', max_depth=5,\n             max_features='auto', max_leaf_nodes=None,\n             min_impurity_decrease=0.0, min_impurity_split=None,\n             min_samples_leaf=1, min_samples_split=2,\n             min_weight_fraction_leaf=0.0, presort=False,\n             random_state=2087470035, splitter='best'),\n DecisionTreeClassifier(class_weight=None, criterion='gini', max_depth=5,\n             max_features='auto', max_leaf_nodes=None,\n             min_impurity_decrease=0.0, min_impurity_split=None,\n             min_samples_leaf=1, min_samples_split=2,\n             min_weight_fraction_leaf=0.0, presort=False,\n             random_state=1882737031, splitter='best'),\n DecisionTreeClassifier(class_weight=None, criterion='gini', max_depth=5,\n             max_features='auto', max_leaf_nodes=None,\n             min_impurity_decrease=0.0, min_impurity_split=None,\n             min_samples_leaf=1, min_samples_split=2,\n             min_weight_fraction_leaf=0.0, presort=False,\n             random_state=1691137870, splitter='best'),\n DecisionTreeClassifier(class_weight=None, criterion='gini', max_depth=5,\n             max_features='auto', max_leaf_nodes=None,\n             min_impurity_decrease=0.0, min_impurity_split=None,\n             min_samples_leaf=1, min_samples_split=2,\n             min_weight_fraction_leaf=0.0, presort=False,\n             random_state=69549802, splitter='best'),\n DecisionTreeClassifier(class_weight=None, criterion='gini', max_depth=5,\n             max_features='auto', max_leaf_nodes=None,\n             min_impurity_decrease=0.0, min_impurity_split=None,\n             min_samples_leaf=1, min_samples_split=2,\n             min_weight_fraction_leaf=0.0, presort=False,\n             random_state=1783363417, splitter='best'),\n DecisionTreeClassifier(class_weight=None, criterion='gini', max_depth=5,\n             max_features='auto', max_leaf_nodes=None,\n             min_impurity_decrease=0.0, min_impurity_split=None,\n             min_samples_leaf=1, min_samples_split=2,\n             min_weight_fraction_leaf=0.0, presort=False,\n             random_state=707625579, splitter='best'),\n DecisionTreeClassifier(class_weight=None, criterion='gini', max_depth=5,\n             max_features='auto', max_leaf_nodes=None,\n             min_impurity_decrease=0.0, min_impurity_split=None,\n             min_samples_leaf=1, min_samples_split=2,\n             min_weight_fraction_leaf=0.0, presort=False,\n             random_state=1195812277, splitter='best'),\n DecisionTreeClassifier(class_weight=None, criterion='gini', max_depth=5,\n             max_features='auto', max_leaf_nodes=None,\n             min_impurity_decrease=0.0, min_impurity_split=None,\n             min_samples_leaf=1, min_samples_split=2,\n             min_weight_fraction_leaf=0.0, presort=False,\n             random_state=1359533732, splitter='best'),\n DecisionTreeClassifier(class_weight=None, criterion='gini', max_depth=5,\n             max_features='auto', max_leaf_nodes=None,\n             min_impurity_decrease=0.0, min_impurity_split=None,\n             min_samples_leaf=1, min_samples_split=2,\n             min_weight_fraction_leaf=0.0, presort=False,\n             random_state=3461701, splitter='best'),\n DecisionTreeClassifier(class_weight=None, criterion='gini', max_depth=5,\n             max_features='auto', max_leaf_nodes=None,\n             min_impurity_decrease=0.0, min_impurity_split=None,\n             min_samples_leaf=1, min_samples_split=2,\n             min_weight_fraction_leaf=0.0, presort=False,\n             random_state=257067740, splitter='best'),\n DecisionTreeClassifier(class_weight=None, criterion='gini', max_depth=5,\n             max_features='auto', max_leaf_nodes=None,\n             min_impurity_decrease=0.0, min_impurity_split=None,\n             min_samples_leaf=1, min_samples_split=2,\n             min_weight_fraction_leaf=0.0, presort=False,\n             random_state=1103433308, splitter='best'),\n DecisionTreeClassifier(class_weight=None, criterion='gini', max_depth=5,\n             max_features='auto', max_leaf_nodes=None,\n             min_impurity_decrease=0.0, min_impurity_split=None,\n             min_samples_leaf=1, min_samples_split=2,\n             min_weight_fraction_leaf=0.0, presort=False,\n             random_state=1528250615, splitter='best'),\n DecisionTreeClassifier(class_weight=None, criterion='gini', max_depth=5,\n             max_features='auto', max_leaf_nodes=None,\n             min_impurity_decrease=0.0, min_impurity_split=None,\n             min_samples_leaf=1, min_samples_split=2,\n             min_weight_fraction_leaf=0.0, presort=False,\n             random_state=724930883, splitter='best'),\n DecisionTreeClassifier(class_weight=None, criterion='gini', max_depth=5,\n             max_features='auto', max_leaf_nodes=None,\n             min_impurity_decrease=0.0, min_impurity_split=None,\n             min_samples_leaf=1, min_samples_split=2,\n             min_weight_fraction_leaf=0.0, presort=False,\n             random_state=1063551205, splitter='best'),\n DecisionTreeClassifier(class_weight=None, criterion='gini', max_depth=5,\n             max_features='auto', max_leaf_nodes=None,\n             min_impurity_decrease=0.0, min_impurity_split=None,\n             min_samples_leaf=1, min_samples_split=2,\n             min_weight_fraction_leaf=0.0, presort=False,\n             random_state=1599936255, splitter='best'),\n DecisionTreeClassifier(class_weight=None, criterion='gini', max_depth=5,\n             max_features='auto', max_leaf_nodes=None,\n             min_impurity_decrease=0.0, min_impurity_split=None,\n             min_samples_leaf=1, min_samples_split=2,\n             min_weight_fraction_leaf=0.0, presort=False,\n             random_state=675771807, splitter='best'),\n DecisionTreeClassifier(class_weight=None, criterion='gini', max_depth=5,\n             max_features='auto', max_leaf_nodes=None,\n             min_impurity_decrease=0.0, min_impurity_split=None,\n             min_samples_leaf=1, min_samples_split=2,\n             min_weight_fraction_leaf=0.0, presort=False,\n             random_state=106114900, splitter='best'),\n DecisionTreeClassifier(class_weight=None, criterion='gini', max_depth=5,\n             max_features='auto', max_leaf_nodes=None,\n             min_impurity_decrease=0.0, min_impurity_split=None,\n             min_samples_leaf=1, min_samples_split=2,\n             min_weight_fraction_leaf=0.0, presort=False,\n             random_state=2050227088, splitter='best'),\n DecisionTreeClassifier(class_weight=None, criterion='gini', max_depth=5,\n             max_features='auto', max_leaf_nodes=None,\n             min_impurity_decrease=0.0, min_impurity_split=None,\n             min_samples_leaf=1, min_samples_split=2,\n             min_weight_fraction_leaf=0.0, presort=False,\n             random_state=660986849, splitter='best'),\n DecisionTreeClassifier(class_weight=None, criterion='gini', max_depth=5,\n             max_features='auto', max_leaf_nodes=None,\n             min_impurity_decrease=0.0, min_impurity_split=None,\n             min_samples_leaf=1, min_samples_split=2,\n             min_weight_fraction_leaf=0.0, presort=False,\n             random_state=896386767, splitter='best'),\n DecisionTreeClassifier(class_weight=None, criterion='gini', max_depth=5,\n             max_features='auto', max_leaf_nodes=None,\n             min_impurity_decrease=0.0, min_impurity_split=None,\n             min_samples_leaf=1, min_samples_split=2,\n             min_weight_fraction_leaf=0.0, presort=False,\n             random_state=1660574373, splitter='best'),\n DecisionTreeClassifier(class_weight=None, criterion='gini', max_depth=5,\n             max_features='auto', max_leaf_nodes=None,\n             min_impurity_decrease=0.0, min_impurity_split=None,\n             min_samples_leaf=1, min_samples_split=2,\n             min_weight_fraction_leaf=0.0, presort=False,\n             random_state=446803397, splitter='best'),\n DecisionTreeClassifier(class_weight=None, criterion='gini', max_depth=5,\n             max_features='auto', max_leaf_nodes=None,\n             min_impurity_decrease=0.0, min_impurity_split=None,\n             min_samples_leaf=1, min_samples_split=2,\n             min_weight_fraction_leaf=0.0, presort=False,\n             random_state=2017592500, splitter='best'),\n DecisionTreeClassifier(class_weight=None, criterion='gini', max_depth=5,\n             max_features='auto', max_leaf_nodes=None,\n             min_impurity_decrease=0.0, min_impurity_split=None,\n             min_samples_leaf=1, min_samples_split=2,\n             min_weight_fraction_leaf=0.0, presort=False,\n             random_state=2080200499, splitter='best'),\n DecisionTreeClassifier(class_weight=None, criterion='gini', max_depth=5,\n             max_features='auto', max_leaf_nodes=None,\n             min_impurity_decrease=0.0, min_impurity_split=None,\n             min_samples_leaf=1, min_samples_split=2,\n             min_weight_fraction_leaf=0.0, presort=False,\n             random_state=383570565, splitter='best'),\n DecisionTreeClassifier(class_weight=None, criterion='gini', max_depth=5,\n             max_features='auto', max_leaf_nodes=None,\n             min_impurity_decrease=0.0, min_impurity_split=None,\n             min_samples_leaf=1, min_samples_split=2,\n             min_weight_fraction_leaf=0.0, presort=False,\n             random_state=768575818, splitter='best'),\n DecisionTreeClassifier(class_weight=None, criterion='gini', max_depth=5,\n             max_features='auto', max_leaf_nodes=None,\n             min_impurity_decrease=0.0, min_impurity_split=None,\n             min_samples_leaf=1, min_samples_split=2,\n             min_weight_fraction_leaf=0.0, presort=False,\n             random_state=1500106806, splitter='best'),\n DecisionTreeClassifier(class_weight=None, criterion='gini', max_depth=5,\n             max_features='auto', max_leaf_nodes=None,\n             min_impurity_decrease=0.0, min_impurity_split=None,\n             min_samples_leaf=1, min_samples_split=2,\n             min_weight_fraction_leaf=0.0, presort=False,\n             random_state=2105100710, splitter='best'),\n DecisionTreeClassifier(class_weight=None, criterion='gini', max_depth=5,\n             max_features='auto', max_leaf_nodes=None,\n             min_impurity_decrease=0.0, min_impurity_split=None,\n             min_samples_leaf=1, min_samples_split=2,\n             min_weight_fraction_leaf=0.0, presort=False,\n             random_state=387281638, splitter='best'),\n DecisionTreeClassifier(class_weight=None, criterion='gini', max_depth=5,\n             max_features='auto', max_leaf_nodes=None,\n             min_impurity_decrease=0.0, min_impurity_split=None,\n             min_samples_leaf=1, min_samples_split=2,\n             min_weight_fraction_leaf=0.0, presort=False,\n             random_state=228399271, splitter='best'),\n DecisionTreeClassifier(class_weight=None, criterion='gini', max_depth=5,\n             max_features='auto', max_leaf_nodes=None,\n             min_impurity_decrease=0.0, min_impurity_split=None,\n             min_samples_leaf=1, min_samples_split=2,\n             min_weight_fraction_leaf=0.0, presort=False,\n             random_state=971738792, splitter='best'),\n DecisionTreeClassifier(class_weight=None, criterion='gini', max_depth=5,\n             max_features='auto', max_leaf_nodes=None,\n             min_impurity_decrease=0.0, min_impurity_split=None,\n             min_samples_leaf=1, min_samples_split=2,\n             min_weight_fraction_leaf=0.0, presort=False,\n             random_state=1663767335, splitter='best'),\n DecisionTreeClassifier(class_weight=None, criterion='gini', max_depth=5,\n             max_features='auto', max_leaf_nodes=None,\n             min_impurity_decrease=0.0, min_impurity_split=None,\n             min_samples_leaf=1, min_samples_split=2,\n             min_weight_fraction_leaf=0.0, presort=False,\n             random_state=2044443935, splitter='best'),\n DecisionTreeClassifier(class_weight=None, criterion='gini', max_depth=5,\n             max_features='auto', max_leaf_nodes=None,\n             min_impurity_decrease=0.0, min_impurity_split=None,\n             min_samples_leaf=1, min_samples_split=2,\n             min_weight_fraction_leaf=0.0, presort=False,\n             random_state=1774877728, splitter='best'),\n DecisionTreeClassifier(class_weight=None, criterion='gini', max_depth=5,\n             max_features='auto', max_leaf_nodes=None,\n             min_impurity_decrease=0.0, min_impurity_split=None,\n             min_samples_leaf=1, min_samples_split=2,\n             min_weight_fraction_leaf=0.0, presort=False,\n             random_state=197389296, splitter='best'),\n DecisionTreeClassifier(class_weight=None, criterion='gini', max_depth=5,\n             max_features='auto', max_leaf_nodes=None,\n             min_impurity_decrease=0.0, min_impurity_split=None,\n             min_samples_leaf=1, min_samples_split=2,\n             min_weight_fraction_leaf=0.0, presort=False,\n             random_state=808528701, splitter='best'),\n DecisionTreeClassifier(class_weight=None, criterion='gini', max_depth=5,\n             max_features='auto', max_leaf_nodes=None,\n             min_impurity_decrease=0.0, min_impurity_split=None,\n             min_samples_leaf=1, min_samples_split=2,\n             min_weight_fraction_leaf=0.0, presort=False,\n             random_state=2026280026, splitter='best'),\n DecisionTreeClassifier(class_weight=None, criterion='gini', max_depth=5,\n             max_features='auto', max_leaf_nodes=None,\n             min_impurity_decrease=0.0, min_impurity_split=None,\n             min_samples_leaf=1, min_samples_split=2,\n             min_weight_fraction_leaf=0.0, presort=False,\n             random_state=1883221812, splitter='best'),\n DecisionTreeClassifier(class_weight=None, criterion='gini', max_depth=5,\n             max_features='auto', max_leaf_nodes=None,\n             min_impurity_decrease=0.0, min_impurity_split=None,\n             min_samples_leaf=1, min_samples_split=2,\n             min_weight_fraction_leaf=0.0, presort=False,\n             random_state=819075737, splitter='best'),\n DecisionTreeClassifier(class_weight=None, criterion='gini', max_depth=5,\n             max_features='auto', max_leaf_nodes=None,\n             min_impurity_decrease=0.0, min_impurity_split=None,\n             min_samples_leaf=1, min_samples_split=2,\n             min_weight_fraction_leaf=0.0, presort=False,\n             random_state=230517170, splitter='best'),\n DecisionTreeClassifier(class_weight=None, criterion='gini', max_depth=5,\n             max_features='auto', max_leaf_nodes=None,\n             min_impurity_decrease=0.0, min_impurity_split=None,\n             min_samples_leaf=1, min_samples_split=2,\n             min_weight_fraction_leaf=0.0, presort=False,\n             random_state=2140370378, splitter='best'),\n DecisionTreeClassifier(class_weight=None, criterion='gini', max_depth=5,\n             max_features='auto', max_leaf_nodes=None,\n             min_impurity_decrease=0.0, min_impurity_split=None,\n             min_samples_leaf=1, min_samples_split=2,\n             min_weight_fraction_leaf=0.0, presort=False,\n             random_state=273406064, splitter='best'),\n DecisionTreeClassifier(class_weight=None, criterion='gini', max_depth=5,\n             max_features='auto', max_leaf_nodes=None,\n             min_impurity_decrease=0.0, min_impurity_split=None,\n             min_samples_leaf=1, min_samples_split=2,\n             min_weight_fraction_leaf=0.0, presort=False,\n             random_state=449422142, splitter='best'),\n DecisionTreeClassifier(class_weight=None, criterion='gini', max_depth=5,\n             max_features='auto', max_leaf_nodes=None,\n             min_impurity_decrease=0.0, min_impurity_split=None,\n             min_samples_leaf=1, min_samples_split=2,\n             min_weight_fraction_leaf=0.0, presort=False,\n             random_state=277526127, splitter='best'),\n DecisionTreeClassifier(class_weight=None, criterion='gini', max_depth=5,\n             max_features='auto', max_leaf_nodes=None,\n             min_impurity_decrease=0.0, min_impurity_split=None,\n             min_samples_leaf=1, min_samples_split=2,\n             min_weight_fraction_leaf=0.0, presort=False,\n             random_state=388107971, splitter='best'),\n DecisionTreeClassifier(class_weight=None, criterion='gini', max_depth=5,\n             max_features='auto', max_leaf_nodes=None,\n             min_impurity_decrease=0.0, min_impurity_split=None,\n             min_samples_leaf=1, min_samples_split=2,\n             min_weight_fraction_leaf=0.0, presort=False,\n             random_state=950435811, splitter='best'),\n DecisionTreeClassifier(class_weight=None, criterion='gini', max_depth=5,\n             max_features='auto', max_leaf_nodes=None,\n             min_impurity_decrease=0.0, min_impurity_split=None,\n             min_samples_leaf=1, min_samples_split=2,\n             min_weight_fraction_leaf=0.0, presort=False,\n             random_state=1526427088, splitter='best'),\n DecisionTreeClassifier(class_weight=None, criterion='gini', max_depth=5,\n             max_features='auto', max_leaf_nodes=None,\n             min_impurity_decrease=0.0, min_impurity_split=None,\n             min_samples_leaf=1, min_samples_split=2,\n             min_weight_fraction_leaf=0.0, presort=False,\n             random_state=565205136, splitter='best'),\n DecisionTreeClassifier(class_weight=None, criterion='gini', max_depth=5,\n             max_features='auto', max_leaf_nodes=None,\n             min_impurity_decrease=0.0, min_impurity_split=None,\n             min_samples_leaf=1, min_samples_split=2,\n             min_weight_fraction_leaf=0.0, presort=False,\n             random_state=1761048313, splitter='best'),\n DecisionTreeClassifier(class_weight=None, criterion='gini', max_depth=5,\n             max_features='auto', max_leaf_nodes=None,\n             min_impurity_decrease=0.0, min_impurity_split=None,\n             min_samples_leaf=1, min_samples_split=2,\n             min_weight_fraction_leaf=0.0, presort=False,\n             random_state=2104689231, splitter='best'),\n DecisionTreeClassifier(class_weight=None, criterion='gini', max_depth=5,\n             max_features='auto', max_leaf_nodes=None,\n             min_impurity_decrease=0.0, min_impurity_split=None,\n             min_samples_leaf=1, min_samples_split=2,\n             min_weight_fraction_leaf=0.0, presort=False,\n             random_state=660610446, splitter='best'),\n DecisionTreeClassifier(class_weight=None, criterion='gini', max_depth=5,\n             max_features='auto', max_leaf_nodes=None,\n             min_impurity_decrease=0.0, min_impurity_split=None,\n             min_samples_leaf=1, min_samples_split=2,\n             min_weight_fraction_leaf=0.0, presort=False,\n             random_state=1340455634, splitter='best'),\n DecisionTreeClassifier(class_weight=None, criterion='gini', max_depth=5,\n             max_features='auto', max_leaf_nodes=None,\n             min_impurity_decrease=0.0, min_impurity_split=None,\n             min_samples_leaf=1, min_samples_split=2,\n             min_weight_fraction_leaf=0.0, presort=False,\n             random_state=768706707, splitter='best'),\n DecisionTreeClassifier(class_weight=None, criterion='gini', max_depth=5,\n             max_features='auto', max_leaf_nodes=None,\n             min_impurity_decrease=0.0, min_impurity_split=None,\n             min_samples_leaf=1, min_samples_split=2,\n             min_weight_fraction_leaf=0.0, presort=False,\n             random_state=1604976008, splitter='best'),\n DecisionTreeClassifier(class_weight=None, criterion='gini', max_depth=5,\n             max_features='auto', max_leaf_nodes=None,\n             min_impurity_decrease=0.0, min_impurity_split=None,\n             min_samples_leaf=1, min_samples_split=2,\n             min_weight_fraction_leaf=0.0, presort=False,\n             random_state=1622899453, splitter='best'),\n DecisionTreeClassifier(class_weight=None, criterion='gini', max_depth=5,\n             max_features='auto', max_leaf_nodes=None,\n             min_impurity_decrease=0.0, min_impurity_split=None,\n             min_samples_leaf=1, min_samples_split=2,\n             min_weight_fraction_leaf=0.0, presort=False,\n             random_state=1048305958, splitter='best'),\n DecisionTreeClassifier(class_weight=None, criterion='gini', max_depth=5,\n             max_features='auto', max_leaf_nodes=None,\n             min_impurity_decrease=0.0, min_impurity_split=None,\n             min_samples_leaf=1, min_samples_split=2,\n             min_weight_fraction_leaf=0.0, presort=False,\n             random_state=146921220, splitter='best'),\n DecisionTreeClassifier(class_weight=None, criterion='gini', max_depth=5,\n             max_features='auto', max_leaf_nodes=None,\n             min_impurity_decrease=0.0, min_impurity_split=None,\n             min_samples_leaf=1, min_samples_split=2,\n             min_weight_fraction_leaf=0.0, presort=False,\n             random_state=1713825094, splitter='best'),\n DecisionTreeClassifier(class_weight=None, criterion='gini', max_depth=5,\n             max_features='auto', max_leaf_nodes=None,\n             min_impurity_decrease=0.0, min_impurity_split=None,\n             min_samples_leaf=1, min_samples_split=2,\n             min_weight_fraction_leaf=0.0, presort=False,\n             random_state=1631342083, splitter='best'),\n DecisionTreeClassifier(class_weight=None, criterion='gini', max_depth=5,\n             max_features='auto', max_leaf_nodes=None,\n             min_impurity_decrease=0.0, min_impurity_split=None,\n             min_samples_leaf=1, min_samples_split=2,\n             min_weight_fraction_leaf=0.0, presort=False,\n             random_state=899269091, splitter='best'),\n DecisionTreeClassifier(class_weight=None, criterion='gini', max_depth=5,\n             max_features='auto', max_leaf_nodes=None,\n             min_impurity_decrease=0.0, min_impurity_split=None,\n             min_samples_leaf=1, min_samples_split=2,\n             min_weight_fraction_leaf=0.0, presort=False,\n             random_state=1985503997, splitter='best'),\n DecisionTreeClassifier(class_weight=None, criterion='gini', max_depth=5,\n             max_features='auto', max_leaf_nodes=None,\n             min_impurity_decrease=0.0, min_impurity_split=None,\n             min_samples_leaf=1, min_samples_split=2,\n             min_weight_fraction_leaf=0.0, presort=False,\n             random_state=1307647322, splitter='best'),\n DecisionTreeClassifier(class_weight=None, criterion='gini', max_depth=5,\n             max_features='auto', max_leaf_nodes=None,\n             min_impurity_decrease=0.0, min_impurity_split=None,\n             min_samples_leaf=1, min_samples_split=2,\n             min_weight_fraction_leaf=0.0, presort=False,\n             random_state=2035204096, splitter='best'),\n DecisionTreeClassifier(class_weight=None, criterion='gini', max_depth=5,\n             max_features='auto', max_leaf_nodes=None,\n             min_impurity_decrease=0.0, min_impurity_split=None,\n             min_samples_leaf=1, min_samples_split=2,\n             min_weight_fraction_leaf=0.0, presort=False,\n             random_state=1074412653, splitter='best'),\n DecisionTreeClassifier(class_weight=None, criterion='gini', max_depth=5,\n             max_features='auto', max_leaf_nodes=None,\n             min_impurity_decrease=0.0, min_impurity_split=None,\n             min_samples_leaf=1, min_samples_split=2,\n             min_weight_fraction_leaf=0.0, presort=False,\n             random_state=293656679, splitter='best'),\n DecisionTreeClassifier(class_weight=None, criterion='gini', max_depth=5,\n             max_features='auto', max_leaf_nodes=None,\n             min_impurity_decrease=0.0, min_impurity_split=None,\n             min_samples_leaf=1, min_samples_split=2,\n             min_weight_fraction_leaf=0.0, presort=False,\n             random_state=1493175058, splitter='best'),\n DecisionTreeClassifier(class_weight=None, criterion='gini', max_depth=5,\n             max_features='auto', max_leaf_nodes=None,\n             min_impurity_decrease=0.0, min_impurity_split=None,\n             min_samples_leaf=1, min_samples_split=2,\n             min_weight_fraction_leaf=0.0, presort=False,\n             random_state=1889406178, splitter='best'),\n DecisionTreeClassifier(class_weight=None, criterion='gini', max_depth=5,\n             max_features='auto', max_leaf_nodes=None,\n             min_impurity_decrease=0.0, min_impurity_split=None,\n             min_samples_leaf=1, min_samples_split=2,\n             min_weight_fraction_leaf=0.0, presort=False,\n             random_state=1616354628, splitter='best'),\n DecisionTreeClassifier(class_weight=None, criterion='gini', max_depth=5,\n             max_features='auto', max_leaf_nodes=None,\n             min_impurity_decrease=0.0, min_impurity_split=None,\n             min_samples_leaf=1, min_samples_split=2,\n             min_weight_fraction_leaf=0.0, presort=False,\n             random_state=227656409, splitter='best'),\n DecisionTreeClassifier(class_weight=None, criterion='gini', max_depth=5,\n             max_features='auto', max_leaf_nodes=None,\n             min_impurity_decrease=0.0, min_impurity_split=None,\n             min_samples_leaf=1, min_samples_split=2,\n             min_weight_fraction_leaf=0.0, presort=False,\n             random_state=763146464, splitter='best'),\n DecisionTreeClassifier(class_weight=None, criterion='gini', max_depth=5,\n             max_features='auto', max_leaf_nodes=None,\n             min_impurity_decrease=0.0, min_impurity_split=None,\n             min_samples_leaf=1, min_samples_split=2,\n             min_weight_fraction_leaf=0.0, presort=False,\n             random_state=1442927526, splitter='best'),\n DecisionTreeClassifier(class_weight=None, criterion='gini', max_depth=5,\n             max_features='auto', max_leaf_nodes=None,\n             min_impurity_decrease=0.0, min_impurity_split=None,\n             min_samples_leaf=1, min_samples_split=2,\n             min_weight_fraction_leaf=0.0, presort=False,\n             random_state=1393561306, splitter='best'),\n DecisionTreeClassifier(class_weight=None, criterion='gini', max_depth=5,\n             max_features='auto', max_leaf_nodes=None,\n             min_impurity_decrease=0.0, min_impurity_split=None,\n             min_samples_leaf=1, min_samples_split=2,\n             min_weight_fraction_leaf=0.0, presort=False,\n             random_state=1717208291, splitter='best'),\n DecisionTreeClassifier(class_weight=None, criterion='gini', max_depth=5,\n             max_features='auto', max_leaf_nodes=None,\n             min_impurity_decrease=0.0, min_impurity_split=None,\n             min_samples_leaf=1, min_samples_split=2,\n             min_weight_fraction_leaf=0.0, presort=False,\n             random_state=27513136, splitter='best'),\n DecisionTreeClassifier(class_weight=None, criterion='gini', max_depth=5,\n             max_features='auto', max_leaf_nodes=None,\n             min_impurity_decrease=0.0, min_impurity_split=None,\n             min_samples_leaf=1, min_samples_split=2,\n             min_weight_fraction_leaf=0.0, presort=False,\n             random_state=598245101, splitter='best'),\n DecisionTreeClassifier(class_weight=None, criterion='gini', max_depth=5,\n             max_features='auto', max_leaf_nodes=None,\n             min_impurity_decrease=0.0, min_impurity_split=None,\n             min_samples_leaf=1, min_samples_split=2,\n             min_weight_fraction_leaf=0.0, presort=False,\n             random_state=1381828670, splitter='best'),\n DecisionTreeClassifier(class_weight=None, criterion='gini', max_depth=5,\n             max_features='auto', max_leaf_nodes=None,\n             min_impurity_decrease=0.0, min_impurity_split=None,\n             min_samples_leaf=1, min_samples_split=2,\n             min_weight_fraction_leaf=0.0, presort=False,\n             random_state=1166669715, splitter='best'),\n DecisionTreeClassifier(class_weight=None, criterion='gini', max_depth=5,\n             max_features='auto', max_leaf_nodes=None,\n             min_impurity_decrease=0.0, min_impurity_split=None,\n             min_samples_leaf=1, min_samples_split=2,\n             min_weight_fraction_leaf=0.0, presort=False,\n             random_state=839765630, splitter='best'),\n DecisionTreeClassifier(class_weight=None, criterion='gini', max_depth=5,\n             max_features='auto', max_leaf_nodes=None,\n             min_impurity_decrease=0.0, min_impurity_split=None,\n             min_samples_leaf=1, min_samples_split=2,\n             min_weight_fraction_leaf=0.0, presort=False,\n             random_state=1362705254, splitter='best'),\n DecisionTreeClassifier(class_weight=None, criterion='gini', max_depth=5,\n             max_features='auto', max_leaf_nodes=None,\n             min_impurity_decrease=0.0, min_impurity_split=None,\n             min_samples_leaf=1, min_samples_split=2,\n             min_weight_fraction_leaf=0.0, presort=False,\n             random_state=2100983681, splitter='best'),\n DecisionTreeClassifier(class_weight=None, criterion='gini', max_depth=5,\n             max_features='auto', max_leaf_nodes=None,\n             min_impurity_decrease=0.0, min_impurity_split=None,\n             min_samples_leaf=1, min_samples_split=2,\n             min_weight_fraction_leaf=0.0, presort=False,\n             random_state=614900736, splitter='best'),\n DecisionTreeClassifier(class_weight=None, criterion='gini', max_depth=5,\n             max_features='auto', max_leaf_nodes=None,\n             min_impurity_decrease=0.0, min_impurity_split=None,\n             min_samples_leaf=1, min_samples_split=2,\n             min_weight_fraction_leaf=0.0, presort=False,\n             random_state=208487911, splitter='best'),\n DecisionTreeClassifier(class_weight=None, criterion='gini', max_depth=5,\n             max_features='auto', max_leaf_nodes=None,\n             min_impurity_decrease=0.0, min_impurity_split=None,\n             min_samples_leaf=1, min_samples_split=2,\n             min_weight_fraction_leaf=0.0, presort=False,\n             random_state=954186826, splitter='best'),\n DecisionTreeClassifier(class_weight=None, criterion='gini', max_depth=5,\n             max_features='auto', max_leaf_nodes=None,\n             min_impurity_decrease=0.0, min_impurity_split=None,\n             min_samples_leaf=1, min_samples_split=2,\n             min_weight_fraction_leaf=0.0, presort=False,\n             random_state=816701842, splitter='best'),\n DecisionTreeClassifier(class_weight=None, criterion='gini', max_depth=5,\n             max_features='auto', max_leaf_nodes=None,\n             min_impurity_decrease=0.0, min_impurity_split=None,\n             min_samples_leaf=1, min_samples_split=2,\n             min_weight_fraction_leaf=0.0, presort=False,\n             random_state=57870846, splitter='best'),\n DecisionTreeClassifier(class_weight=None, criterion='gini', max_depth=5,\n             max_features='auto', max_leaf_nodes=None,\n             min_impurity_decrease=0.0, min_impurity_split=None,\n             min_samples_leaf=1, min_samples_split=2,\n             min_weight_fraction_leaf=0.0, presort=False,\n             random_state=307072662, splitter='best'),\n DecisionTreeClassifier(class_weight=None, criterion='gini', max_depth=5,\n             max_features='auto', max_leaf_nodes=None,\n             min_impurity_decrease=0.0, min_impurity_split=None,\n             min_samples_leaf=1, min_samples_split=2,\n             min_weight_fraction_leaf=0.0, presort=False,\n             random_state=1688511386, splitter='best'),\n DecisionTreeClassifier(class_weight=None, criterion='gini', max_depth=5,\n             max_features='auto', max_leaf_nodes=None,\n             min_impurity_decrease=0.0, min_impurity_split=None,\n             min_samples_leaf=1, min_samples_split=2,\n             min_weight_fraction_leaf=0.0, presort=False,\n             random_state=448394050, splitter='best'),\n DecisionTreeClassifier(class_weight=None, criterion='gini', max_depth=5,\n             max_features='auto', max_leaf_nodes=None,\n             min_impurity_decrease=0.0, min_impurity_split=None,\n             min_samples_leaf=1, min_samples_split=2,\n             min_weight_fraction_leaf=0.0, presort=False,\n             random_state=622760242, splitter='best'),\n DecisionTreeClassifier(class_weight=None, criterion='gini', max_depth=5,\n             max_features='auto', max_leaf_nodes=None,\n             min_impurity_decrease=0.0, min_impurity_split=None,\n             min_samples_leaf=1, min_samples_split=2,\n             min_weight_fraction_leaf=0.0, presort=False,\n             random_state=829078728, splitter='best'),\n DecisionTreeClassifier(class_weight=None, criterion='gini', max_depth=5,\n             max_features='auto', max_leaf_nodes=None,\n             min_impurity_decrease=0.0, min_impurity_split=None,\n             min_samples_leaf=1, min_samples_split=2,\n             min_weight_fraction_leaf=0.0, presort=False,\n             random_state=1050475165, splitter='best'),\n DecisionTreeClassifier(class_weight=None, criterion='gini', max_depth=5,\n             max_features='auto', max_leaf_nodes=None,\n             min_impurity_decrease=0.0, min_impurity_split=None,\n             min_samples_leaf=1, min_samples_split=2,\n             min_weight_fraction_leaf=0.0, presort=False,\n             random_state=734770260, splitter='best'),\n DecisionTreeClassifier(class_weight=None, criterion='gini', max_depth=5,\n             max_features='auto', max_leaf_nodes=None,\n             min_impurity_decrease=0.0, min_impurity_split=None,\n             min_samples_leaf=1, min_samples_split=2,\n             min_weight_fraction_leaf=0.0, presort=False,\n             random_state=968804033, splitter='best'),\n DecisionTreeClassifier(class_weight=None, criterion='gini', max_depth=5,\n             max_features='auto', max_leaf_nodes=None,\n             min_impurity_decrease=0.0, min_impurity_split=None,\n             min_samples_leaf=1, min_samples_split=2,\n             min_weight_fraction_leaf=0.0, presort=False,\n             random_state=1349292831, splitter='best'),\n DecisionTreeClassifier(class_weight=None, criterion='gini', max_depth=5,\n             max_features='auto', max_leaf_nodes=None,\n             min_impurity_decrease=0.0, min_impurity_split=None,\n             min_samples_leaf=1, min_samples_split=2,\n             min_weight_fraction_leaf=0.0, presort=False,\n             random_state=748341988, splitter='best'),\n DecisionTreeClassifier(class_weight=None, criterion='gini', max_depth=5,\n             max_features='auto', max_leaf_nodes=None,\n             min_impurity_decrease=0.0, min_impurity_split=None,\n             min_samples_leaf=1, min_samples_split=2,\n             min_weight_fraction_leaf=0.0, presort=False,\n             random_state=1831438791, splitter='best'),\n DecisionTreeClassifier(class_weight=None, criterion='gini', max_depth=5,\n             max_features='auto', max_leaf_nodes=None,\n             min_impurity_decrease=0.0, min_impurity_split=None,\n             min_samples_leaf=1, min_samples_split=2,\n             min_weight_fraction_leaf=0.0, presort=False,\n             random_state=2065186484, splitter='best'),\n DecisionTreeClassifier(class_weight=None, criterion='gini', max_depth=5,\n             max_features='auto', max_leaf_nodes=None,\n             min_impurity_decrease=0.0, min_impurity_split=None,\n             min_samples_leaf=1, min_samples_split=2,\n             min_weight_fraction_leaf=0.0, presort=False,\n             random_state=1941152693, splitter='best'),\n DecisionTreeClassifier(class_weight=None, criterion='gini', max_depth=5,\n             max_features='auto', max_leaf_nodes=None,\n             min_impurity_decrease=0.0, min_impurity_split=None,\n             min_samples_leaf=1, min_samples_split=2,\n             min_weight_fraction_leaf=0.0, presort=False,\n             random_state=1535922577, splitter='best'),\n DecisionTreeClassifier(class_weight=None, criterion='gini', max_depth=5,\n             max_features='auto', max_leaf_nodes=None,\n             min_impurity_decrease=0.0, min_impurity_split=None,\n             min_samples_leaf=1, min_samples_split=2,\n             min_weight_fraction_leaf=0.0, presort=False,\n             random_state=267496822, splitter='best'),\n DecisionTreeClassifier(class_weight=None, criterion='gini', max_depth=5,\n             max_features='auto', max_leaf_nodes=None,\n             min_impurity_decrease=0.0, min_impurity_split=None,\n             min_samples_leaf=1, min_samples_split=2,\n             min_weight_fraction_leaf=0.0, presort=False,\n             random_state=1746150788, splitter='best'),\n DecisionTreeClassifier(class_weight=None, criterion='gini', max_depth=5,\n             max_features='auto', max_leaf_nodes=None,\n             min_impurity_decrease=0.0, min_impurity_split=None,\n             min_samples_leaf=1, min_samples_split=2,\n             min_weight_fraction_leaf=0.0, presort=False,\n             random_state=135640877, splitter='best'),\n DecisionTreeClassifier(class_weight=None, criterion='gini', max_depth=5,\n             max_features='auto', max_leaf_nodes=None,\n             min_impurity_decrease=0.0, min_impurity_split=None,\n             min_samples_leaf=1, min_samples_split=2,\n             min_weight_fraction_leaf=0.0, presort=False,\n             random_state=192140172, splitter='best'),\n DecisionTreeClassifier(class_weight=None, criterion='gini', max_depth=5,\n             max_features='auto', max_leaf_nodes=None,\n             min_impurity_decrease=0.0, min_impurity_split=None,\n             min_samples_leaf=1, min_samples_split=2,\n             min_weight_fraction_leaf=0.0, presort=False,\n             random_state=315203216, splitter='best'),\n DecisionTreeClassifier(class_weight=None, criterion='gini', max_depth=5,\n             max_features='auto', max_leaf_nodes=None,\n             min_impurity_decrease=0.0, min_impurity_split=None,\n             min_samples_leaf=1, min_samples_split=2,\n             min_weight_fraction_leaf=0.0, presort=False,\n             random_state=1542012108, splitter='best'),\n DecisionTreeClassifier(class_weight=None, criterion='gini', max_depth=5,\n             max_features='auto', max_leaf_nodes=None,\n             min_impurity_decrease=0.0, min_impurity_split=None,\n             min_samples_leaf=1, min_samples_split=2,\n             min_weight_fraction_leaf=0.0, presort=False,\n             random_state=1954588064, splitter='best'),\n DecisionTreeClassifier(class_weight=None, criterion='gini', max_depth=5,\n             max_features='auto', max_leaf_nodes=None,\n             min_impurity_decrease=0.0, min_impurity_split=None,\n             min_samples_leaf=1, min_samples_split=2,\n             min_weight_fraction_leaf=0.0, presort=False,\n             random_state=1483415810, splitter='best'),\n DecisionTreeClassifier(class_weight=None, criterion='gini', max_depth=5,\n             max_features='auto', max_leaf_nodes=None,\n             min_impurity_decrease=0.0, min_impurity_split=None,\n             min_samples_leaf=1, min_samples_split=2,\n             min_weight_fraction_leaf=0.0, presort=False,\n             random_state=1283879957, splitter='best'),\n DecisionTreeClassifier(class_weight=None, criterion='gini', max_depth=5,\n             max_features='auto', max_leaf_nodes=None,\n             min_impurity_decrease=0.0, min_impurity_split=None,\n             min_samples_leaf=1, min_samples_split=2,\n             min_weight_fraction_leaf=0.0, presort=False,\n             random_state=714934797, splitter='best'),\n DecisionTreeClassifier(class_weight=None, criterion='gini', max_depth=5,\n             max_features='auto', max_leaf_nodes=None,\n             min_impurity_decrease=0.0, min_impurity_split=None,\n             min_samples_leaf=1, min_samples_split=2,\n             min_weight_fraction_leaf=0.0, presort=False,\n             random_state=1935927249, splitter='best'),\n DecisionTreeClassifier(class_weight=None, criterion='gini', max_depth=5,\n             max_features='auto', max_leaf_nodes=None,\n             min_impurity_decrease=0.0, min_impurity_split=None,\n             min_samples_leaf=1, min_samples_split=2,\n             min_weight_fraction_leaf=0.0, presort=False,\n             random_state=34947892, splitter='best'),\n DecisionTreeClassifier(class_weight=None, criterion='gini', max_depth=5,\n             max_features='auto', max_leaf_nodes=None,\n             min_impurity_decrease=0.0, min_impurity_split=None,\n             min_samples_leaf=1, min_samples_split=2,\n             min_weight_fraction_leaf=0.0, presort=False,\n             random_state=1321444636, splitter='best'),\n DecisionTreeClassifier(class_weight=None, criterion='gini', max_depth=5,\n             max_features='auto', max_leaf_nodes=None,\n             min_impurity_decrease=0.0, min_impurity_split=None,\n             min_samples_leaf=1, min_samples_split=2,\n             min_weight_fraction_leaf=0.0, presort=False,\n             random_state=493246032, splitter='best'),\n DecisionTreeClassifier(class_weight=None, criterion='gini', max_depth=5,\n             max_features='auto', max_leaf_nodes=None,\n             min_impurity_decrease=0.0, min_impurity_split=None,\n             min_samples_leaf=1, min_samples_split=2,\n             min_weight_fraction_leaf=0.0, presort=False,\n             random_state=39282431, splitter='best'),\n DecisionTreeClassifier(class_weight=None, criterion='gini', max_depth=5,\n             max_features='auto', max_leaf_nodes=None,\n             min_impurity_decrease=0.0, min_impurity_split=None,\n             min_samples_leaf=1, min_samples_split=2,\n             min_weight_fraction_leaf=0.0, presort=False,\n             random_state=1503526408, splitter='best'),\n DecisionTreeClassifier(class_weight=None, criterion='gini', max_depth=5,\n             max_features='auto', max_leaf_nodes=None,\n             min_impurity_decrease=0.0, min_impurity_split=None,\n             min_samples_leaf=1, min_samples_split=2,\n             min_weight_fraction_leaf=0.0, presort=False,\n             random_state=737188833, splitter='best'),\n DecisionTreeClassifier(class_weight=None, criterion='gini', max_depth=5,\n             max_features='auto', max_leaf_nodes=None,\n             min_impurity_decrease=0.0, min_impurity_split=None,\n             min_samples_leaf=1, min_samples_split=2,\n             min_weight_fraction_leaf=0.0, presort=False,\n             random_state=155579603, splitter='best'),\n DecisionTreeClassifier(class_weight=None, criterion='gini', max_depth=5,\n             max_features='auto', max_leaf_nodes=None,\n             min_impurity_decrease=0.0, min_impurity_split=None,\n             min_samples_leaf=1, min_samples_split=2,\n             min_weight_fraction_leaf=0.0, presort=False,\n             random_state=1554972337, splitter='best'),\n DecisionTreeClassifier(class_weight=None, criterion='gini', max_depth=5,\n             max_features='auto', max_leaf_nodes=None,\n             min_impurity_decrease=0.0, min_impurity_split=None,\n             min_samples_leaf=1, min_samples_split=2,\n             min_weight_fraction_leaf=0.0, presort=False,\n             random_state=372834727, splitter='best'),\n DecisionTreeClassifier(class_weight=None, criterion='gini', max_depth=5,\n             max_features='auto', max_leaf_nodes=None,\n             min_impurity_decrease=0.0, min_impurity_split=None,\n             min_samples_leaf=1, min_samples_split=2,\n             min_weight_fraction_leaf=0.0, presort=False,\n             random_state=1227942295, splitter='best'),\n DecisionTreeClassifier(class_weight=None, criterion='gini', max_depth=5,\n             max_features='auto', max_leaf_nodes=None,\n             min_impurity_decrease=0.0, min_impurity_split=None,\n             min_samples_leaf=1, min_samples_split=2,\n             min_weight_fraction_leaf=0.0, presort=False,\n             random_state=1108115013, splitter='best'),\n DecisionTreeClassifier(class_weight=None, criterion='gini', max_depth=5,\n             max_features='auto', max_leaf_nodes=None,\n             min_impurity_decrease=0.0, min_impurity_split=None,\n             min_samples_leaf=1, min_samples_split=2,\n             min_weight_fraction_leaf=0.0, presort=False,\n             random_state=518568499, splitter='best'),\n DecisionTreeClassifier(class_weight=None, criterion='gini', max_depth=5,\n             max_features='auto', max_leaf_nodes=None,\n             min_impurity_decrease=0.0, min_impurity_split=None,\n             min_samples_leaf=1, min_samples_split=2,\n             min_weight_fraction_leaf=0.0, presort=False,\n             random_state=1156590555, splitter='best'),\n DecisionTreeClassifier(class_weight=None, criterion='gini', max_depth=5,\n             max_features='auto', max_leaf_nodes=None,\n             min_impurity_decrease=0.0, min_impurity_split=None,\n             min_samples_leaf=1, min_samples_split=2,\n             min_weight_fraction_leaf=0.0, presort=False,\n             random_state=571081902, splitter='best'),\n DecisionTreeClassifier(class_weight=None, criterion='gini', max_depth=5,\n             max_features='auto', max_leaf_nodes=None,\n             min_impurity_decrease=0.0, min_impurity_split=None,\n             min_samples_leaf=1, min_samples_split=2,\n             min_weight_fraction_leaf=0.0, presort=False,\n             random_state=2113368617, splitter='best'),\n DecisionTreeClassifier(class_weight=None, criterion='gini', max_depth=5,\n             max_features='auto', max_leaf_nodes=None,\n             min_impurity_decrease=0.0, min_impurity_split=None,\n             min_samples_leaf=1, min_samples_split=2,\n             min_weight_fraction_leaf=0.0, presort=False,\n             random_state=1178992236, splitter='best'),\n DecisionTreeClassifier(class_weight=None, criterion='gini', max_depth=5,\n             max_features='auto', max_leaf_nodes=None,\n             min_impurity_decrease=0.0, min_impurity_split=None,\n             min_samples_leaf=1, min_samples_split=2,\n             min_weight_fraction_leaf=0.0, presort=False,\n             random_state=2031861400, splitter='best'),\n DecisionTreeClassifier(class_weight=None, criterion='gini', max_depth=5,\n             max_features='auto', max_leaf_nodes=None,\n             min_impurity_decrease=0.0, min_impurity_split=None,\n             min_samples_leaf=1, min_samples_split=2,\n             min_weight_fraction_leaf=0.0, presort=False,\n             random_state=643217150, splitter='best'),\n DecisionTreeClassifier(class_weight=None, criterion='gini', max_depth=5,\n             max_features='auto', max_leaf_nodes=None,\n             min_impurity_decrease=0.0, min_impurity_split=None,\n             min_samples_leaf=1, min_samples_split=2,\n             min_weight_fraction_leaf=0.0, presort=False,\n             random_state=1452367159, splitter='best'),\n DecisionTreeClassifier(class_weight=None, criterion='gini', max_depth=5,\n             max_features='auto', max_leaf_nodes=None,\n             min_impurity_decrease=0.0, min_impurity_split=None,\n             min_samples_leaf=1, min_samples_split=2,\n             min_weight_fraction_leaf=0.0, presort=False,\n             random_state=1582098881, splitter='best'),\n DecisionTreeClassifier(class_weight=None, criterion='gini', max_depth=5,\n             max_features='auto', max_leaf_nodes=None,\n             min_impurity_decrease=0.0, min_impurity_split=None,\n             min_samples_leaf=1, min_samples_split=2,\n             min_weight_fraction_leaf=0.0, presort=False,\n             random_state=366858119, splitter='best'),\n DecisionTreeClassifier(class_weight=None, criterion='gini', max_depth=5,\n             max_features='auto', max_leaf_nodes=None,\n             min_impurity_decrease=0.0, min_impurity_split=None,\n             min_samples_leaf=1, min_samples_split=2,\n             min_weight_fraction_leaf=0.0, presort=False,\n             random_state=1468282750, splitter='best'),\n DecisionTreeClassifier(class_weight=None, criterion='gini', max_depth=5,\n             max_features='auto', max_leaf_nodes=None,\n             min_impurity_decrease=0.0, min_impurity_split=None,\n             min_samples_leaf=1, min_samples_split=2,\n             min_weight_fraction_leaf=0.0, presort=False,\n             random_state=465572283, splitter='best'),\n DecisionTreeClassifier(class_weight=None, criterion='gini', max_depth=5,\n             max_features='auto', max_leaf_nodes=None,\n             min_impurity_decrease=0.0, min_impurity_split=None,\n             min_samples_leaf=1, min_samples_split=2,\n             min_weight_fraction_leaf=0.0, presort=False,\n             random_state=562885535, splitter='best'),\n DecisionTreeClassifier(class_weight=None, criterion='gini', max_depth=5,\n             max_features='auto', max_leaf_nodes=None,\n             min_impurity_decrease=0.0, min_impurity_split=None,\n             min_samples_leaf=1, min_samples_split=2,\n             min_weight_fraction_leaf=0.0, presort=False,\n             random_state=555215890, splitter='best'),\n DecisionTreeClassifier(class_weight=None, criterion='gini', max_depth=5,\n             max_features='auto', max_leaf_nodes=None,\n             min_impurity_decrease=0.0, min_impurity_split=None,\n             min_samples_leaf=1, min_samples_split=2,\n             min_weight_fraction_leaf=0.0, presort=False,\n             random_state=190240820, splitter='best'),\n DecisionTreeClassifier(class_weight=None, criterion='gini', max_depth=5,\n             max_features='auto', max_leaf_nodes=None,\n             min_impurity_decrease=0.0, min_impurity_split=None,\n             min_samples_leaf=1, min_samples_split=2,\n             min_weight_fraction_leaf=0.0, presort=False,\n             random_state=749587058, splitter='best'),\n DecisionTreeClassifier(class_weight=None, criterion='gini', max_depth=5,\n             max_features='auto', max_leaf_nodes=None,\n             min_impurity_decrease=0.0, min_impurity_split=None,\n             min_samples_leaf=1, min_samples_split=2,\n             min_weight_fraction_leaf=0.0, presort=False,\n             random_state=1042463322, splitter='best'),\n DecisionTreeClassifier(class_weight=None, criterion='gini', max_depth=5,\n             max_features='auto', max_leaf_nodes=None,\n             min_impurity_decrease=0.0, min_impurity_split=None,\n             min_samples_leaf=1, min_samples_split=2,\n             min_weight_fraction_leaf=0.0, presort=False,\n             random_state=458916951, splitter='best'),\n DecisionTreeClassifier(class_weight=None, criterion='gini', max_depth=5,\n             max_features='auto', max_leaf_nodes=None,\n             min_impurity_decrease=0.0, min_impurity_split=None,\n             min_samples_leaf=1, min_samples_split=2,\n             min_weight_fraction_leaf=0.0, presort=False,\n             random_state=1786803252, splitter='best'),\n DecisionTreeClassifier(class_weight=None, criterion='gini', max_depth=5,\n             max_features='auto', max_leaf_nodes=None,\n             min_impurity_decrease=0.0, min_impurity_split=None,\n             min_samples_leaf=1, min_samples_split=2,\n             min_weight_fraction_leaf=0.0, presort=False,\n             random_state=1806843663, splitter='best'),\n DecisionTreeClassifier(class_weight=None, criterion='gini', max_depth=5,\n             max_features='auto', max_leaf_nodes=None,\n             min_impurity_decrease=0.0, min_impurity_split=None,\n             min_samples_leaf=1, min_samples_split=2,\n             min_weight_fraction_leaf=0.0, presort=False,\n             random_state=1573217458, splitter='best'),\n DecisionTreeClassifier(class_weight=None, criterion='gini', max_depth=5,\n             max_features='auto', max_leaf_nodes=None,\n             min_impurity_decrease=0.0, min_impurity_split=None,\n             min_samples_leaf=1, min_samples_split=2,\n             min_weight_fraction_leaf=0.0, presort=False,\n             random_state=1727003965, splitter='best'),\n DecisionTreeClassifier(class_weight=None, criterion='gini', max_depth=5,\n             max_features='auto', max_leaf_nodes=None,\n             min_impurity_decrease=0.0, min_impurity_split=None,\n             min_samples_leaf=1, min_samples_split=2,\n             min_weight_fraction_leaf=0.0, presort=False,\n             random_state=1622793613, splitter='best'),\n DecisionTreeClassifier(class_weight=None, criterion='gini', max_depth=5,\n             max_features='auto', max_leaf_nodes=None,\n             min_impurity_decrease=0.0, min_impurity_split=None,\n             min_samples_leaf=1, min_samples_split=2,\n             min_weight_fraction_leaf=0.0, presort=False,\n             random_state=961553494, splitter='best'),\n DecisionTreeClassifier(class_weight=None, criterion='gini', max_depth=5,\n             max_features='auto', max_leaf_nodes=None,\n             min_impurity_decrease=0.0, min_impurity_split=None,\n             min_samples_leaf=1, min_samples_split=2,\n             min_weight_fraction_leaf=0.0, presort=False,\n             random_state=791398876, splitter='best'),\n DecisionTreeClassifier(class_weight=None, criterion='gini', max_depth=5,\n             max_features='auto', max_leaf_nodes=None,\n             min_impurity_decrease=0.0, min_impurity_split=None,\n             min_samples_leaf=1, min_samples_split=2,\n             min_weight_fraction_leaf=0.0, presort=False,\n             random_state=1629909388, splitter='best'),\n DecisionTreeClassifier(class_weight=None, criterion='gini', max_depth=5,\n             max_features='auto', max_leaf_nodes=None,\n             min_impurity_decrease=0.0, min_impurity_split=None,\n             min_samples_leaf=1, min_samples_split=2,\n             min_weight_fraction_leaf=0.0, presort=False,\n             random_state=318913197, splitter='best'),\n DecisionTreeClassifier(class_weight=None, criterion='gini', max_depth=5,\n             max_features='auto', max_leaf_nodes=None,\n             min_impurity_decrease=0.0, min_impurity_split=None,\n             min_samples_leaf=1, min_samples_split=2,\n             min_weight_fraction_leaf=0.0, presort=False,\n             random_state=748987157, splitter='best'),\n DecisionTreeClassifier(class_weight=None, criterion='gini', max_depth=5,\n             max_features='auto', max_leaf_nodes=None,\n             min_impurity_decrease=0.0, min_impurity_split=None,\n             min_samples_leaf=1, min_samples_split=2,\n             min_weight_fraction_leaf=0.0, presort=False,\n             random_state=1674117490, splitter='best'),\n DecisionTreeClassifier(class_weight=None, criterion='gini', max_depth=5,\n             max_features='auto', max_leaf_nodes=None,\n             min_impurity_decrease=0.0, min_impurity_split=None,\n             min_samples_leaf=1, min_samples_split=2,\n             min_weight_fraction_leaf=0.0, presort=False,\n             random_state=1055637867, splitter='best'),\n DecisionTreeClassifier(class_weight=None, criterion='gini', max_depth=5,\n             max_features='auto', max_leaf_nodes=None,\n             min_impurity_decrease=0.0, min_impurity_split=None,\n             min_samples_leaf=1, min_samples_split=2,\n             min_weight_fraction_leaf=0.0, presort=False,\n             random_state=56023275, splitter='best'),\n DecisionTreeClassifier(class_weight=None, criterion='gini', max_depth=5,\n             max_features='auto', max_leaf_nodes=None,\n             min_impurity_decrease=0.0, min_impurity_split=None,\n             min_samples_leaf=1, min_samples_split=2,\n             min_weight_fraction_leaf=0.0, presort=False,\n             random_state=1824134633, splitter='best'),\n DecisionTreeClassifier(class_weight=None, criterion='gini', max_depth=5,\n             max_features='auto', max_leaf_nodes=None,\n             min_impurity_decrease=0.0, min_impurity_split=None,\n             min_samples_leaf=1, min_samples_split=2,\n             min_weight_fraction_leaf=0.0, presort=False,\n             random_state=1016203098, splitter='best'),\n DecisionTreeClassifier(class_weight=None, criterion='gini', max_depth=5,\n             max_features='auto', max_leaf_nodes=None,\n             min_impurity_decrease=0.0, min_impurity_split=None,\n             min_samples_leaf=1, min_samples_split=2,\n             min_weight_fraction_leaf=0.0, presort=False,\n             random_state=1261459075, splitter='best'),\n DecisionTreeClassifier(class_weight=None, criterion='gini', max_depth=5,\n             max_features='auto', max_leaf_nodes=None,\n             min_impurity_decrease=0.0, min_impurity_split=None,\n             min_samples_leaf=1, min_samples_split=2,\n             min_weight_fraction_leaf=0.0, presort=False,\n             random_state=731649434, splitter='best'),\n DecisionTreeClassifier(class_weight=None, criterion='gini', max_depth=5,\n             max_features='auto', max_leaf_nodes=None,\n             min_impurity_decrease=0.0, min_impurity_split=None,\n             min_samples_leaf=1, min_samples_split=2,\n             min_weight_fraction_leaf=0.0, presort=False,\n             random_state=2119223953, splitter='best'),\n DecisionTreeClassifier(class_weight=None, criterion='gini', max_depth=5,\n             max_features='auto', max_leaf_nodes=None,\n             min_impurity_decrease=0.0, min_impurity_split=None,\n             min_samples_leaf=1, min_samples_split=2,\n             min_weight_fraction_leaf=0.0, presort=False,\n             random_state=1138613120, splitter='best'),\n DecisionTreeClassifier(class_weight=None, criterion='gini', max_depth=5,\n             max_features='auto', max_leaf_nodes=None,\n             min_impurity_decrease=0.0, min_impurity_split=None,\n             min_samples_leaf=1, min_samples_split=2,\n             min_weight_fraction_leaf=0.0, presort=False,\n             random_state=441216189, splitter='best'),\n DecisionTreeClassifier(class_weight=None, criterion='gini', max_depth=5,\n             max_features='auto', max_leaf_nodes=None,\n             min_impurity_decrease=0.0, min_impurity_split=None,\n             min_samples_leaf=1, min_samples_split=2,\n             min_weight_fraction_leaf=0.0, presort=False,\n             random_state=1952909838, splitter='best'),\n DecisionTreeClassifier(class_weight=None, criterion='gini', max_depth=5,\n             max_features='auto', max_leaf_nodes=None,\n             min_impurity_decrease=0.0, min_impurity_split=None,\n             min_samples_leaf=1, min_samples_split=2,\n             min_weight_fraction_leaf=0.0, presort=False,\n             random_state=642225680, splitter='best'),\n DecisionTreeClassifier(class_weight=None, criterion='gini', max_depth=5,\n             max_features='auto', max_leaf_nodes=None,\n             min_impurity_decrease=0.0, min_impurity_split=None,\n             min_samples_leaf=1, min_samples_split=2,\n             min_weight_fraction_leaf=0.0, presort=False,\n             random_state=434653172, splitter='best'),\n DecisionTreeClassifier(class_weight=None, criterion='gini', max_depth=5,\n             max_features='auto', max_leaf_nodes=None,\n             min_impurity_decrease=0.0, min_impurity_split=None,\n             min_samples_leaf=1, min_samples_split=2,\n             min_weight_fraction_leaf=0.0, presort=False,\n             random_state=767746023, splitter='best'),\n DecisionTreeClassifier(class_weight=None, criterion='gini', max_depth=5,\n             max_features='auto', max_leaf_nodes=None,\n             min_impurity_decrease=0.0, min_impurity_split=None,\n             min_samples_leaf=1, min_samples_split=2,\n             min_weight_fraction_leaf=0.0, presort=False,\n             random_state=2119773805, splitter='best'),\n DecisionTreeClassifier(class_weight=None, criterion='gini', max_depth=5,\n             max_features='auto', max_leaf_nodes=None,\n             min_impurity_decrease=0.0, min_impurity_split=None,\n             min_samples_leaf=1, min_samples_split=2,\n             min_weight_fraction_leaf=0.0, presort=False,\n             random_state=2099238028, splitter='best'),\n DecisionTreeClassifier(class_weight=None, criterion='gini', max_depth=5,\n             max_features='auto', max_leaf_nodes=None,\n             min_impurity_decrease=0.0, min_impurity_split=None,\n             min_samples_leaf=1, min_samples_split=2,\n             min_weight_fraction_leaf=0.0, presort=False,\n             random_state=1151685174, splitter='best'),\n DecisionTreeClassifier(class_weight=None, criterion='gini', max_depth=5,\n             max_features='auto', max_leaf_nodes=None,\n             min_impurity_decrease=0.0, min_impurity_split=None,\n             min_samples_leaf=1, min_samples_split=2,\n             min_weight_fraction_leaf=0.0, presort=False,\n             random_state=1732064116, splitter='best'),\n DecisionTreeClassifier(class_weight=None, criterion='gini', max_depth=5,\n             max_features='auto', max_leaf_nodes=None,\n             min_impurity_decrease=0.0, min_impurity_split=None,\n             min_samples_leaf=1, min_samples_split=2,\n             min_weight_fraction_leaf=0.0, presort=False,\n             random_state=559183330, splitter='best'),\n DecisionTreeClassifier(class_weight=None, criterion='gini', max_depth=5,\n             max_features='auto', max_leaf_nodes=None,\n             min_impurity_decrease=0.0, min_impurity_split=None,\n             min_samples_leaf=1, min_samples_split=2,\n             min_weight_fraction_leaf=0.0, presort=False,\n             random_state=1887171276, splitter='best'),\n DecisionTreeClassifier(class_weight=None, criterion='gini', max_depth=5,\n             max_features='auto', max_leaf_nodes=None,\n             min_impurity_decrease=0.0, min_impurity_split=None,\n             min_samples_leaf=1, min_samples_split=2,\n             min_weight_fraction_leaf=0.0, presort=False,\n             random_state=1736391752, splitter='best'),\n DecisionTreeClassifier(class_weight=None, criterion='gini', max_depth=5,\n             max_features='auto', max_leaf_nodes=None,\n             min_impurity_decrease=0.0, min_impurity_split=None,\n             min_samples_leaf=1, min_samples_split=2,\n             min_weight_fraction_leaf=0.0, presort=False,\n             random_state=1084777344, splitter='best'),\n DecisionTreeClassifier(class_weight=None, criterion='gini', max_depth=5,\n             max_features='auto', max_leaf_nodes=None,\n             min_impurity_decrease=0.0, min_impurity_split=None,\n             min_samples_leaf=1, min_samples_split=2,\n             min_weight_fraction_leaf=0.0, presort=False,\n             random_state=801151797, splitter='best'),\n DecisionTreeClassifier(class_weight=None, criterion='gini', max_depth=5,\n             max_features='auto', max_leaf_nodes=None,\n             min_impurity_decrease=0.0, min_impurity_split=None,\n             min_samples_leaf=1, min_samples_split=2,\n             min_weight_fraction_leaf=0.0, presort=False,\n             random_state=648322727, splitter='best'),\n DecisionTreeClassifier(class_weight=None, criterion='gini', max_depth=5,\n             max_features='auto', max_leaf_nodes=None,\n             min_impurity_decrease=0.0, min_impurity_split=None,\n             min_samples_leaf=1, min_samples_split=2,\n             min_weight_fraction_leaf=0.0, presort=False,\n             random_state=1405969994, splitter='best'),\n DecisionTreeClassifier(class_weight=None, criterion='gini', max_depth=5,\n             max_features='auto', max_leaf_nodes=None,\n             min_impurity_decrease=0.0, min_impurity_split=None,\n             min_samples_leaf=1, min_samples_split=2,\n             min_weight_fraction_leaf=0.0, presort=False,\n             random_state=157532045, splitter='best'),\n DecisionTreeClassifier(class_weight=None, criterion='gini', max_depth=5,\n             max_features='auto', max_leaf_nodes=None,\n             min_impurity_decrease=0.0, min_impurity_split=None,\n             min_samples_leaf=1, min_samples_split=2,\n             min_weight_fraction_leaf=0.0, presort=False,\n             random_state=291285971, splitter='best'),\n DecisionTreeClassifier(class_weight=None, criterion='gini', max_depth=5,\n             max_features='auto', max_leaf_nodes=None,\n             min_impurity_decrease=0.0, min_impurity_split=None,\n             min_samples_leaf=1, min_samples_split=2,\n             min_weight_fraction_leaf=0.0, presort=False,\n             random_state=1718642975, splitter='best'),\n DecisionTreeClassifier(class_weight=None, criterion='gini', max_depth=5,\n             max_features='auto', max_leaf_nodes=None,\n             min_impurity_decrease=0.0, min_impurity_split=None,\n             min_samples_leaf=1, min_samples_split=2,\n             min_weight_fraction_leaf=0.0, presort=False,\n             random_state=1297361080, splitter='best'),\n DecisionTreeClassifier(class_weight=None, criterion='gini', max_depth=5,\n             max_features='auto', max_leaf_nodes=None,\n             min_impurity_decrease=0.0, min_impurity_split=None,\n             min_samples_leaf=1, min_samples_split=2,\n             min_weight_fraction_leaf=0.0, presort=False,\n             random_state=2090226221, splitter='best'),\n DecisionTreeClassifier(class_weight=None, criterion='gini', max_depth=5,\n             max_features='auto', max_leaf_nodes=None,\n             min_impurity_decrease=0.0, min_impurity_split=None,\n             min_samples_leaf=1, min_samples_split=2,\n             min_weight_fraction_leaf=0.0, presort=False,\n             random_state=354066731, splitter='best'),\n DecisionTreeClassifier(class_weight=None, criterion='gini', max_depth=5,\n             max_features='auto', max_leaf_nodes=None,\n             min_impurity_decrease=0.0, min_impurity_split=None,\n             min_samples_leaf=1, min_samples_split=2,\n             min_weight_fraction_leaf=0.0, presort=False,\n             random_state=1109824194, splitter='best'),\n DecisionTreeClassifier(class_weight=None, criterion='gini', max_depth=5,\n             max_features='auto', max_leaf_nodes=None,\n             min_impurity_decrease=0.0, min_impurity_split=None,\n             min_samples_leaf=1, min_samples_split=2,\n             min_weight_fraction_leaf=0.0, presort=False,\n             random_state=1368856364, splitter='best'),\n DecisionTreeClassifier(class_weight=None, criterion='gini', max_depth=5,\n             max_features='auto', max_leaf_nodes=None,\n             min_impurity_decrease=0.0, min_impurity_split=None,\n             min_samples_leaf=1, min_samples_split=2,\n             min_weight_fraction_leaf=0.0, presort=False,\n             random_state=1067218018, splitter='best'),\n DecisionTreeClassifier(class_weight=None, criterion='gini', max_depth=5,\n             max_features='auto', max_leaf_nodes=None,\n             min_impurity_decrease=0.0, min_impurity_split=None,\n             min_samples_leaf=1, min_samples_split=2,\n             min_weight_fraction_leaf=0.0, presort=False,\n             random_state=1807608892, splitter='best'),\n DecisionTreeClassifier(class_weight=None, criterion='gini', max_depth=5,\n             max_features='auto', max_leaf_nodes=None,\n             min_impurity_decrease=0.0, min_impurity_split=None,\n             min_samples_leaf=1, min_samples_split=2,\n             min_weight_fraction_leaf=0.0, presort=False,\n             random_state=2119257046, splitter='best'),\n DecisionTreeClassifier(class_weight=None, criterion='gini', max_depth=5,\n             max_features='auto', max_leaf_nodes=None,\n             min_impurity_decrease=0.0, min_impurity_split=None,\n             min_samples_leaf=1, min_samples_split=2,\n             min_weight_fraction_leaf=0.0, presort=False,\n             random_state=886710316, splitter='best'),\n DecisionTreeClassifier(class_weight=None, criterion='gini', max_depth=5,\n             max_features='auto', max_leaf_nodes=None,\n             min_impurity_decrease=0.0, min_impurity_split=None,\n             min_samples_leaf=1, min_samples_split=2,\n             min_weight_fraction_leaf=0.0, presort=False,\n             random_state=1111197582, splitter='best')]"
          },
          "metadata": {}
        }
      ]
    },
    {
      "metadata": {
        "trusted": true
      },
      "cell_type": "code",
      "source": "rf_model.estimators_[0]",
      "execution_count": 24,
      "outputs": [
        {
          "output_type": "execute_result",
          "execution_count": 24,
          "data": {
            "text/plain": "DecisionTreeClassifier(class_weight=None, criterion='gini', max_depth=5,\n            max_features='auto', max_leaf_nodes=None,\n            min_impurity_decrease=0.0, min_impurity_split=None,\n            min_samples_leaf=1, min_samples_split=2,\n            min_weight_fraction_leaf=0.0, presort=False,\n            random_state=961533479, splitter='best')"
          },
          "metadata": {}
        }
      ]
    },
    {
      "metadata": {
        "scrolled": false,
        "trusted": true
      },
      "cell_type": "code",
      "source": "rf_model.estimators_[0].predict_proba(x_test)[:10]",
      "execution_count": 80,
      "outputs": [
        {
          "output_type": "execute_result",
          "execution_count": 80,
          "data": {
            "text/plain": "array([[0.85294118, 0.14705882],\n       [0.96768982, 0.03231018],\n       [0.87219888, 0.12780112],\n       [0.86900958, 0.13099042],\n       [0.77632534, 0.22367466],\n       [0.87219888, 0.12780112],\n       [0.87219888, 0.12780112],\n       [0.87219888, 0.12780112],\n       [0.77632534, 0.22367466],\n       [0.87219888, 0.12780112]])"
          },
          "metadata": {}
        }
      ]
    },
    {
      "metadata": {
        "trusted": true
      },
      "cell_type": "code",
      "source": "rf_model.estimators_[1].predict_proba(x_test)[:10]",
      "execution_count": 81,
      "outputs": [
        {
          "output_type": "execute_result",
          "execution_count": 81,
          "data": {
            "text/plain": "array([[0.93302991, 0.06697009],\n       [0.93302991, 0.06697009],\n       [0.87301173, 0.12698827],\n       [0.87301173, 0.12698827],\n       [0.87301173, 0.12698827],\n       [0.87301173, 0.12698827],\n       [0.87301173, 0.12698827],\n       [0.93302991, 0.06697009],\n       [0.87301173, 0.12698827],\n       [0.87301173, 0.12698827]])"
          },
          "metadata": {}
        }
      ]
    },
    {
      "metadata": {
        "trusted": true
      },
      "cell_type": "code",
      "source": "rf_model.estimators_[2].predict(x_test)[:10]",
      "execution_count": 27,
      "outputs": [
        {
          "output_type": "execute_result",
          "execution_count": 27,
          "data": {
            "text/plain": "array([0., 0., 0., 0., 0., 0., 0., 0., 0., 0.])"
          },
          "metadata": {}
        }
      ]
    },
    {
      "metadata": {
        "trusted": true
      },
      "cell_type": "code",
      "source": "rf_model.estimators_[3].predict(x_test)[:10]",
      "execution_count": 28,
      "outputs": [
        {
          "output_type": "execute_result",
          "execution_count": 28,
          "data": {
            "text/plain": "array([0., 0., 0., 0., 0., 0., 0., 0., 0., 0.])"
          },
          "metadata": {}
        }
      ]
    },
    {
      "metadata": {
        "trusted": true
      },
      "cell_type": "code",
      "source": "rf_model.estimators_[4].predict(x_test)[:10]",
      "execution_count": 29,
      "outputs": [
        {
          "output_type": "execute_result",
          "execution_count": 29,
          "data": {
            "text/plain": "array([0., 0., 0., 0., 0., 0., 0., 0., 0., 0.])"
          },
          "metadata": {}
        }
      ]
    },
    {
      "metadata": {},
      "cell_type": "markdown",
      "source": "#### - Feature Importances"
    },
    {
      "metadata": {
        "trusted": true
      },
      "cell_type": "code",
      "source": "rf_model.feature_importances_",
      "execution_count": 30,
      "outputs": [
        {
          "output_type": "execute_result",
          "execution_count": 30,
          "data": {
            "text/plain": "array([0.06367979, 0.09365597, 0.05216913, 0.02686112, 0.0485627 ,\n       0.01237066, 0.01769078, 0.07590682, 0.03454722, 0.00738817,\n       0.00716702, 0.00536998, 0.00697789, 0.00886572, 0.01046109,\n       0.00376871, 0.00071658, 0.00286988, 0.00372062, 0.00697186,\n       0.00285342, 0.00089982, 0.00100336, 0.00097627, 0.00145712,\n       0.0009745 , 0.00102094, 0.00089645, 0.00074777, 0.00103634,\n       0.00101478, 0.00066986, 0.00122333, 0.00412169, 0.03565506,\n       0.00557545, 0.29596743, 0.02106566, 0.05263857, 0.02396627,\n       0.01360938, 0.00347069, 0.00444472, 0.00556041, 0.00408741,\n       0.00664231, 0.0044499 , 0.00399568, 0.00281821, 0.00743547])"
          },
          "metadata": {}
        }
      ]
    },
    {
      "metadata": {
        "scrolled": true,
        "trusted": true
      },
      "cell_type": "code",
      "source": "feature_importance_df = pd.DataFrame(list(zip(rf_model.feature_importances_, all_features)))\nfeature_importance_df.columns = ['feature.importance', 'feature']\n\nfeature_importance_df.sort_values(by='feature.importance', ascending=False)",
      "execution_count": 31,
      "outputs": [
        {
          "output_type": "execute_result",
          "execution_count": 31,
          "data": {
            "text/plain": "    feature.importance                         feature\n36            0.295967        EmploymentStatus.Retired\n1             0.093656                          Income\n7             0.075907              Total.Claim.Amount\n0             0.063680         Customer.Lifetime.Value\n38            0.052639         Marital.Status.Divorced\n2             0.052169            Monthly.Premium.Auto\n4             0.048563   Months.Since.Policy.Inception\n34            0.035655       EmploymentStatus.Employed\n8             0.034547             Sales.Channel.Agent\n3             0.026861         Months.Since.Last.Claim\n39            0.023966          Marital.Status.Married\n37            0.021066     EmploymentStatus.Unemployed\n6             0.017691              Number.of.Policies\n40            0.013609           Marital.Status.Single\n5             0.012371       Number.of.Open.Complaints\n14            0.010461              Vehicle.Size.Small\n13            0.008866            Vehicle.Size.Medsize\n49            0.007435                       Is.Female\n9             0.007388            Sales.Channel.Branch\n10            0.007167       Sales.Channel.Call.Center\n12            0.006978              Vehicle.Size.Large\n19            0.006972        Vehicle.Class.Sports.Car\n45            0.006642                Education.Master\n35            0.005575  EmploymentStatus.Medical.Leave\n43            0.005560                Education.Doctor\n11            0.005370               Sales.Channel.Web\n46            0.004450                  Coverage.Basic\n42            0.004445               Education.College\n33            0.004122       EmploymentStatus.Disabled\n44            0.004087  Education.High.School.or.Below\n47            0.003996               Coverage.Extended\n15            0.003769     Vehicle.Class.Four-Door.Car\n18            0.003721               Vehicle.Class.SUV\n41            0.003471              Education.Bachelor\n17            0.002870        Vehicle.Class.Luxury.SUV\n20            0.002853      Vehicle.Class.Two-Door.Car\n48            0.002818                Coverage.Premium\n24            0.001457              Policy.Personal.L1\n32            0.001223        Policy.Type.Special.Auto\n29            0.001036               Policy.Special.L3\n26            0.001021              Policy.Personal.L3\n30            0.001015      Policy.Type.Corporate.Auto\n22            0.001003             Policy.Corporate.L2\n23            0.000976             Policy.Corporate.L3\n25            0.000975              Policy.Personal.L2\n21            0.000900             Policy.Corporate.L1\n27            0.000896               Policy.Special.L1\n28            0.000748               Policy.Special.L2\n16            0.000717        Vehicle.Class.Luxury.Car\n31            0.000670       Policy.Type.Personal.Auto",
            "text/html": "<div>\n<table border=\"1\" class=\"dataframe\">\n  <thead>\n    <tr style=\"text-align: right;\">\n      <th></th>\n      <th>feature.importance</th>\n      <th>feature</th>\n    </tr>\n  </thead>\n  <tbody>\n    <tr>\n      <th>36</th>\n      <td>0.295967</td>\n      <td>EmploymentStatus.Retired</td>\n    </tr>\n    <tr>\n      <th>1</th>\n      <td>0.093656</td>\n      <td>Income</td>\n    </tr>\n    <tr>\n      <th>7</th>\n      <td>0.075907</td>\n      <td>Total.Claim.Amount</td>\n    </tr>\n    <tr>\n      <th>0</th>\n      <td>0.063680</td>\n      <td>Customer.Lifetime.Value</td>\n    </tr>\n    <tr>\n      <th>38</th>\n      <td>0.052639</td>\n      <td>Marital.Status.Divorced</td>\n    </tr>\n    <tr>\n      <th>2</th>\n      <td>0.052169</td>\n      <td>Monthly.Premium.Auto</td>\n    </tr>\n    <tr>\n      <th>4</th>\n      <td>0.048563</td>\n      <td>Months.Since.Policy.Inception</td>\n    </tr>\n    <tr>\n      <th>34</th>\n      <td>0.035655</td>\n      <td>EmploymentStatus.Employed</td>\n    </tr>\n    <tr>\n      <th>8</th>\n      <td>0.034547</td>\n      <td>Sales.Channel.Agent</td>\n    </tr>\n    <tr>\n      <th>3</th>\n      <td>0.026861</td>\n      <td>Months.Since.Last.Claim</td>\n    </tr>\n    <tr>\n      <th>39</th>\n      <td>0.023966</td>\n      <td>Marital.Status.Married</td>\n    </tr>\n    <tr>\n      <th>37</th>\n      <td>0.021066</td>\n      <td>EmploymentStatus.Unemployed</td>\n    </tr>\n    <tr>\n      <th>6</th>\n      <td>0.017691</td>\n      <td>Number.of.Policies</td>\n    </tr>\n    <tr>\n      <th>40</th>\n      <td>0.013609</td>\n      <td>Marital.Status.Single</td>\n    </tr>\n    <tr>\n      <th>5</th>\n      <td>0.012371</td>\n      <td>Number.of.Open.Complaints</td>\n    </tr>\n    <tr>\n      <th>14</th>\n      <td>0.010461</td>\n      <td>Vehicle.Size.Small</td>\n    </tr>\n    <tr>\n      <th>13</th>\n      <td>0.008866</td>\n      <td>Vehicle.Size.Medsize</td>\n    </tr>\n    <tr>\n      <th>49</th>\n      <td>0.007435</td>\n      <td>Is.Female</td>\n    </tr>\n    <tr>\n      <th>9</th>\n      <td>0.007388</td>\n      <td>Sales.Channel.Branch</td>\n    </tr>\n    <tr>\n      <th>10</th>\n      <td>0.007167</td>\n      <td>Sales.Channel.Call.Center</td>\n    </tr>\n    <tr>\n      <th>12</th>\n      <td>0.006978</td>\n      <td>Vehicle.Size.Large</td>\n    </tr>\n    <tr>\n      <th>19</th>\n      <td>0.006972</td>\n      <td>Vehicle.Class.Sports.Car</td>\n    </tr>\n    <tr>\n      <th>45</th>\n      <td>0.006642</td>\n      <td>Education.Master</td>\n    </tr>\n    <tr>\n      <th>35</th>\n      <td>0.005575</td>\n      <td>EmploymentStatus.Medical.Leave</td>\n    </tr>\n    <tr>\n      <th>43</th>\n      <td>0.005560</td>\n      <td>Education.Doctor</td>\n    </tr>\n    <tr>\n      <th>11</th>\n      <td>0.005370</td>\n      <td>Sales.Channel.Web</td>\n    </tr>\n    <tr>\n      <th>46</th>\n      <td>0.004450</td>\n      <td>Coverage.Basic</td>\n    </tr>\n    <tr>\n      <th>42</th>\n      <td>0.004445</td>\n      <td>Education.College</td>\n    </tr>\n    <tr>\n      <th>33</th>\n      <td>0.004122</td>\n      <td>EmploymentStatus.Disabled</td>\n    </tr>\n    <tr>\n      <th>44</th>\n      <td>0.004087</td>\n      <td>Education.High.School.or.Below</td>\n    </tr>\n    <tr>\n      <th>47</th>\n      <td>0.003996</td>\n      <td>Coverage.Extended</td>\n    </tr>\n    <tr>\n      <th>15</th>\n      <td>0.003769</td>\n      <td>Vehicle.Class.Four-Door.Car</td>\n    </tr>\n    <tr>\n      <th>18</th>\n      <td>0.003721</td>\n      <td>Vehicle.Class.SUV</td>\n    </tr>\n    <tr>\n      <th>41</th>\n      <td>0.003471</td>\n      <td>Education.Bachelor</td>\n    </tr>\n    <tr>\n      <th>17</th>\n      <td>0.002870</td>\n      <td>Vehicle.Class.Luxury.SUV</td>\n    </tr>\n    <tr>\n      <th>20</th>\n      <td>0.002853</td>\n      <td>Vehicle.Class.Two-Door.Car</td>\n    </tr>\n    <tr>\n      <th>48</th>\n      <td>0.002818</td>\n      <td>Coverage.Premium</td>\n    </tr>\n    <tr>\n      <th>24</th>\n      <td>0.001457</td>\n      <td>Policy.Personal.L1</td>\n    </tr>\n    <tr>\n      <th>32</th>\n      <td>0.001223</td>\n      <td>Policy.Type.Special.Auto</td>\n    </tr>\n    <tr>\n      <th>29</th>\n      <td>0.001036</td>\n      <td>Policy.Special.L3</td>\n    </tr>\n    <tr>\n      <th>26</th>\n      <td>0.001021</td>\n      <td>Policy.Personal.L3</td>\n    </tr>\n    <tr>\n      <th>30</th>\n      <td>0.001015</td>\n      <td>Policy.Type.Corporate.Auto</td>\n    </tr>\n    <tr>\n      <th>22</th>\n      <td>0.001003</td>\n      <td>Policy.Corporate.L2</td>\n    </tr>\n    <tr>\n      <th>23</th>\n      <td>0.000976</td>\n      <td>Policy.Corporate.L3</td>\n    </tr>\n    <tr>\n      <th>25</th>\n      <td>0.000975</td>\n      <td>Policy.Personal.L2</td>\n    </tr>\n    <tr>\n      <th>21</th>\n      <td>0.000900</td>\n      <td>Policy.Corporate.L1</td>\n    </tr>\n    <tr>\n      <th>27</th>\n      <td>0.000896</td>\n      <td>Policy.Special.L1</td>\n    </tr>\n    <tr>\n      <th>28</th>\n      <td>0.000748</td>\n      <td>Policy.Special.L2</td>\n    </tr>\n    <tr>\n      <th>16</th>\n      <td>0.000717</td>\n      <td>Vehicle.Class.Luxury.Car</td>\n    </tr>\n    <tr>\n      <th>31</th>\n      <td>0.000670</td>\n      <td>Policy.Type.Personal.Auto</td>\n    </tr>\n  </tbody>\n</table>\n</div>"
          },
          "metadata": {}
        }
      ]
    },
    {
      "metadata": {},
      "cell_type": "markdown",
      "source": "## 3.2. Evaluating Models"
    },
    {
      "metadata": {},
      "cell_type": "markdown",
      "source": "#### - Accuracy, Precision, and Recall"
    },
    {
      "metadata": {
        "trusted": true
      },
      "cell_type": "code",
      "source": "from sklearn.metrics import accuracy_score, precision_score, recall_score",
      "execution_count": 32,
      "outputs": []
    },
    {
      "metadata": {
        "trusted": true
      },
      "cell_type": "code",
      "source": "in_sample_preds = rf_model.predict(x_train)\nout_sample_preds = rf_model.predict(x_test)",
      "execution_count": 33,
      "outputs": []
    },
    {
      "metadata": {
        "trusted": true
      },
      "cell_type": "code",
      "source": "print('In-Sample Accuracy: %0.4f' % accuracy_score(y_train, in_sample_preds))\nprint('Out-of-Sample Accuracy: %0.4f' % accuracy_score(y_test, out_sample_preds))",
      "execution_count": 34,
      "outputs": [
        {
          "output_type": "stream",
          "text": "In-Sample Accuracy: 0.8788\nOut-of-Sample Accuracy: 0.8705\n",
          "name": "stdout"
        }
      ]
    },
    {
      "metadata": {
        "trusted": true
      },
      "cell_type": "code",
      "source": "print('In-Sample Precision: %0.4f' % precision_score(y_train, in_sample_preds))\nprint('Out-of-Sample Precision: %0.4f' % precision_score(y_test, out_sample_preds))",
      "execution_count": 35,
      "outputs": [
        {
          "output_type": "stream",
          "text": "In-Sample Precision: 0.9927\nOut-of-Sample Precision: 0.8772\n",
          "name": "stdout"
        }
      ]
    },
    {
      "metadata": {
        "trusted": true
      },
      "cell_type": "code",
      "source": "print('In-Sample Recall: %0.4f' % recall_score(y_train, in_sample_preds))\nprint('Out-of-Sample Recall: %0.4f' % recall_score(y_test, out_sample_preds))",
      "execution_count": 36,
      "outputs": [
        {
          "output_type": "stream",
          "text": "In-Sample Recall: 0.1495\nOut-of-Sample Recall: 0.1256\n",
          "name": "stdout"
        }
      ]
    },
    {
      "metadata": {},
      "cell_type": "markdown",
      "source": "#### - ROC & AUC"
    },
    {
      "metadata": {
        "trusted": true
      },
      "cell_type": "code",
      "source": "from sklearn.metrics import roc_curve, auc",
      "execution_count": 37,
      "outputs": []
    },
    {
      "metadata": {
        "trusted": true
      },
      "cell_type": "code",
      "source": "in_sample_preds = rf_model.predict_proba(x_train)[:,1]\nout_sample_preds = rf_model.predict_proba(x_test)[:,1]",
      "execution_count": 38,
      "outputs": []
    },
    {
      "metadata": {
        "trusted": true
      },
      "cell_type": "code",
      "source": "in_sample_fpr, in_sample_tpr, in_sample_thresholds = roc_curve(y_train, in_sample_preds)\nout_sample_fpr, out_sample_tpr, out_sample_thresholds = roc_curve(y_test, out_sample_preds)",
      "execution_count": 39,
      "outputs": []
    },
    {
      "metadata": {
        "trusted": true
      },
      "cell_type": "code",
      "source": "in_sample_roc_auc = auc(in_sample_fpr, in_sample_tpr)\nout_sample_roc_auc = auc(out_sample_fpr, out_sample_tpr)\n\nprint('In-Sample AUC: %0.4f' % in_sample_roc_auc)\nprint('Out-Sample AUC: %0.4f' % out_sample_roc_auc)",
      "execution_count": 40,
      "outputs": [
        {
          "output_type": "stream",
          "text": "In-Sample AUC: 0.8695\nOut-Sample AUC: 0.8057\n",
          "name": "stdout"
        }
      ]
    },
    {
      "metadata": {
        "trusted": true
      },
      "cell_type": "code",
      "source": "plt.figure(figsize=(10,7))\n\nplt.plot(\n    out_sample_fpr, out_sample_tpr, color='darkorange', label='Out-Sample ROC curve (area = %0.4f)' % in_sample_roc_auc\n)\nplt.plot(\n    in_sample_fpr, in_sample_tpr, color='navy', label='In-Sample ROC curve (area = %0.4f)' % out_sample_roc_auc\n)\nplt.plot([0, 1], [0, 1], color='gray', lw=1, linestyle='--')\nplt.grid()\nplt.xlim([0.0, 1.0])\nplt.ylim([0.0, 1.05])\nplt.xlabel('False Positive Rate')\nplt.ylabel('True Positive Rate')\nplt.title('RandomForest Model ROC Curve')\nplt.legend(loc=\"lower right\")\n\nplt.show()",
      "execution_count": 41,
      "outputs": [
        {
          "output_type": "display_data",
          "data": {
            "image/png": "[encoded data removed]",
            "text/plain": "<matplotlib.figure.Figure at 0x7f161d29feb8>"
          },
          "metadata": {}
        }
      ]
    },
    {
      "metadata": {
        "trusted": true
      },
      "cell_type": "code",
      "source": "",
      "execution_count": null,
      "outputs": []
    }
  ],
  "metadata": {
    "kernelspec": {
      "name": "python3",
      "display_name": "Python 3",
      "language": "python"
    },
    "language_info": {
      "mimetype": "text/x-python",
      "nbconvert_exporter": "python",
      "name": "python",
      "file_extension": ".py",
      "version": "3.5.4",
      "pygments_lexer": "ipython3",
      "codemirror_mode": {
        "version": 3,
        "name": "ipython"
      }
    }
  },
  "nbformat": 4,
  "nbformat_minor": 2
}