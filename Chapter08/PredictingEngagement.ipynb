{
 "cells": [
  {
   "cell_type": "code",
   "execution_count": 1,
   "metadata": {},
   "outputs": [],
   "source": [
    "%matplotlib inline"
   ]
  },
  {
   "cell_type": "code",
   "execution_count": 2,
   "metadata": {},
   "outputs": [],
   "source": [
    "import matplotlib.pyplot as plt\n",
    "import pandas as pd"
   ]
  },
  {
   "cell_type": "markdown",
   "metadata": {},
   "source": [
    "# 1. Load Data"
   ]
  },
  {
   "cell_type": "code",
   "execution_count": 3,
   "metadata": {},
   "outputs": [],
   "source": [
    "df = pd.read_csv('../data/WA_Fn-UseC_-Marketing-Customer-Value-Analysis.csv')"
   ]
  },
  {
   "cell_type": "code",
   "execution_count": 4,
   "metadata": {},
   "outputs": [
    {
     "data": {
      "text/plain": [
       "(9134, 24)"
      ]
     },
     "execution_count": 4,
     "metadata": {},
     "output_type": "execute_result"
    }
   ],
   "source": [
    "df.shape"
   ]
  },
  {
   "cell_type": "code",
   "execution_count": 5,
   "metadata": {},
   "outputs": [
    {
     "data": {
      "text/html": [
       "<div>\n",
       "<style scoped>\n",
       "    .dataframe tbody tr th:only-of-type {\n",
       "        vertical-align: middle;\n",
       "    }\n",
       "\n",
       "    .dataframe tbody tr th {\n",
       "        vertical-align: top;\n",
       "    }\n",
       "\n",
       "    .dataframe thead th {\n",
       "        text-align: right;\n",
       "    }\n",
       "</style>\n",
       "<table border=\"1\" class=\"dataframe\">\n",
       "  <thead>\n",
       "    <tr style=\"text-align: right;\">\n",
       "      <th></th>\n",
       "      <th>Customer</th>\n",
       "      <th>State</th>\n",
       "      <th>Customer Lifetime Value</th>\n",
       "      <th>Response</th>\n",
       "      <th>Coverage</th>\n",
       "      <th>Education</th>\n",
       "      <th>Effective To Date</th>\n",
       "      <th>EmploymentStatus</th>\n",
       "      <th>Gender</th>\n",
       "      <th>Income</th>\n",
       "      <th>...</th>\n",
       "      <th>Months Since Policy Inception</th>\n",
       "      <th>Number of Open Complaints</th>\n",
       "      <th>Number of Policies</th>\n",
       "      <th>Policy Type</th>\n",
       "      <th>Policy</th>\n",
       "      <th>Renew Offer Type</th>\n",
       "      <th>Sales Channel</th>\n",
       "      <th>Total Claim Amount</th>\n",
       "      <th>Vehicle Class</th>\n",
       "      <th>Vehicle Size</th>\n",
       "    </tr>\n",
       "  </thead>\n",
       "  <tbody>\n",
       "    <tr>\n",
       "      <th>0</th>\n",
       "      <td>BU79786</td>\n",
       "      <td>Washington</td>\n",
       "      <td>2763.519279</td>\n",
       "      <td>No</td>\n",
       "      <td>Basic</td>\n",
       "      <td>Bachelor</td>\n",
       "      <td>2/24/11</td>\n",
       "      <td>Employed</td>\n",
       "      <td>F</td>\n",
       "      <td>56274</td>\n",
       "      <td>...</td>\n",
       "      <td>5</td>\n",
       "      <td>0</td>\n",
       "      <td>1</td>\n",
       "      <td>Corporate Auto</td>\n",
       "      <td>Corporate L3</td>\n",
       "      <td>Offer1</td>\n",
       "      <td>Agent</td>\n",
       "      <td>384.811147</td>\n",
       "      <td>Two-Door Car</td>\n",
       "      <td>Medsize</td>\n",
       "    </tr>\n",
       "    <tr>\n",
       "      <th>1</th>\n",
       "      <td>QZ44356</td>\n",
       "      <td>Arizona</td>\n",
       "      <td>6979.535903</td>\n",
       "      <td>No</td>\n",
       "      <td>Extended</td>\n",
       "      <td>Bachelor</td>\n",
       "      <td>1/31/11</td>\n",
       "      <td>Unemployed</td>\n",
       "      <td>F</td>\n",
       "      <td>0</td>\n",
       "      <td>...</td>\n",
       "      <td>42</td>\n",
       "      <td>0</td>\n",
       "      <td>8</td>\n",
       "      <td>Personal Auto</td>\n",
       "      <td>Personal L3</td>\n",
       "      <td>Offer3</td>\n",
       "      <td>Agent</td>\n",
       "      <td>1131.464935</td>\n",
       "      <td>Four-Door Car</td>\n",
       "      <td>Medsize</td>\n",
       "    </tr>\n",
       "    <tr>\n",
       "      <th>2</th>\n",
       "      <td>AI49188</td>\n",
       "      <td>Nevada</td>\n",
       "      <td>12887.431650</td>\n",
       "      <td>No</td>\n",
       "      <td>Premium</td>\n",
       "      <td>Bachelor</td>\n",
       "      <td>2/19/11</td>\n",
       "      <td>Employed</td>\n",
       "      <td>F</td>\n",
       "      <td>48767</td>\n",
       "      <td>...</td>\n",
       "      <td>38</td>\n",
       "      <td>0</td>\n",
       "      <td>2</td>\n",
       "      <td>Personal Auto</td>\n",
       "      <td>Personal L3</td>\n",
       "      <td>Offer1</td>\n",
       "      <td>Agent</td>\n",
       "      <td>566.472247</td>\n",
       "      <td>Two-Door Car</td>\n",
       "      <td>Medsize</td>\n",
       "    </tr>\n",
       "    <tr>\n",
       "      <th>3</th>\n",
       "      <td>WW63253</td>\n",
       "      <td>California</td>\n",
       "      <td>7645.861827</td>\n",
       "      <td>No</td>\n",
       "      <td>Basic</td>\n",
       "      <td>Bachelor</td>\n",
       "      <td>1/20/11</td>\n",
       "      <td>Unemployed</td>\n",
       "      <td>M</td>\n",
       "      <td>0</td>\n",
       "      <td>...</td>\n",
       "      <td>65</td>\n",
       "      <td>0</td>\n",
       "      <td>7</td>\n",
       "      <td>Corporate Auto</td>\n",
       "      <td>Corporate L2</td>\n",
       "      <td>Offer1</td>\n",
       "      <td>Call Center</td>\n",
       "      <td>529.881344</td>\n",
       "      <td>SUV</td>\n",
       "      <td>Medsize</td>\n",
       "    </tr>\n",
       "    <tr>\n",
       "      <th>4</th>\n",
       "      <td>HB64268</td>\n",
       "      <td>Washington</td>\n",
       "      <td>2813.692575</td>\n",
       "      <td>No</td>\n",
       "      <td>Basic</td>\n",
       "      <td>Bachelor</td>\n",
       "      <td>2/3/11</td>\n",
       "      <td>Employed</td>\n",
       "      <td>M</td>\n",
       "      <td>43836</td>\n",
       "      <td>...</td>\n",
       "      <td>44</td>\n",
       "      <td>0</td>\n",
       "      <td>1</td>\n",
       "      <td>Personal Auto</td>\n",
       "      <td>Personal L1</td>\n",
       "      <td>Offer1</td>\n",
       "      <td>Agent</td>\n",
       "      <td>138.130879</td>\n",
       "      <td>Four-Door Car</td>\n",
       "      <td>Medsize</td>\n",
       "    </tr>\n",
       "  </tbody>\n",
       "</table>\n",
       "<p>5 rows × 24 columns</p>\n",
       "</div>"
      ],
      "text/plain": [
       "  Customer       State  Customer Lifetime Value Response  Coverage Education  \\\n",
       "0  BU79786  Washington              2763.519279       No     Basic  Bachelor   \n",
       "1  QZ44356     Arizona              6979.535903       No  Extended  Bachelor   \n",
       "2  AI49188      Nevada             12887.431650       No   Premium  Bachelor   \n",
       "3  WW63253  California              7645.861827       No     Basic  Bachelor   \n",
       "4  HB64268  Washington              2813.692575       No     Basic  Bachelor   \n",
       "\n",
       "  Effective To Date EmploymentStatus Gender  Income  ...  \\\n",
       "0           2/24/11         Employed      F   56274  ...   \n",
       "1           1/31/11       Unemployed      F       0  ...   \n",
       "2           2/19/11         Employed      F   48767  ...   \n",
       "3           1/20/11       Unemployed      M       0  ...   \n",
       "4            2/3/11         Employed      M   43836  ...   \n",
       "\n",
       "  Months Since Policy Inception Number of Open Complaints  Number of Policies  \\\n",
       "0                             5                         0                   1   \n",
       "1                            42                         0                   8   \n",
       "2                            38                         0                   2   \n",
       "3                            65                         0                   7   \n",
       "4                            44                         0                   1   \n",
       "\n",
       "      Policy Type        Policy  Renew Offer Type  Sales Channel  \\\n",
       "0  Corporate Auto  Corporate L3            Offer1          Agent   \n",
       "1   Personal Auto   Personal L3            Offer3          Agent   \n",
       "2   Personal Auto   Personal L3            Offer1          Agent   \n",
       "3  Corporate Auto  Corporate L2            Offer1    Call Center   \n",
       "4   Personal Auto   Personal L1            Offer1          Agent   \n",
       "\n",
       "  Total Claim Amount  Vehicle Class Vehicle Size  \n",
       "0         384.811147   Two-Door Car      Medsize  \n",
       "1        1131.464935  Four-Door Car      Medsize  \n",
       "2         566.472247   Two-Door Car      Medsize  \n",
       "3         529.881344            SUV      Medsize  \n",
       "4         138.130879  Four-Door Car      Medsize  \n",
       "\n",
       "[5 rows x 24 columns]"
      ]
     },
     "execution_count": 5,
     "metadata": {},
     "output_type": "execute_result"
    }
   ],
   "source": [
    "df.head()"
   ]
  },
  {
   "cell_type": "markdown",
   "metadata": {},
   "source": [
    "# 2. Variable Encoding"
   ]
  },
  {
   "cell_type": "markdown",
   "metadata": {},
   "source": [
    "## 2.1. Response Variable: Response"
   ]
  },
  {
   "cell_type": "code",
   "execution_count": 6,
   "metadata": {},
   "outputs": [],
   "source": [
    "df['Engaged'] = df['Response'].apply(lambda x: 1 if x == 'Yes' else 0)"
   ]
  },
  {
   "cell_type": "code",
   "execution_count": 7,
   "metadata": {},
   "outputs": [
    {
     "data": {
      "text/plain": [
       "0.14320122618786948"
      ]
     },
     "execution_count": 7,
     "metadata": {},
     "output_type": "execute_result"
    }
   ],
   "source": [
    "df['Engaged'].mean()"
   ]
  },
  {
   "cell_type": "markdown",
   "metadata": {},
   "source": [
    "## 2.2. Features"
   ]
  },
  {
   "cell_type": "code",
   "execution_count": 8,
   "metadata": {},
   "outputs": [
    {
     "data": {
      "text/html": [
       "<div>\n",
       "<style scoped>\n",
       "    .dataframe tbody tr th:only-of-type {\n",
       "        vertical-align: middle;\n",
       "    }\n",
       "\n",
       "    .dataframe tbody tr th {\n",
       "        vertical-align: top;\n",
       "    }\n",
       "\n",
       "    .dataframe thead th {\n",
       "        text-align: right;\n",
       "    }\n",
       "</style>\n",
       "<table border=\"1\" class=\"dataframe\">\n",
       "  <thead>\n",
       "    <tr style=\"text-align: right;\">\n",
       "      <th></th>\n",
       "      <th>Customer Lifetime Value</th>\n",
       "      <th>Income</th>\n",
       "      <th>Monthly Premium Auto</th>\n",
       "      <th>Months Since Last Claim</th>\n",
       "      <th>Months Since Policy Inception</th>\n",
       "      <th>Number of Open Complaints</th>\n",
       "      <th>Number of Policies</th>\n",
       "      <th>Total Claim Amount</th>\n",
       "      <th>Engaged</th>\n",
       "    </tr>\n",
       "  </thead>\n",
       "  <tbody>\n",
       "    <tr>\n",
       "      <th>count</th>\n",
       "      <td>9134.000000</td>\n",
       "      <td>9134.000000</td>\n",
       "      <td>9134.000000</td>\n",
       "      <td>9134.000000</td>\n",
       "      <td>9134.000000</td>\n",
       "      <td>9134.000000</td>\n",
       "      <td>9134.000000</td>\n",
       "      <td>9134.000000</td>\n",
       "      <td>9134.000000</td>\n",
       "    </tr>\n",
       "    <tr>\n",
       "      <th>mean</th>\n",
       "      <td>8004.940475</td>\n",
       "      <td>37657.380009</td>\n",
       "      <td>93.219291</td>\n",
       "      <td>15.097000</td>\n",
       "      <td>48.064594</td>\n",
       "      <td>0.384388</td>\n",
       "      <td>2.966170</td>\n",
       "      <td>434.088794</td>\n",
       "      <td>0.143201</td>\n",
       "    </tr>\n",
       "    <tr>\n",
       "      <th>std</th>\n",
       "      <td>6870.967608</td>\n",
       "      <td>30379.904734</td>\n",
       "      <td>34.407967</td>\n",
       "      <td>10.073257</td>\n",
       "      <td>27.905991</td>\n",
       "      <td>0.910384</td>\n",
       "      <td>2.390182</td>\n",
       "      <td>290.500092</td>\n",
       "      <td>0.350297</td>\n",
       "    </tr>\n",
       "    <tr>\n",
       "      <th>min</th>\n",
       "      <td>1898.007675</td>\n",
       "      <td>0.000000</td>\n",
       "      <td>61.000000</td>\n",
       "      <td>0.000000</td>\n",
       "      <td>0.000000</td>\n",
       "      <td>0.000000</td>\n",
       "      <td>1.000000</td>\n",
       "      <td>0.099007</td>\n",
       "      <td>0.000000</td>\n",
       "    </tr>\n",
       "    <tr>\n",
       "      <th>25%</th>\n",
       "      <td>3994.251794</td>\n",
       "      <td>0.000000</td>\n",
       "      <td>68.000000</td>\n",
       "      <td>6.000000</td>\n",
       "      <td>24.000000</td>\n",
       "      <td>0.000000</td>\n",
       "      <td>1.000000</td>\n",
       "      <td>272.258244</td>\n",
       "      <td>0.000000</td>\n",
       "    </tr>\n",
       "    <tr>\n",
       "      <th>50%</th>\n",
       "      <td>5780.182197</td>\n",
       "      <td>33889.500000</td>\n",
       "      <td>83.000000</td>\n",
       "      <td>14.000000</td>\n",
       "      <td>48.000000</td>\n",
       "      <td>0.000000</td>\n",
       "      <td>2.000000</td>\n",
       "      <td>383.945434</td>\n",
       "      <td>0.000000</td>\n",
       "    </tr>\n",
       "    <tr>\n",
       "      <th>75%</th>\n",
       "      <td>8962.167041</td>\n",
       "      <td>62320.000000</td>\n",
       "      <td>109.000000</td>\n",
       "      <td>23.000000</td>\n",
       "      <td>71.000000</td>\n",
       "      <td>0.000000</td>\n",
       "      <td>4.000000</td>\n",
       "      <td>547.514839</td>\n",
       "      <td>0.000000</td>\n",
       "    </tr>\n",
       "    <tr>\n",
       "      <th>max</th>\n",
       "      <td>83325.381190</td>\n",
       "      <td>99981.000000</td>\n",
       "      <td>298.000000</td>\n",
       "      <td>35.000000</td>\n",
       "      <td>99.000000</td>\n",
       "      <td>5.000000</td>\n",
       "      <td>9.000000</td>\n",
       "      <td>2893.239678</td>\n",
       "      <td>1.000000</td>\n",
       "    </tr>\n",
       "  </tbody>\n",
       "</table>\n",
       "</div>"
      ],
      "text/plain": [
       "       Customer Lifetime Value        Income  Monthly Premium Auto  \\\n",
       "count              9134.000000   9134.000000           9134.000000   \n",
       "mean               8004.940475  37657.380009             93.219291   \n",
       "std                6870.967608  30379.904734             34.407967   \n",
       "min                1898.007675      0.000000             61.000000   \n",
       "25%                3994.251794      0.000000             68.000000   \n",
       "50%                5780.182197  33889.500000             83.000000   \n",
       "75%                8962.167041  62320.000000            109.000000   \n",
       "max               83325.381190  99981.000000            298.000000   \n",
       "\n",
       "       Months Since Last Claim  Months Since Policy Inception  \\\n",
       "count              9134.000000                    9134.000000   \n",
       "mean                 15.097000                      48.064594   \n",
       "std                  10.073257                      27.905991   \n",
       "min                   0.000000                       0.000000   \n",
       "25%                   6.000000                      24.000000   \n",
       "50%                  14.000000                      48.000000   \n",
       "75%                  23.000000                      71.000000   \n",
       "max                  35.000000                      99.000000   \n",
       "\n",
       "       Number of Open Complaints  Number of Policies  Total Claim Amount  \\\n",
       "count                9134.000000         9134.000000         9134.000000   \n",
       "mean                    0.384388            2.966170          434.088794   \n",
       "std                     0.910384            2.390182          290.500092   \n",
       "min                     0.000000            1.000000            0.099007   \n",
       "25%                     0.000000            1.000000          272.258244   \n",
       "50%                     0.000000            2.000000          383.945434   \n",
       "75%                     0.000000            4.000000          547.514839   \n",
       "max                     5.000000            9.000000         2893.239678   \n",
       "\n",
       "           Engaged  \n",
       "count  9134.000000  \n",
       "mean      0.143201  \n",
       "std       0.350297  \n",
       "min       0.000000  \n",
       "25%       0.000000  \n",
       "50%       0.000000  \n",
       "75%       0.000000  \n",
       "max       1.000000  "
      ]
     },
     "execution_count": 8,
     "metadata": {},
     "output_type": "execute_result"
    }
   ],
   "source": [
    "df.describe()"
   ]
  },
  {
   "cell_type": "code",
   "execution_count": 9,
   "metadata": {},
   "outputs": [],
   "source": [
    "continuous_features = [\n",
    "    'Customer Lifetime Value', 'Income', 'Monthly Premium Auto',\n",
    "    'Months Since Last Claim', 'Months Since Policy Inception',\n",
    "    'Number of Open Complaints', 'Number of Policies', 'Total Claim Amount'\n",
    "]"
   ]
  },
  {
   "cell_type": "markdown",
   "metadata": {},
   "source": [
    "#### - Creating Dummy Variables"
   ]
  },
  {
   "cell_type": "code",
   "execution_count": 10,
   "metadata": {},
   "outputs": [],
   "source": [
    "columns_to_encode = [\n",
    "    'Sales Channel', 'Vehicle Size', 'Vehicle Class', 'Policy', 'Policy Type', \n",
    "    'EmploymentStatus', 'Marital Status', 'Education', 'Coverage'\n",
    "]\n",
    "\n",
    "categorical_features = []\n",
    "for col in columns_to_encode:\n",
    "    encoded_df = pd.get_dummies(df[col])\n",
    "    encoded_df.columns = [col.replace(' ', '.') + '.' + x for x in encoded_df.columns]\n",
    "    \n",
    "    categorical_features += list(encoded_df.columns)\n",
    "    \n",
    "    df = pd.concat([df, encoded_df], axis=1)"
   ]
  },
  {
   "cell_type": "markdown",
   "metadata": {},
   "source": [
    "#### - Encoding Gender"
   ]
  },
  {
   "cell_type": "code",
   "execution_count": 11,
   "metadata": {},
   "outputs": [],
   "source": [
    "df['Is.Female'] = df['Gender'].apply(lambda x: 1 if x == 'F' else 0)\n",
    "\n",
    "categorical_features.append('Is.Female')"
   ]
  },
  {
   "cell_type": "markdown",
   "metadata": {},
   "source": [
    "#### - all features & response "
   ]
  },
  {
   "cell_type": "code",
   "execution_count": 12,
   "metadata": {},
   "outputs": [],
   "source": [
    "all_features = continuous_features + categorical_features\n",
    "response = 'Engaged'"
   ]
  },
  {
   "cell_type": "code",
   "execution_count": 13,
   "metadata": {},
   "outputs": [],
   "source": [
    "sample_df = df[all_features + [response]]\n",
    "sample_df.columns = [x.replace(' ', '.') for x in sample_df.columns]\n",
    "all_features = [x.replace(' ', '.') for x in all_features]"
   ]
  },
  {
   "cell_type": "code",
   "execution_count": 14,
   "metadata": {},
   "outputs": [
    {
     "data": {
      "text/html": [
       "<div>\n",
       "<style scoped>\n",
       "    .dataframe tbody tr th:only-of-type {\n",
       "        vertical-align: middle;\n",
       "    }\n",
       "\n",
       "    .dataframe tbody tr th {\n",
       "        vertical-align: top;\n",
       "    }\n",
       "\n",
       "    .dataframe thead th {\n",
       "        text-align: right;\n",
       "    }\n",
       "</style>\n",
       "<table border=\"1\" class=\"dataframe\">\n",
       "  <thead>\n",
       "    <tr style=\"text-align: right;\">\n",
       "      <th></th>\n",
       "      <th>Customer.Lifetime.Value</th>\n",
       "      <th>Income</th>\n",
       "      <th>Monthly.Premium.Auto</th>\n",
       "      <th>Months.Since.Last.Claim</th>\n",
       "      <th>Months.Since.Policy.Inception</th>\n",
       "      <th>Number.of.Open.Complaints</th>\n",
       "      <th>Number.of.Policies</th>\n",
       "      <th>Total.Claim.Amount</th>\n",
       "      <th>Sales.Channel.Agent</th>\n",
       "      <th>Sales.Channel.Branch</th>\n",
       "      <th>...</th>\n",
       "      <th>Education.Bachelor</th>\n",
       "      <th>Education.College</th>\n",
       "      <th>Education.Doctor</th>\n",
       "      <th>Education.High.School.or.Below</th>\n",
       "      <th>Education.Master</th>\n",
       "      <th>Coverage.Basic</th>\n",
       "      <th>Coverage.Extended</th>\n",
       "      <th>Coverage.Premium</th>\n",
       "      <th>Is.Female</th>\n",
       "      <th>Engaged</th>\n",
       "    </tr>\n",
       "  </thead>\n",
       "  <tbody>\n",
       "    <tr>\n",
       "      <th>0</th>\n",
       "      <td>2763.519279</td>\n",
       "      <td>56274</td>\n",
       "      <td>69</td>\n",
       "      <td>32</td>\n",
       "      <td>5</td>\n",
       "      <td>0</td>\n",
       "      <td>1</td>\n",
       "      <td>384.811147</td>\n",
       "      <td>1</td>\n",
       "      <td>0</td>\n",
       "      <td>...</td>\n",
       "      <td>1</td>\n",
       "      <td>0</td>\n",
       "      <td>0</td>\n",
       "      <td>0</td>\n",
       "      <td>0</td>\n",
       "      <td>1</td>\n",
       "      <td>0</td>\n",
       "      <td>0</td>\n",
       "      <td>1</td>\n",
       "      <td>0</td>\n",
       "    </tr>\n",
       "    <tr>\n",
       "      <th>1</th>\n",
       "      <td>6979.535903</td>\n",
       "      <td>0</td>\n",
       "      <td>94</td>\n",
       "      <td>13</td>\n",
       "      <td>42</td>\n",
       "      <td>0</td>\n",
       "      <td>8</td>\n",
       "      <td>1131.464935</td>\n",
       "      <td>1</td>\n",
       "      <td>0</td>\n",
       "      <td>...</td>\n",
       "      <td>1</td>\n",
       "      <td>0</td>\n",
       "      <td>0</td>\n",
       "      <td>0</td>\n",
       "      <td>0</td>\n",
       "      <td>0</td>\n",
       "      <td>1</td>\n",
       "      <td>0</td>\n",
       "      <td>1</td>\n",
       "      <td>0</td>\n",
       "    </tr>\n",
       "    <tr>\n",
       "      <th>2</th>\n",
       "      <td>12887.431650</td>\n",
       "      <td>48767</td>\n",
       "      <td>108</td>\n",
       "      <td>18</td>\n",
       "      <td>38</td>\n",
       "      <td>0</td>\n",
       "      <td>2</td>\n",
       "      <td>566.472247</td>\n",
       "      <td>1</td>\n",
       "      <td>0</td>\n",
       "      <td>...</td>\n",
       "      <td>1</td>\n",
       "      <td>0</td>\n",
       "      <td>0</td>\n",
       "      <td>0</td>\n",
       "      <td>0</td>\n",
       "      <td>0</td>\n",
       "      <td>0</td>\n",
       "      <td>1</td>\n",
       "      <td>1</td>\n",
       "      <td>0</td>\n",
       "    </tr>\n",
       "    <tr>\n",
       "      <th>3</th>\n",
       "      <td>7645.861827</td>\n",
       "      <td>0</td>\n",
       "      <td>106</td>\n",
       "      <td>18</td>\n",
       "      <td>65</td>\n",
       "      <td>0</td>\n",
       "      <td>7</td>\n",
       "      <td>529.881344</td>\n",
       "      <td>0</td>\n",
       "      <td>0</td>\n",
       "      <td>...</td>\n",
       "      <td>1</td>\n",
       "      <td>0</td>\n",
       "      <td>0</td>\n",
       "      <td>0</td>\n",
       "      <td>0</td>\n",
       "      <td>1</td>\n",
       "      <td>0</td>\n",
       "      <td>0</td>\n",
       "      <td>0</td>\n",
       "      <td>0</td>\n",
       "    </tr>\n",
       "    <tr>\n",
       "      <th>4</th>\n",
       "      <td>2813.692575</td>\n",
       "      <td>43836</td>\n",
       "      <td>73</td>\n",
       "      <td>12</td>\n",
       "      <td>44</td>\n",
       "      <td>0</td>\n",
       "      <td>1</td>\n",
       "      <td>138.130879</td>\n",
       "      <td>1</td>\n",
       "      <td>0</td>\n",
       "      <td>...</td>\n",
       "      <td>1</td>\n",
       "      <td>0</td>\n",
       "      <td>0</td>\n",
       "      <td>0</td>\n",
       "      <td>0</td>\n",
       "      <td>1</td>\n",
       "      <td>0</td>\n",
       "      <td>0</td>\n",
       "      <td>0</td>\n",
       "      <td>0</td>\n",
       "    </tr>\n",
       "  </tbody>\n",
       "</table>\n",
       "<p>5 rows × 51 columns</p>\n",
       "</div>"
      ],
      "text/plain": [
       "   Customer.Lifetime.Value  Income  Monthly.Premium.Auto  \\\n",
       "0              2763.519279   56274                    69   \n",
       "1              6979.535903       0                    94   \n",
       "2             12887.431650   48767                   108   \n",
       "3              7645.861827       0                   106   \n",
       "4              2813.692575   43836                    73   \n",
       "\n",
       "   Months.Since.Last.Claim  Months.Since.Policy.Inception  \\\n",
       "0                       32                              5   \n",
       "1                       13                             42   \n",
       "2                       18                             38   \n",
       "3                       18                             65   \n",
       "4                       12                             44   \n",
       "\n",
       "   Number.of.Open.Complaints  Number.of.Policies  Total.Claim.Amount  \\\n",
       "0                          0                   1          384.811147   \n",
       "1                          0                   8         1131.464935   \n",
       "2                          0                   2          566.472247   \n",
       "3                          0                   7          529.881344   \n",
       "4                          0                   1          138.130879   \n",
       "\n",
       "   Sales.Channel.Agent  Sales.Channel.Branch  ...  Education.Bachelor  \\\n",
       "0                    1                     0  ...                   1   \n",
       "1                    1                     0  ...                   1   \n",
       "2                    1                     0  ...                   1   \n",
       "3                    0                     0  ...                   1   \n",
       "4                    1                     0  ...                   1   \n",
       "\n",
       "   Education.College  Education.Doctor  Education.High.School.or.Below  \\\n",
       "0                  0                 0                               0   \n",
       "1                  0                 0                               0   \n",
       "2                  0                 0                               0   \n",
       "3                  0                 0                               0   \n",
       "4                  0                 0                               0   \n",
       "\n",
       "   Education.Master  Coverage.Basic  Coverage.Extended  Coverage.Premium  \\\n",
       "0                 0               1                  0                 0   \n",
       "1                 0               0                  1                 0   \n",
       "2                 0               0                  0                 1   \n",
       "3                 0               1                  0                 0   \n",
       "4                 0               1                  0                 0   \n",
       "\n",
       "   Is.Female  Engaged  \n",
       "0          1        0  \n",
       "1          1        0  \n",
       "2          1        0  \n",
       "3          0        0  \n",
       "4          0        0  \n",
       "\n",
       "[5 rows x 51 columns]"
      ]
     },
     "execution_count": 14,
     "metadata": {},
     "output_type": "execute_result"
    }
   ],
   "source": [
    "sample_df.head()"
   ]
  },
  {
   "cell_type": "markdown",
   "metadata": {},
   "source": [
    "# 3. Training & Testing"
   ]
  },
  {
   "cell_type": "code",
   "execution_count": 15,
   "metadata": {},
   "outputs": [],
   "source": [
    "from sklearn.model_selection import train_test_split"
   ]
  },
  {
   "cell_type": "code",
   "execution_count": 16,
   "metadata": {},
   "outputs": [],
   "source": [
    "x_train, x_test, y_train, y_test = train_test_split(sample_df[all_features], sample_df[response], test_size=0.3)"
   ]
  },
  {
   "cell_type": "code",
   "execution_count": 17,
   "metadata": {},
   "outputs": [
    {
     "data": {
      "text/plain": [
       "(9134, 51)"
      ]
     },
     "execution_count": 17,
     "metadata": {},
     "output_type": "execute_result"
    }
   ],
   "source": [
    "sample_df.shape"
   ]
  },
  {
   "cell_type": "code",
   "execution_count": 18,
   "metadata": {},
   "outputs": [
    {
     "data": {
      "text/plain": [
       "(6393, 50)"
      ]
     },
     "execution_count": 18,
     "metadata": {},
     "output_type": "execute_result"
    }
   ],
   "source": [
    "x_train.shape"
   ]
  },
  {
   "cell_type": "code",
   "execution_count": 19,
   "metadata": {},
   "outputs": [
    {
     "data": {
      "text/plain": [
       "(2741, 50)"
      ]
     },
     "execution_count": 19,
     "metadata": {},
     "output_type": "execute_result"
    }
   ],
   "source": [
    "x_test.shape"
   ]
  },
  {
   "cell_type": "markdown",
   "metadata": {},
   "source": [
    "## 3.1. Building RandomForest Model"
   ]
  },
  {
   "cell_type": "code",
   "execution_count": 20,
   "metadata": {},
   "outputs": [],
   "source": [
    "from sklearn.ensemble import RandomForestClassifier"
   ]
  },
  {
   "cell_type": "code",
   "execution_count": 21,
   "metadata": {},
   "outputs": [],
   "source": [
    "rf_model = RandomForestClassifier(\n",
    "    n_estimators=200,\n",
    "    max_depth=5\n",
    ")"
   ]
  },
  {
   "cell_type": "code",
   "execution_count": 22,
   "metadata": {},
   "outputs": [
    {
     "data": {
      "text/plain": [
       "RandomForestClassifier(max_depth=5, n_estimators=200)"
      ]
     },
     "execution_count": 22,
     "metadata": {},
     "output_type": "execute_result"
    }
   ],
   "source": [
    "rf_model.fit(X=x_train, y=y_train)"
   ]
  },
  {
   "cell_type": "markdown",
   "metadata": {},
   "source": [
    "#### - Individual Trees"
   ]
  },
  {
   "cell_type": "code",
   "execution_count": 23,
   "metadata": {
    "scrolled": true
   },
   "outputs": [
    {
     "data": {
      "text/plain": [
       "[DecisionTreeClassifier(max_depth=5, max_features='auto', random_state=783587958),\n",
       " DecisionTreeClassifier(max_depth=5, max_features='auto',\n",
       "                        random_state=1670659474),\n",
       " DecisionTreeClassifier(max_depth=5, max_features='auto',\n",
       "                        random_state=1689189667),\n",
       " DecisionTreeClassifier(max_depth=5, max_features='auto', random_state=270851345),\n",
       " DecisionTreeClassifier(max_depth=5, max_features='auto', random_state=477457498),\n",
       " DecisionTreeClassifier(max_depth=5, max_features='auto',\n",
       "                        random_state=1921378438),\n",
       " DecisionTreeClassifier(max_depth=5, max_features='auto',\n",
       "                        random_state=1436978065),\n",
       " DecisionTreeClassifier(max_depth=5, max_features='auto',\n",
       "                        random_state=1762543971),\n",
       " DecisionTreeClassifier(max_depth=5, max_features='auto',\n",
       "                        random_state=1446441039),\n",
       " DecisionTreeClassifier(max_depth=5, max_features='auto',\n",
       "                        random_state=2013729063),\n",
       " DecisionTreeClassifier(max_depth=5, max_features='auto', random_state=154947246),\n",
       " DecisionTreeClassifier(max_depth=5, max_features='auto', random_state=996482669),\n",
       " DecisionTreeClassifier(max_depth=5, max_features='auto', random_state=40506251),\n",
       " DecisionTreeClassifier(max_depth=5, max_features='auto', random_state=546867195),\n",
       " DecisionTreeClassifier(max_depth=5, max_features='auto', random_state=164309966),\n",
       " DecisionTreeClassifier(max_depth=5, max_features='auto', random_state=157149997),\n",
       " DecisionTreeClassifier(max_depth=5, max_features='auto', random_state=292375640),\n",
       " DecisionTreeClassifier(max_depth=5, max_features='auto',\n",
       "                        random_state=2137995393),\n",
       " DecisionTreeClassifier(max_depth=5, max_features='auto', random_state=551835837),\n",
       " DecisionTreeClassifier(max_depth=5, max_features='auto', random_state=161669721),\n",
       " DecisionTreeClassifier(max_depth=5, max_features='auto',\n",
       "                        random_state=1554287113),\n",
       " DecisionTreeClassifier(max_depth=5, max_features='auto',\n",
       "                        random_state=1401131290),\n",
       " DecisionTreeClassifier(max_depth=5, max_features='auto', random_state=683776446),\n",
       " DecisionTreeClassifier(max_depth=5, max_features='auto',\n",
       "                        random_state=1732901914),\n",
       " DecisionTreeClassifier(max_depth=5, max_features='auto', random_state=155909675),\n",
       " DecisionTreeClassifier(max_depth=5, max_features='auto', random_state=655418281),\n",
       " DecisionTreeClassifier(max_depth=5, max_features='auto', random_state=266296152),\n",
       " DecisionTreeClassifier(max_depth=5, max_features='auto',\n",
       "                        random_state=1976256975),\n",
       " DecisionTreeClassifier(max_depth=5, max_features='auto', random_state=737116089),\n",
       " DecisionTreeClassifier(max_depth=5, max_features='auto',\n",
       "                        random_state=1199599609),\n",
       " DecisionTreeClassifier(max_depth=5, max_features='auto', random_state=181472818),\n",
       " DecisionTreeClassifier(max_depth=5, max_features='auto',\n",
       "                        random_state=1105912145),\n",
       " DecisionTreeClassifier(max_depth=5, max_features='auto',\n",
       "                        random_state=1181979993),\n",
       " DecisionTreeClassifier(max_depth=5, max_features='auto', random_state=173713759),\n",
       " DecisionTreeClassifier(max_depth=5, max_features='auto', random_state=222294997),\n",
       " DecisionTreeClassifier(max_depth=5, max_features='auto',\n",
       "                        random_state=1851384105),\n",
       " DecisionTreeClassifier(max_depth=5, max_features='auto', random_state=580716159),\n",
       " DecisionTreeClassifier(max_depth=5, max_features='auto',\n",
       "                        random_state=1498950115),\n",
       " DecisionTreeClassifier(max_depth=5, max_features='auto',\n",
       "                        random_state=1410522973),\n",
       " DecisionTreeClassifier(max_depth=5, max_features='auto',\n",
       "                        random_state=1935211110),\n",
       " DecisionTreeClassifier(max_depth=5, max_features='auto',\n",
       "                        random_state=1502759012),\n",
       " DecisionTreeClassifier(max_depth=5, max_features='auto',\n",
       "                        random_state=1962840392),\n",
       " DecisionTreeClassifier(max_depth=5, max_features='auto', random_state=641776439),\n",
       " DecisionTreeClassifier(max_depth=5, max_features='auto',\n",
       "                        random_state=1777311485),\n",
       " DecisionTreeClassifier(max_depth=5, max_features='auto', random_state=146889395),\n",
       " DecisionTreeClassifier(max_depth=5, max_features='auto', random_state=503999159),\n",
       " DecisionTreeClassifier(max_depth=5, max_features='auto', random_state=247353903),\n",
       " DecisionTreeClassifier(max_depth=5, max_features='auto',\n",
       "                        random_state=1430822354),\n",
       " DecisionTreeClassifier(max_depth=5, max_features='auto',\n",
       "                        random_state=1363678657),\n",
       " DecisionTreeClassifier(max_depth=5, max_features='auto',\n",
       "                        random_state=1412538094),\n",
       " DecisionTreeClassifier(max_depth=5, max_features='auto',\n",
       "                        random_state=1566012791),\n",
       " DecisionTreeClassifier(max_depth=5, max_features='auto', random_state=60559812),\n",
       " DecisionTreeClassifier(max_depth=5, max_features='auto',\n",
       "                        random_state=1111198346),\n",
       " DecisionTreeClassifier(max_depth=5, max_features='auto', random_state=323596602),\n",
       " DecisionTreeClassifier(max_depth=5, max_features='auto',\n",
       "                        random_state=1515766016),\n",
       " DecisionTreeClassifier(max_depth=5, max_features='auto',\n",
       "                        random_state=1748672393),\n",
       " DecisionTreeClassifier(max_depth=5, max_features='auto',\n",
       "                        random_state=1429535073),\n",
       " DecisionTreeClassifier(max_depth=5, max_features='auto',\n",
       "                        random_state=2094804568),\n",
       " DecisionTreeClassifier(max_depth=5, max_features='auto',\n",
       "                        random_state=1846536054),\n",
       " DecisionTreeClassifier(max_depth=5, max_features='auto',\n",
       "                        random_state=1349133623),\n",
       " DecisionTreeClassifier(max_depth=5, max_features='auto', random_state=547806460),\n",
       " DecisionTreeClassifier(max_depth=5, max_features='auto', random_state=840971140),\n",
       " DecisionTreeClassifier(max_depth=5, max_features='auto', random_state=897599580),\n",
       " DecisionTreeClassifier(max_depth=5, max_features='auto',\n",
       "                        random_state=2069307359),\n",
       " DecisionTreeClassifier(max_depth=5, max_features='auto',\n",
       "                        random_state=1972151605),\n",
       " DecisionTreeClassifier(max_depth=5, max_features='auto',\n",
       "                        random_state=1362897144),\n",
       " DecisionTreeClassifier(max_depth=5, max_features='auto',\n",
       "                        random_state=1164155812),\n",
       " DecisionTreeClassifier(max_depth=5, max_features='auto', random_state=572451276),\n",
       " DecisionTreeClassifier(max_depth=5, max_features='auto', random_state=105874074),\n",
       " DecisionTreeClassifier(max_depth=5, max_features='auto',\n",
       "                        random_state=1318616287),\n",
       " DecisionTreeClassifier(max_depth=5, max_features='auto',\n",
       "                        random_state=1890139292),\n",
       " DecisionTreeClassifier(max_depth=5, max_features='auto', random_state=508681897),\n",
       " DecisionTreeClassifier(max_depth=5, max_features='auto',\n",
       "                        random_state=1107085968),\n",
       " DecisionTreeClassifier(max_depth=5, max_features='auto', random_state=435386680),\n",
       " DecisionTreeClassifier(max_depth=5, max_features='auto', random_state=195537549),\n",
       " DecisionTreeClassifier(max_depth=5, max_features='auto', random_state=333167732),\n",
       " DecisionTreeClassifier(max_depth=5, max_features='auto', random_state=265386235),\n",
       " DecisionTreeClassifier(max_depth=5, max_features='auto', random_state=596043799),\n",
       " DecisionTreeClassifier(max_depth=5, max_features='auto', random_state=540349067),\n",
       " DecisionTreeClassifier(max_depth=5, max_features='auto',\n",
       "                        random_state=1466040965),\n",
       " DecisionTreeClassifier(max_depth=5, max_features='auto',\n",
       "                        random_state=1754369992),\n",
       " DecisionTreeClassifier(max_depth=5, max_features='auto', random_state=862514581),\n",
       " DecisionTreeClassifier(max_depth=5, max_features='auto',\n",
       "                        random_state=1987848338),\n",
       " DecisionTreeClassifier(max_depth=5, max_features='auto', random_state=2911228),\n",
       " DecisionTreeClassifier(max_depth=5, max_features='auto', random_state=472902734),\n",
       " DecisionTreeClassifier(max_depth=5, max_features='auto', random_state=901391245),\n",
       " DecisionTreeClassifier(max_depth=5, max_features='auto',\n",
       "                        random_state=2063999917),\n",
       " DecisionTreeClassifier(max_depth=5, max_features='auto',\n",
       "                        random_state=2045313296),\n",
       " DecisionTreeClassifier(max_depth=5, max_features='auto',\n",
       "                        random_state=1885706693),\n",
       " DecisionTreeClassifier(max_depth=5, max_features='auto', random_state=507233883),\n",
       " DecisionTreeClassifier(max_depth=5, max_features='auto',\n",
       "                        random_state=1754102608),\n",
       " DecisionTreeClassifier(max_depth=5, max_features='auto', random_state=326238153),\n",
       " DecisionTreeClassifier(max_depth=5, max_features='auto', random_state=251266619),\n",
       " DecisionTreeClassifier(max_depth=5, max_features='auto', random_state=330240834),\n",
       " DecisionTreeClassifier(max_depth=5, max_features='auto', random_state=610869383),\n",
       " DecisionTreeClassifier(max_depth=5, max_features='auto',\n",
       "                        random_state=1998341400),\n",
       " DecisionTreeClassifier(max_depth=5, max_features='auto', random_state=639695804),\n",
       " DecisionTreeClassifier(max_depth=5, max_features='auto', random_state=602776046),\n",
       " DecisionTreeClassifier(max_depth=5, max_features='auto', random_state=765700936),\n",
       " DecisionTreeClassifier(max_depth=5, max_features='auto', random_state=281084114),\n",
       " DecisionTreeClassifier(max_depth=5, max_features='auto',\n",
       "                        random_state=1509767654),\n",
       " DecisionTreeClassifier(max_depth=5, max_features='auto',\n",
       "                        random_state=1187417007),\n",
       " DecisionTreeClassifier(max_depth=5, max_features='auto', random_state=154620970),\n",
       " DecisionTreeClassifier(max_depth=5, max_features='auto', random_state=717038701),\n",
       " DecisionTreeClassifier(max_depth=5, max_features='auto',\n",
       "                        random_state=1043135591),\n",
       " DecisionTreeClassifier(max_depth=5, max_features='auto',\n",
       "                        random_state=1649255216),\n",
       " DecisionTreeClassifier(max_depth=5, max_features='auto', random_state=974930095),\n",
       " DecisionTreeClassifier(max_depth=5, max_features='auto',\n",
       "                        random_state=1839302745),\n",
       " DecisionTreeClassifier(max_depth=5, max_features='auto',\n",
       "                        random_state=1423087038),\n",
       " DecisionTreeClassifier(max_depth=5, max_features='auto',\n",
       "                        random_state=1781230539),\n",
       " DecisionTreeClassifier(max_depth=5, max_features='auto',\n",
       "                        random_state=1876121143),\n",
       " DecisionTreeClassifier(max_depth=5, max_features='auto', random_state=784245876),\n",
       " DecisionTreeClassifier(max_depth=5, max_features='auto',\n",
       "                        random_state=1195495311),\n",
       " DecisionTreeClassifier(max_depth=5, max_features='auto',\n",
       "                        random_state=1958662582),\n",
       " DecisionTreeClassifier(max_depth=5, max_features='auto',\n",
       "                        random_state=2057156929),\n",
       " DecisionTreeClassifier(max_depth=5, max_features='auto', random_state=506515041),\n",
       " DecisionTreeClassifier(max_depth=5, max_features='auto',\n",
       "                        random_state=1345066949),\n",
       " DecisionTreeClassifier(max_depth=5, max_features='auto',\n",
       "                        random_state=1432541041),\n",
       " DecisionTreeClassifier(max_depth=5, max_features='auto', random_state=498944182),\n",
       " DecisionTreeClassifier(max_depth=5, max_features='auto', random_state=670990414),\n",
       " DecisionTreeClassifier(max_depth=5, max_features='auto',\n",
       "                        random_state=1148827947),\n",
       " DecisionTreeClassifier(max_depth=5, max_features='auto', random_state=291103822),\n",
       " DecisionTreeClassifier(max_depth=5, max_features='auto', random_state=319613352),\n",
       " DecisionTreeClassifier(max_depth=5, max_features='auto', random_state=145785761),\n",
       " DecisionTreeClassifier(max_depth=5, max_features='auto',\n",
       "                        random_state=1499019736),\n",
       " DecisionTreeClassifier(max_depth=5, max_features='auto',\n",
       "                        random_state=1809626339),\n",
       " DecisionTreeClassifier(max_depth=5, max_features='auto',\n",
       "                        random_state=2096745025),\n",
       " DecisionTreeClassifier(max_depth=5, max_features='auto',\n",
       "                        random_state=2136674853),\n",
       " DecisionTreeClassifier(max_depth=5, max_features='auto', random_state=952126450),\n",
       " DecisionTreeClassifier(max_depth=5, max_features='auto', random_state=195220406),\n",
       " DecisionTreeClassifier(max_depth=5, max_features='auto',\n",
       "                        random_state=1050433277),\n",
       " DecisionTreeClassifier(max_depth=5, max_features='auto',\n",
       "                        random_state=1475978003),\n",
       " DecisionTreeClassifier(max_depth=5, max_features='auto',\n",
       "                        random_state=1716121621),\n",
       " DecisionTreeClassifier(max_depth=5, max_features='auto',\n",
       "                        random_state=2030777530),\n",
       " DecisionTreeClassifier(max_depth=5, max_features='auto', random_state=855262572),\n",
       " DecisionTreeClassifier(max_depth=5, max_features='auto',\n",
       "                        random_state=2039520884),\n",
       " DecisionTreeClassifier(max_depth=5, max_features='auto',\n",
       "                        random_state=2038904064),\n",
       " DecisionTreeClassifier(max_depth=5, max_features='auto', random_state=64759692),\n",
       " DecisionTreeClassifier(max_depth=5, max_features='auto', random_state=905293138),\n",
       " DecisionTreeClassifier(max_depth=5, max_features='auto', random_state=114304744),\n",
       " DecisionTreeClassifier(max_depth=5, max_features='auto',\n",
       "                        random_state=1347706212),\n",
       " DecisionTreeClassifier(max_depth=5, max_features='auto',\n",
       "                        random_state=1047486352),\n",
       " DecisionTreeClassifier(max_depth=5, max_features='auto', random_state=338894622),\n",
       " DecisionTreeClassifier(max_depth=5, max_features='auto', random_state=999478099),\n",
       " DecisionTreeClassifier(max_depth=5, max_features='auto', random_state=417255168),\n",
       " DecisionTreeClassifier(max_depth=5, max_features='auto',\n",
       "                        random_state=1392283195),\n",
       " DecisionTreeClassifier(max_depth=5, max_features='auto',\n",
       "                        random_state=1456353390),\n",
       " DecisionTreeClassifier(max_depth=5, max_features='auto', random_state=266150615),\n",
       " DecisionTreeClassifier(max_depth=5, max_features='auto', random_state=936730516),\n",
       " DecisionTreeClassifier(max_depth=5, max_features='auto', random_state=108467086),\n",
       " DecisionTreeClassifier(max_depth=5, max_features='auto', random_state=587536194),\n",
       " DecisionTreeClassifier(max_depth=5, max_features='auto', random_state=762640336),\n",
       " DecisionTreeClassifier(max_depth=5, max_features='auto', random_state=89275622),\n",
       " DecisionTreeClassifier(max_depth=5, max_features='auto',\n",
       "                        random_state=1689123773),\n",
       " DecisionTreeClassifier(max_depth=5, max_features='auto', random_state=757357286),\n",
       " DecisionTreeClassifier(max_depth=5, max_features='auto', random_state=9008777),\n",
       " DecisionTreeClassifier(max_depth=5, max_features='auto',\n",
       "                        random_state=1347043898),\n",
       " DecisionTreeClassifier(max_depth=5, max_features='auto', random_state=219625972),\n",
       " DecisionTreeClassifier(max_depth=5, max_features='auto', random_state=903808743),\n",
       " DecisionTreeClassifier(max_depth=5, max_features='auto', random_state=510702996),\n",
       " DecisionTreeClassifier(max_depth=5, max_features='auto',\n",
       "                        random_state=1099604046),\n",
       " DecisionTreeClassifier(max_depth=5, max_features='auto',\n",
       "                        random_state=1802768374),\n",
       " DecisionTreeClassifier(max_depth=5, max_features='auto', random_state=994309692),\n",
       " DecisionTreeClassifier(max_depth=5, max_features='auto', random_state=412974794),\n",
       " DecisionTreeClassifier(max_depth=5, max_features='auto', random_state=531059918),\n",
       " DecisionTreeClassifier(max_depth=5, max_features='auto',\n",
       "                        random_state=1563897015),\n",
       " DecisionTreeClassifier(max_depth=5, max_features='auto',\n",
       "                        random_state=1848749324),\n",
       " DecisionTreeClassifier(max_depth=5, max_features='auto', random_state=860694353),\n",
       " DecisionTreeClassifier(max_depth=5, max_features='auto',\n",
       "                        random_state=1621859320),\n",
       " DecisionTreeClassifier(max_depth=5, max_features='auto',\n",
       "                        random_state=1832503660),\n",
       " DecisionTreeClassifier(max_depth=5, max_features='auto', random_state=138722860),\n",
       " DecisionTreeClassifier(max_depth=5, max_features='auto', random_state=96004062),\n",
       " DecisionTreeClassifier(max_depth=5, max_features='auto', random_state=903038231),\n",
       " DecisionTreeClassifier(max_depth=5, max_features='auto',\n",
       "                        random_state=1498271172),\n",
       " DecisionTreeClassifier(max_depth=5, max_features='auto',\n",
       "                        random_state=1321693926),\n",
       " DecisionTreeClassifier(max_depth=5, max_features='auto',\n",
       "                        random_state=1487647122),\n",
       " DecisionTreeClassifier(max_depth=5, max_features='auto', random_state=63426904),\n",
       " DecisionTreeClassifier(max_depth=5, max_features='auto', random_state=644802084),\n",
       " DecisionTreeClassifier(max_depth=5, max_features='auto', random_state=996820098),\n",
       " DecisionTreeClassifier(max_depth=5, max_features='auto',\n",
       "                        random_state=1769817952),\n",
       " DecisionTreeClassifier(max_depth=5, max_features='auto',\n",
       "                        random_state=1487493899),\n",
       " DecisionTreeClassifier(max_depth=5, max_features='auto', random_state=553950723),\n",
       " DecisionTreeClassifier(max_depth=5, max_features='auto', random_state=470205949),\n",
       " DecisionTreeClassifier(max_depth=5, max_features='auto',\n",
       "                        random_state=1850662845),\n",
       " DecisionTreeClassifier(max_depth=5, max_features='auto', random_state=210294417),\n",
       " DecisionTreeClassifier(max_depth=5, max_features='auto', random_state=178460521),\n",
       " DecisionTreeClassifier(max_depth=5, max_features='auto',\n",
       "                        random_state=1474896670),\n",
       " DecisionTreeClassifier(max_depth=5, max_features='auto',\n",
       "                        random_state=1654147917),\n",
       " DecisionTreeClassifier(max_depth=5, max_features='auto', random_state=656661165),\n",
       " DecisionTreeClassifier(max_depth=5, max_features='auto',\n",
       "                        random_state=1623846064),\n",
       " DecisionTreeClassifier(max_depth=5, max_features='auto',\n",
       "                        random_state=2091475985),\n",
       " DecisionTreeClassifier(max_depth=5, max_features='auto',\n",
       "                        random_state=1779157133),\n",
       " DecisionTreeClassifier(max_depth=5, max_features='auto',\n",
       "                        random_state=1257556701),\n",
       " DecisionTreeClassifier(max_depth=5, max_features='auto', random_state=468526621),\n",
       " DecisionTreeClassifier(max_depth=5, max_features='auto',\n",
       "                        random_state=1193194719),\n",
       " DecisionTreeClassifier(max_depth=5, max_features='auto',\n",
       "                        random_state=1204813360),\n",
       " DecisionTreeClassifier(max_depth=5, max_features='auto',\n",
       "                        random_state=1210129845),\n",
       " DecisionTreeClassifier(max_depth=5, max_features='auto', random_state=821391203),\n",
       " DecisionTreeClassifier(max_depth=5, max_features='auto',\n",
       "                        random_state=1881950738),\n",
       " DecisionTreeClassifier(max_depth=5, max_features='auto',\n",
       "                        random_state=1386812229)]"
      ]
     },
     "execution_count": 23,
     "metadata": {},
     "output_type": "execute_result"
    }
   ],
   "source": [
    "rf_model.estimators_"
   ]
  },
  {
   "cell_type": "code",
   "execution_count": 24,
   "metadata": {},
   "outputs": [
    {
     "data": {
      "text/plain": [
       "DecisionTreeClassifier(max_depth=5, max_features='auto', random_state=783587958)"
      ]
     },
     "execution_count": 24,
     "metadata": {},
     "output_type": "execute_result"
    }
   ],
   "source": [
    "rf_model.estimators_[0]"
   ]
  },
  {
   "cell_type": "code",
   "execution_count": 25,
   "metadata": {
    "scrolled": false
   },
   "outputs": [
    {
     "data": {
      "text/plain": [
       "array([0., 0., 0., 0., 0., 0., 0., 0., 0., 0.])"
      ]
     },
     "execution_count": 25,
     "metadata": {},
     "output_type": "execute_result"
    }
   ],
   "source": [
    "rf_model.estimators_[0].predict(x_test)[:10]"
   ]
  },
  {
   "cell_type": "code",
   "execution_count": 26,
   "metadata": {},
   "outputs": [
    {
     "data": {
      "text/plain": [
       "array([0., 0., 0., 0., 0., 0., 0., 0., 0., 0.])"
      ]
     },
     "execution_count": 26,
     "metadata": {},
     "output_type": "execute_result"
    }
   ],
   "source": [
    "rf_model.estimators_[1].predict(x_test)[:10]"
   ]
  },
  {
   "cell_type": "code",
   "execution_count": 27,
   "metadata": {},
   "outputs": [
    {
     "data": {
      "text/plain": [
       "array([0., 0., 0., 0., 0., 0., 0., 0., 0., 0.])"
      ]
     },
     "execution_count": 27,
     "metadata": {},
     "output_type": "execute_result"
    }
   ],
   "source": [
    "rf_model.estimators_[2].predict(x_test)[:10]"
   ]
  },
  {
   "cell_type": "code",
   "execution_count": 28,
   "metadata": {},
   "outputs": [
    {
     "data": {
      "text/plain": [
       "array([0., 0., 0., 0., 0., 0., 0., 0., 0., 0.])"
      ]
     },
     "execution_count": 28,
     "metadata": {},
     "output_type": "execute_result"
    }
   ],
   "source": [
    "rf_model.estimators_[3].predict(x_test)[:10]"
   ]
  },
  {
   "cell_type": "code",
   "execution_count": 29,
   "metadata": {},
   "outputs": [
    {
     "data": {
      "text/plain": [
       "array([0., 0., 0., 0., 0., 0., 0., 0., 0., 0.])"
      ]
     },
     "execution_count": 29,
     "metadata": {},
     "output_type": "execute_result"
    }
   ],
   "source": [
    "rf_model.estimators_[4].predict(x_test)[:10]"
   ]
  },
  {
   "cell_type": "markdown",
   "metadata": {},
   "source": [
    "#### - Feature Importances"
   ]
  },
  {
   "cell_type": "code",
   "execution_count": 30,
   "metadata": {},
   "outputs": [
    {
     "data": {
      "text/plain": [
       "array([0.05750132, 0.07689328, 0.04899783, 0.03249779, 0.04267353,\n",
       "       0.01121187, 0.02137097, 0.08138954, 0.04572633, 0.0078602 ,\n",
       "       0.00849909, 0.00477174, 0.0057143 , 0.00733308, 0.0096658 ,\n",
       "       0.00503785, 0.0004042 , 0.00362889, 0.00459152, 0.00671537,\n",
       "       0.00420173, 0.00103262, 0.00082313, 0.00050882, 0.00136238,\n",
       "       0.00174841, 0.00104059, 0.00046872, 0.00064535, 0.00156473,\n",
       "       0.001385  , 0.00092779, 0.00215831, 0.00413553, 0.03135513,\n",
       "       0.00659797, 0.31570707, 0.02430505, 0.03543281, 0.02008772,\n",
       "       0.01881092, 0.00262143, 0.00404087, 0.00547676, 0.00401421,\n",
       "       0.00703462, 0.00507808, 0.00526229, 0.00504234, 0.00464509])"
      ]
     },
     "execution_count": 30,
     "metadata": {},
     "output_type": "execute_result"
    }
   ],
   "source": [
    "rf_model.feature_importances_"
   ]
  },
  {
   "cell_type": "code",
   "execution_count": 31,
   "metadata": {
    "scrolled": true
   },
   "outputs": [
    {
     "data": {
      "text/html": [
       "<div>\n",
       "<style scoped>\n",
       "    .dataframe tbody tr th:only-of-type {\n",
       "        vertical-align: middle;\n",
       "    }\n",
       "\n",
       "    .dataframe tbody tr th {\n",
       "        vertical-align: top;\n",
       "    }\n",
       "\n",
       "    .dataframe thead th {\n",
       "        text-align: right;\n",
       "    }\n",
       "</style>\n",
       "<table border=\"1\" class=\"dataframe\">\n",
       "  <thead>\n",
       "    <tr style=\"text-align: right;\">\n",
       "      <th></th>\n",
       "      <th>feature.importance</th>\n",
       "      <th>feature</th>\n",
       "    </tr>\n",
       "  </thead>\n",
       "  <tbody>\n",
       "    <tr>\n",
       "      <th>36</th>\n",
       "      <td>0.315707</td>\n",
       "      <td>EmploymentStatus.Retired</td>\n",
       "    </tr>\n",
       "    <tr>\n",
       "      <th>7</th>\n",
       "      <td>0.081390</td>\n",
       "      <td>Total.Claim.Amount</td>\n",
       "    </tr>\n",
       "    <tr>\n",
       "      <th>1</th>\n",
       "      <td>0.076893</td>\n",
       "      <td>Income</td>\n",
       "    </tr>\n",
       "    <tr>\n",
       "      <th>0</th>\n",
       "      <td>0.057501</td>\n",
       "      <td>Customer.Lifetime.Value</td>\n",
       "    </tr>\n",
       "    <tr>\n",
       "      <th>2</th>\n",
       "      <td>0.048998</td>\n",
       "      <td>Monthly.Premium.Auto</td>\n",
       "    </tr>\n",
       "    <tr>\n",
       "      <th>8</th>\n",
       "      <td>0.045726</td>\n",
       "      <td>Sales.Channel.Agent</td>\n",
       "    </tr>\n",
       "    <tr>\n",
       "      <th>4</th>\n",
       "      <td>0.042674</td>\n",
       "      <td>Months.Since.Policy.Inception</td>\n",
       "    </tr>\n",
       "    <tr>\n",
       "      <th>38</th>\n",
       "      <td>0.035433</td>\n",
       "      <td>Marital.Status.Divorced</td>\n",
       "    </tr>\n",
       "    <tr>\n",
       "      <th>3</th>\n",
       "      <td>0.032498</td>\n",
       "      <td>Months.Since.Last.Claim</td>\n",
       "    </tr>\n",
       "    <tr>\n",
       "      <th>34</th>\n",
       "      <td>0.031355</td>\n",
       "      <td>EmploymentStatus.Employed</td>\n",
       "    </tr>\n",
       "    <tr>\n",
       "      <th>37</th>\n",
       "      <td>0.024305</td>\n",
       "      <td>EmploymentStatus.Unemployed</td>\n",
       "    </tr>\n",
       "    <tr>\n",
       "      <th>6</th>\n",
       "      <td>0.021371</td>\n",
       "      <td>Number.of.Policies</td>\n",
       "    </tr>\n",
       "    <tr>\n",
       "      <th>39</th>\n",
       "      <td>0.020088</td>\n",
       "      <td>Marital.Status.Married</td>\n",
       "    </tr>\n",
       "    <tr>\n",
       "      <th>40</th>\n",
       "      <td>0.018811</td>\n",
       "      <td>Marital.Status.Single</td>\n",
       "    </tr>\n",
       "    <tr>\n",
       "      <th>5</th>\n",
       "      <td>0.011212</td>\n",
       "      <td>Number.of.Open.Complaints</td>\n",
       "    </tr>\n",
       "    <tr>\n",
       "      <th>14</th>\n",
       "      <td>0.009666</td>\n",
       "      <td>Vehicle.Size.Small</td>\n",
       "    </tr>\n",
       "    <tr>\n",
       "      <th>10</th>\n",
       "      <td>0.008499</td>\n",
       "      <td>Sales.Channel.Call.Center</td>\n",
       "    </tr>\n",
       "    <tr>\n",
       "      <th>9</th>\n",
       "      <td>0.007860</td>\n",
       "      <td>Sales.Channel.Branch</td>\n",
       "    </tr>\n",
       "    <tr>\n",
       "      <th>13</th>\n",
       "      <td>0.007333</td>\n",
       "      <td>Vehicle.Size.Medsize</td>\n",
       "    </tr>\n",
       "    <tr>\n",
       "      <th>45</th>\n",
       "      <td>0.007035</td>\n",
       "      <td>Education.Master</td>\n",
       "    </tr>\n",
       "    <tr>\n",
       "      <th>19</th>\n",
       "      <td>0.006715</td>\n",
       "      <td>Vehicle.Class.Sports.Car</td>\n",
       "    </tr>\n",
       "    <tr>\n",
       "      <th>35</th>\n",
       "      <td>0.006598</td>\n",
       "      <td>EmploymentStatus.Medical.Leave</td>\n",
       "    </tr>\n",
       "    <tr>\n",
       "      <th>12</th>\n",
       "      <td>0.005714</td>\n",
       "      <td>Vehicle.Size.Large</td>\n",
       "    </tr>\n",
       "    <tr>\n",
       "      <th>43</th>\n",
       "      <td>0.005477</td>\n",
       "      <td>Education.Doctor</td>\n",
       "    </tr>\n",
       "    <tr>\n",
       "      <th>47</th>\n",
       "      <td>0.005262</td>\n",
       "      <td>Coverage.Extended</td>\n",
       "    </tr>\n",
       "    <tr>\n",
       "      <th>46</th>\n",
       "      <td>0.005078</td>\n",
       "      <td>Coverage.Basic</td>\n",
       "    </tr>\n",
       "    <tr>\n",
       "      <th>48</th>\n",
       "      <td>0.005042</td>\n",
       "      <td>Coverage.Premium</td>\n",
       "    </tr>\n",
       "    <tr>\n",
       "      <th>15</th>\n",
       "      <td>0.005038</td>\n",
       "      <td>Vehicle.Class.Four-Door.Car</td>\n",
       "    </tr>\n",
       "    <tr>\n",
       "      <th>11</th>\n",
       "      <td>0.004772</td>\n",
       "      <td>Sales.Channel.Web</td>\n",
       "    </tr>\n",
       "    <tr>\n",
       "      <th>49</th>\n",
       "      <td>0.004645</td>\n",
       "      <td>Is.Female</td>\n",
       "    </tr>\n",
       "    <tr>\n",
       "      <th>18</th>\n",
       "      <td>0.004592</td>\n",
       "      <td>Vehicle.Class.SUV</td>\n",
       "    </tr>\n",
       "    <tr>\n",
       "      <th>20</th>\n",
       "      <td>0.004202</td>\n",
       "      <td>Vehicle.Class.Two-Door.Car</td>\n",
       "    </tr>\n",
       "    <tr>\n",
       "      <th>33</th>\n",
       "      <td>0.004136</td>\n",
       "      <td>EmploymentStatus.Disabled</td>\n",
       "    </tr>\n",
       "    <tr>\n",
       "      <th>42</th>\n",
       "      <td>0.004041</td>\n",
       "      <td>Education.College</td>\n",
       "    </tr>\n",
       "    <tr>\n",
       "      <th>44</th>\n",
       "      <td>0.004014</td>\n",
       "      <td>Education.High.School.or.Below</td>\n",
       "    </tr>\n",
       "    <tr>\n",
       "      <th>17</th>\n",
       "      <td>0.003629</td>\n",
       "      <td>Vehicle.Class.Luxury.SUV</td>\n",
       "    </tr>\n",
       "    <tr>\n",
       "      <th>41</th>\n",
       "      <td>0.002621</td>\n",
       "      <td>Education.Bachelor</td>\n",
       "    </tr>\n",
       "    <tr>\n",
       "      <th>32</th>\n",
       "      <td>0.002158</td>\n",
       "      <td>Policy.Type.Special.Auto</td>\n",
       "    </tr>\n",
       "    <tr>\n",
       "      <th>25</th>\n",
       "      <td>0.001748</td>\n",
       "      <td>Policy.Personal.L2</td>\n",
       "    </tr>\n",
       "    <tr>\n",
       "      <th>29</th>\n",
       "      <td>0.001565</td>\n",
       "      <td>Policy.Special.L3</td>\n",
       "    </tr>\n",
       "    <tr>\n",
       "      <th>30</th>\n",
       "      <td>0.001385</td>\n",
       "      <td>Policy.Type.Corporate.Auto</td>\n",
       "    </tr>\n",
       "    <tr>\n",
       "      <th>24</th>\n",
       "      <td>0.001362</td>\n",
       "      <td>Policy.Personal.L1</td>\n",
       "    </tr>\n",
       "    <tr>\n",
       "      <th>26</th>\n",
       "      <td>0.001041</td>\n",
       "      <td>Policy.Personal.L3</td>\n",
       "    </tr>\n",
       "    <tr>\n",
       "      <th>21</th>\n",
       "      <td>0.001033</td>\n",
       "      <td>Policy.Corporate.L1</td>\n",
       "    </tr>\n",
       "    <tr>\n",
       "      <th>31</th>\n",
       "      <td>0.000928</td>\n",
       "      <td>Policy.Type.Personal.Auto</td>\n",
       "    </tr>\n",
       "    <tr>\n",
       "      <th>22</th>\n",
       "      <td>0.000823</td>\n",
       "      <td>Policy.Corporate.L2</td>\n",
       "    </tr>\n",
       "    <tr>\n",
       "      <th>28</th>\n",
       "      <td>0.000645</td>\n",
       "      <td>Policy.Special.L2</td>\n",
       "    </tr>\n",
       "    <tr>\n",
       "      <th>23</th>\n",
       "      <td>0.000509</td>\n",
       "      <td>Policy.Corporate.L3</td>\n",
       "    </tr>\n",
       "    <tr>\n",
       "      <th>27</th>\n",
       "      <td>0.000469</td>\n",
       "      <td>Policy.Special.L1</td>\n",
       "    </tr>\n",
       "    <tr>\n",
       "      <th>16</th>\n",
       "      <td>0.000404</td>\n",
       "      <td>Vehicle.Class.Luxury.Car</td>\n",
       "    </tr>\n",
       "  </tbody>\n",
       "</table>\n",
       "</div>"
      ],
      "text/plain": [
       "    feature.importance                         feature\n",
       "36            0.315707        EmploymentStatus.Retired\n",
       "7             0.081390              Total.Claim.Amount\n",
       "1             0.076893                          Income\n",
       "0             0.057501         Customer.Lifetime.Value\n",
       "2             0.048998            Monthly.Premium.Auto\n",
       "8             0.045726             Sales.Channel.Agent\n",
       "4             0.042674   Months.Since.Policy.Inception\n",
       "38            0.035433         Marital.Status.Divorced\n",
       "3             0.032498         Months.Since.Last.Claim\n",
       "34            0.031355       EmploymentStatus.Employed\n",
       "37            0.024305     EmploymentStatus.Unemployed\n",
       "6             0.021371              Number.of.Policies\n",
       "39            0.020088          Marital.Status.Married\n",
       "40            0.018811           Marital.Status.Single\n",
       "5             0.011212       Number.of.Open.Complaints\n",
       "14            0.009666              Vehicle.Size.Small\n",
       "10            0.008499       Sales.Channel.Call.Center\n",
       "9             0.007860            Sales.Channel.Branch\n",
       "13            0.007333            Vehicle.Size.Medsize\n",
       "45            0.007035                Education.Master\n",
       "19            0.006715        Vehicle.Class.Sports.Car\n",
       "35            0.006598  EmploymentStatus.Medical.Leave\n",
       "12            0.005714              Vehicle.Size.Large\n",
       "43            0.005477                Education.Doctor\n",
       "47            0.005262               Coverage.Extended\n",
       "46            0.005078                  Coverage.Basic\n",
       "48            0.005042                Coverage.Premium\n",
       "15            0.005038     Vehicle.Class.Four-Door.Car\n",
       "11            0.004772               Sales.Channel.Web\n",
       "49            0.004645                       Is.Female\n",
       "18            0.004592               Vehicle.Class.SUV\n",
       "20            0.004202      Vehicle.Class.Two-Door.Car\n",
       "33            0.004136       EmploymentStatus.Disabled\n",
       "42            0.004041               Education.College\n",
       "44            0.004014  Education.High.School.or.Below\n",
       "17            0.003629        Vehicle.Class.Luxury.SUV\n",
       "41            0.002621              Education.Bachelor\n",
       "32            0.002158        Policy.Type.Special.Auto\n",
       "25            0.001748              Policy.Personal.L2\n",
       "29            0.001565               Policy.Special.L3\n",
       "30            0.001385      Policy.Type.Corporate.Auto\n",
       "24            0.001362              Policy.Personal.L1\n",
       "26            0.001041              Policy.Personal.L3\n",
       "21            0.001033             Policy.Corporate.L1\n",
       "31            0.000928       Policy.Type.Personal.Auto\n",
       "22            0.000823             Policy.Corporate.L2\n",
       "28            0.000645               Policy.Special.L2\n",
       "23            0.000509             Policy.Corporate.L3\n",
       "27            0.000469               Policy.Special.L1\n",
       "16            0.000404        Vehicle.Class.Luxury.Car"
      ]
     },
     "execution_count": 31,
     "metadata": {},
     "output_type": "execute_result"
    }
   ],
   "source": [
    "feature_importance_df = pd.DataFrame(list(zip(rf_model.feature_importances_, all_features)))\n",
    "feature_importance_df.columns = ['feature.importance', 'feature']\n",
    "\n",
    "feature_importance_df.sort_values(by='feature.importance', ascending=False)"
   ]
  },
  {
   "cell_type": "markdown",
   "metadata": {},
   "source": [
    "## 3.2. Evaluating Models"
   ]
  },
  {
   "cell_type": "markdown",
   "metadata": {},
   "source": [
    "#### - Accuracy, Precision, and Recall"
   ]
  },
  {
   "cell_type": "code",
   "execution_count": 32,
   "metadata": {},
   "outputs": [],
   "source": [
    "from sklearn.metrics import accuracy_score, precision_score, recall_score"
   ]
  },
  {
   "cell_type": "code",
   "execution_count": 33,
   "metadata": {},
   "outputs": [],
   "source": [
    "in_sample_preds = rf_model.predict(x_train)\n",
    "out_sample_preds = rf_model.predict(x_test)"
   ]
  },
  {
   "cell_type": "code",
   "execution_count": 34,
   "metadata": {},
   "outputs": [
    {
     "name": "stdout",
     "output_type": "stream",
     "text": [
      "In-Sample Accuracy: 0.8756\n",
      "Out-of-Sample Accuracy: 0.8796\n"
     ]
    }
   ],
   "source": [
    "print('In-Sample Accuracy: %0.4f' % accuracy_score(y_train, in_sample_preds))\n",
    "print('Out-of-Sample Accuracy: %0.4f' % accuracy_score(y_test, out_sample_preds))"
   ]
  },
  {
   "cell_type": "code",
   "execution_count": 35,
   "metadata": {},
   "outputs": [
    {
     "name": "stdout",
     "output_type": "stream",
     "text": [
      "In-Sample Precision: 0.9539\n",
      "Out-of-Sample Precision: 0.8689\n"
     ]
    }
   ],
   "source": [
    "print('In-Sample Precision: %0.4f' % precision_score(y_train, in_sample_preds))\n",
    "print('Out-of-Sample Precision: %0.4f' % precision_score(y_test, out_sample_preds))"
   ]
  },
  {
   "cell_type": "code",
   "execution_count": 36,
   "metadata": {},
   "outputs": [
    {
     "name": "stdout",
     "output_type": "stream",
     "text": [
      "In-Sample Recall: 0.1554\n",
      "Out-of-Sample Recall: 0.1413\n"
     ]
    }
   ],
   "source": [
    "print('In-Sample Recall: %0.4f' % recall_score(y_train, in_sample_preds))\n",
    "print('Out-of-Sample Recall: %0.4f' % recall_score(y_test, out_sample_preds))"
   ]
  },
  {
   "cell_type": "markdown",
   "metadata": {},
   "source": [
    "#### - ROC & AUC"
   ]
  },
  {
   "cell_type": "code",
   "execution_count": 37,
   "metadata": {},
   "outputs": [],
   "source": [
    "from sklearn.metrics import roc_curve, auc"
   ]
  },
  {
   "cell_type": "code",
   "execution_count": 38,
   "metadata": {},
   "outputs": [],
   "source": [
    "in_sample_preds = rf_model.predict_proba(x_train)[:,1]\n",
    "out_sample_preds = rf_model.predict_proba(x_test)[:,1]"
   ]
  },
  {
   "cell_type": "code",
   "execution_count": 39,
   "metadata": {},
   "outputs": [],
   "source": [
    "in_sample_fpr, in_sample_tpr, in_sample_thresholds = roc_curve(y_train, in_sample_preds)\n",
    "out_sample_fpr, out_sample_tpr, out_sample_thresholds = roc_curve(y_test, out_sample_preds)"
   ]
  },
  {
   "cell_type": "code",
   "execution_count": 40,
   "metadata": {},
   "outputs": [
    {
     "name": "stdout",
     "output_type": "stream",
     "text": [
      "In-Sample AUC: 0.8917\n",
      "Out-Sample AUC: 0.8315\n"
     ]
    }
   ],
   "source": [
    "in_sample_roc_auc = auc(in_sample_fpr, in_sample_tpr)\n",
    "out_sample_roc_auc = auc(out_sample_fpr, out_sample_tpr)\n",
    "\n",
    "print('In-Sample AUC: %0.4f' % in_sample_roc_auc)\n",
    "print('Out-Sample AUC: %0.4f' % out_sample_roc_auc)"
   ]
  },
  {
   "cell_type": "code",
   "execution_count": 41,
   "metadata": {},
   "outputs": [
    {
     "data": {
      "image/png": "[encoded data removed]",
      "text/plain": [
       "<Figure size 720x504 with 1 Axes>"
      ]
     },
     "metadata": {
      "needs_background": "light"
     },
     "output_type": "display_data"
    }
   ],
   "source": [
    "plt.figure(figsize=(10,7))\n",
    "\n",
    "plt.plot(\n",
    "    out_sample_fpr, out_sample_tpr, color='darkorange', label='Out-Sample ROC curve (area = %0.4f)' % in_sample_roc_auc\n",
    ")\n",
    "plt.plot(\n",
    "    in_sample_fpr, in_sample_tpr, color='navy', label='In-Sample ROC curve (area = %0.4f)' % out_sample_roc_auc\n",
    ")\n",
    "plt.plot([0, 1], [0, 1], color='gray', lw=1, linestyle='--')\n",
    "plt.grid()\n",
    "plt.xlim([0.0, 1.0])\n",
    "plt.ylim([0.0, 1.05])\n",
    "plt.xlabel('False Positive Rate')\n",
    "plt.ylabel('True Positive Rate')\n",
    "plt.title('RandomForest Model ROC Curve')\n",
    "plt.legend(loc=\"lower right\")\n",
    "\n",
    "plt.show()"
   ]
  }
 ],
 "metadata": {
  "kernelspec": {
   "display_name": "Python 3",
   "language": "python",
   "name": "python3"
  },
  "language_info": {
   "codemirror_mode": {
    "name": "ipython",
    "version": 3
   },
   "file_extension": ".py",
   "mimetype": "text/x-python",
   "name": "python",
   "nbconvert_exporter": "python",
   "pygments_lexer": "ipython3",
   "version": "3.7.9"
  }
 },
 "nbformat": 4,
 "nbformat_minor": 2
}
