{
 "cells": [
  {
   "cell_type": "code",
   "execution_count": 1,
   "metadata": {},
   "outputs": [],
   "source": [
    "%matplotlib inline"
   ]
  },
  {
   "cell_type": "code",
   "execution_count": 2,
   "metadata": {},
   "outputs": [],
   "source": [
    "import matplotlib.pyplot as plt\n",
    "import pandas as pd"
   ]
  },
  {
   "cell_type": "markdown",
   "metadata": {},
   "source": [
    "# 1. Load Data"
   ]
  },
  {
   "cell_type": "code",
   "execution_count": 3,
   "metadata": {},
   "outputs": [],
   "source": [
    "#this step may take a few minutes to run\n",
    "df = pd.read_excel(io='../data/Online Retail.xlsx', sheet_name='Online Retail', engine='openpyxl') #engine required modification"
   ]
  },
  {
   "cell_type": "code",
   "execution_count": 4,
   "metadata": {},
   "outputs": [
    {
     "data": {
      "text/plain": [
       "(541909, 8)"
      ]
     },
     "execution_count": 4,
     "metadata": {},
     "output_type": "execute_result"
    }
   ],
   "source": [
    "df.shape"
   ]
  },
  {
   "cell_type": "code",
   "execution_count": 5,
   "metadata": {},
   "outputs": [
    {
     "data": {
      "text/html": [
       "<div>\n",
       "<style scoped>\n",
       "    .dataframe tbody tr th:only-of-type {\n",
       "        vertical-align: middle;\n",
       "    }\n",
       "\n",
       "    .dataframe tbody tr th {\n",
       "        vertical-align: top;\n",
       "    }\n",
       "\n",
       "    .dataframe thead th {\n",
       "        text-align: right;\n",
       "    }\n",
       "</style>\n",
       "<table border=\"1\" class=\"dataframe\">\n",
       "  <thead>\n",
       "    <tr style=\"text-align: right;\">\n",
       "      <th></th>\n",
       "      <th>InvoiceNo</th>\n",
       "      <th>StockCode</th>\n",
       "      <th>Description</th>\n",
       "      <th>Quantity</th>\n",
       "      <th>InvoiceDate</th>\n",
       "      <th>UnitPrice</th>\n",
       "      <th>CustomerID</th>\n",
       "      <th>Country</th>\n",
       "    </tr>\n",
       "  </thead>\n",
       "  <tbody>\n",
       "    <tr>\n",
       "      <th>0</th>\n",
       "      <td>536365</td>\n",
       "      <td>85123A</td>\n",
       "      <td>WHITE HANGING HEART T-LIGHT HOLDER</td>\n",
       "      <td>6</td>\n",
       "      <td>2010-12-01 08:26:00</td>\n",
       "      <td>2.55</td>\n",
       "      <td>17850.0</td>\n",
       "      <td>United Kingdom</td>\n",
       "    </tr>\n",
       "    <tr>\n",
       "      <th>1</th>\n",
       "      <td>536365</td>\n",
       "      <td>71053</td>\n",
       "      <td>WHITE METAL LANTERN</td>\n",
       "      <td>6</td>\n",
       "      <td>2010-12-01 08:26:00</td>\n",
       "      <td>3.39</td>\n",
       "      <td>17850.0</td>\n",
       "      <td>United Kingdom</td>\n",
       "    </tr>\n",
       "    <tr>\n",
       "      <th>2</th>\n",
       "      <td>536365</td>\n",
       "      <td>84406B</td>\n",
       "      <td>CREAM CUPID HEARTS COAT HANGER</td>\n",
       "      <td>8</td>\n",
       "      <td>2010-12-01 08:26:00</td>\n",
       "      <td>2.75</td>\n",
       "      <td>17850.0</td>\n",
       "      <td>United Kingdom</td>\n",
       "    </tr>\n",
       "    <tr>\n",
       "      <th>3</th>\n",
       "      <td>536365</td>\n",
       "      <td>84029G</td>\n",
       "      <td>KNITTED UNION FLAG HOT WATER BOTTLE</td>\n",
       "      <td>6</td>\n",
       "      <td>2010-12-01 08:26:00</td>\n",
       "      <td>3.39</td>\n",
       "      <td>17850.0</td>\n",
       "      <td>United Kingdom</td>\n",
       "    </tr>\n",
       "    <tr>\n",
       "      <th>4</th>\n",
       "      <td>536365</td>\n",
       "      <td>84029E</td>\n",
       "      <td>RED WOOLLY HOTTIE WHITE HEART.</td>\n",
       "      <td>6</td>\n",
       "      <td>2010-12-01 08:26:00</td>\n",
       "      <td>3.39</td>\n",
       "      <td>17850.0</td>\n",
       "      <td>United Kingdom</td>\n",
       "    </tr>\n",
       "  </tbody>\n",
       "</table>\n",
       "</div>"
      ],
      "text/plain": [
       "  InvoiceNo StockCode                          Description  Quantity  \\\n",
       "0    536365    85123A   WHITE HANGING HEART T-LIGHT HOLDER         6   \n",
       "1    536365     71053                  WHITE METAL LANTERN         6   \n",
       "2    536365    84406B       CREAM CUPID HEARTS COAT HANGER         8   \n",
       "3    536365    84029G  KNITTED UNION FLAG HOT WATER BOTTLE         6   \n",
       "4    536365    84029E       RED WOOLLY HOTTIE WHITE HEART.         6   \n",
       "\n",
       "          InvoiceDate  UnitPrice  CustomerID         Country  \n",
       "0 2010-12-01 08:26:00       2.55     17850.0  United Kingdom  \n",
       "1 2010-12-01 08:26:00       3.39     17850.0  United Kingdom  \n",
       "2 2010-12-01 08:26:00       2.75     17850.0  United Kingdom  \n",
       "3 2010-12-01 08:26:00       3.39     17850.0  United Kingdom  \n",
       "4 2010-12-01 08:26:00       3.39     17850.0  United Kingdom  "
      ]
     },
     "execution_count": 5,
     "metadata": {},
     "output_type": "execute_result"
    }
   ],
   "source": [
    "df.head()"
   ]
  },
  {
   "cell_type": "markdown",
   "metadata": {},
   "source": [
    "# 2. Product Analytics"
   ]
  },
  {
   "cell_type": "markdown",
   "metadata": {},
   "source": [
    "#### - Quantity Distribution"
   ]
  },
  {
   "cell_type": "code",
   "execution_count": 6,
   "metadata": {},
   "outputs": [
    {
     "data": {
      "image/png": "[encoded data removed]",
      "text/plain": [
       "<Figure size 720x504 with 1 Axes>"
      ]
     },
     "metadata": {
      "needs_background": "light"
     },
     "output_type": "display_data"
    }
   ],
   "source": [
    "ax = df['Quantity'].plot.box(\n",
    "    showfliers=False,\n",
    "    grid=True,\n",
    "    figsize=(10, 7)\n",
    ")\n",
    "\n",
    "ax.set_ylabel('Order Quantity')\n",
    "ax.set_title('Quantity Distribution')\n",
    "\n",
    "plt.suptitle(\"\")\n",
    "plt.show()"
   ]
  },
  {
   "cell_type": "code",
   "execution_count": 7,
   "metadata": {},
   "outputs": [
    {
     "data": {
      "text/html": [
       "<div>\n",
       "<style scoped>\n",
       "    .dataframe tbody tr th:only-of-type {\n",
       "        vertical-align: middle;\n",
       "    }\n",
       "\n",
       "    .dataframe tbody tr th {\n",
       "        vertical-align: top;\n",
       "    }\n",
       "\n",
       "    .dataframe thead th {\n",
       "        text-align: right;\n",
       "    }\n",
       "</style>\n",
       "<table border=\"1\" class=\"dataframe\">\n",
       "  <thead>\n",
       "    <tr style=\"text-align: right;\">\n",
       "      <th></th>\n",
       "      <th>Quantity</th>\n",
       "    </tr>\n",
       "  </thead>\n",
       "  <tbody>\n",
       "    <tr>\n",
       "      <th>count</th>\n",
       "      <td>541909.000000</td>\n",
       "    </tr>\n",
       "    <tr>\n",
       "      <th>mean</th>\n",
       "      <td>9.552250</td>\n",
       "    </tr>\n",
       "    <tr>\n",
       "      <th>std</th>\n",
       "      <td>218.081158</td>\n",
       "    </tr>\n",
       "    <tr>\n",
       "      <th>min</th>\n",
       "      <td>-80995.000000</td>\n",
       "    </tr>\n",
       "    <tr>\n",
       "      <th>25%</th>\n",
       "      <td>1.000000</td>\n",
       "    </tr>\n",
       "    <tr>\n",
       "      <th>50%</th>\n",
       "      <td>3.000000</td>\n",
       "    </tr>\n",
       "    <tr>\n",
       "      <th>75%</th>\n",
       "      <td>10.000000</td>\n",
       "    </tr>\n",
       "    <tr>\n",
       "      <th>max</th>\n",
       "      <td>80995.000000</td>\n",
       "    </tr>\n",
       "  </tbody>\n",
       "</table>\n",
       "</div>"
      ],
      "text/plain": [
       "            Quantity\n",
       "count  541909.000000\n",
       "mean        9.552250\n",
       "std       218.081158\n",
       "min    -80995.000000\n",
       "25%         1.000000\n",
       "50%         3.000000\n",
       "75%        10.000000\n",
       "max     80995.000000"
      ]
     },
     "execution_count": 7,
     "metadata": {},
     "output_type": "execute_result"
    }
   ],
   "source": [
    "pd.DataFrame(df['Quantity'].describe())"
   ]
  },
  {
   "cell_type": "code",
   "execution_count": 8,
   "metadata": {},
   "outputs": [
    {
     "data": {
      "text/plain": [
       "(531285, 8)"
      ]
     },
     "execution_count": 8,
     "metadata": {},
     "output_type": "execute_result"
    }
   ],
   "source": [
    "df.loc[df['Quantity'] > 0].shape"
   ]
  },
  {
   "cell_type": "code",
   "execution_count": 9,
   "metadata": {},
   "outputs": [
    {
     "data": {
      "text/plain": [
       "(541909, 8)"
      ]
     },
     "execution_count": 9,
     "metadata": {},
     "output_type": "execute_result"
    }
   ],
   "source": [
    "df.shape"
   ]
  },
  {
   "cell_type": "code",
   "execution_count": 10,
   "metadata": {},
   "outputs": [],
   "source": [
    "df = df.loc[df['Quantity'] > 0]"
   ]
  },
  {
   "cell_type": "markdown",
   "metadata": {},
   "source": [
    "#### - Time-series Number of Orders"
   ]
  },
  {
   "cell_type": "code",
   "execution_count": 11,
   "metadata": {},
   "outputs": [],
   "source": [
    "monthly_orders_df = df.set_index('InvoiceDate')['InvoiceNo'].resample('M').nunique()"
   ]
  },
  {
   "cell_type": "code",
   "execution_count": 12,
   "metadata": {},
   "outputs": [
    {
     "data": {
      "text/plain": [
       "InvoiceDate\n",
       "2010-12-31    1629\n",
       "2011-01-31    1120\n",
       "2011-02-28    1126\n",
       "2011-03-31    1531\n",
       "2011-04-30    1318\n",
       "2011-05-31    1731\n",
       "2011-06-30    1576\n",
       "2011-07-31    1540\n",
       "2011-08-31    1409\n",
       "2011-09-30    1896\n",
       "2011-10-31    2129\n",
       "2011-11-30    2884\n",
       "2011-12-31     839\n",
       "Freq: M, Name: InvoiceNo, dtype: int64"
      ]
     },
     "execution_count": 12,
     "metadata": {},
     "output_type": "execute_result"
    }
   ],
   "source": [
    "monthly_orders_df"
   ]
  },
  {
   "cell_type": "code",
   "execution_count": 13,
   "metadata": {},
   "outputs": [
    {
     "data": {
      "image/png": "[encoded data removed]",
      "text/plain": [
       "<Figure size 720x504 with 1 Axes>"
      ]
     },
     "metadata": {
      "needs_background": "light"
     },
     "output_type": "display_data"
    }
   ],
   "source": [
    "ax = pd.DataFrame(monthly_orders_df.values).plot(\n",
    "    grid=True,\n",
    "    figsize=(10,7),\n",
    "    legend=False\n",
    ")\n",
    "\n",
    "ax.set_xlabel('date')\n",
    "ax.set_ylabel('number of orders/invoices')\n",
    "ax.set_title('Total Number of Orders Over Time')\n",
    "\n",
    "plt.xticks(\n",
    "    range(len(monthly_orders_df.index)), \n",
    "    [x.strftime('%m.%Y') for x in monthly_orders_df.index], \n",
    "    rotation=45\n",
    ")\n",
    "\n",
    "plt.show()"
   ]
  },
  {
   "cell_type": "code",
   "execution_count": 14,
   "metadata": {},
   "outputs": [],
   "source": [
    "invoice_dates = df.loc[\n",
    "    df['InvoiceDate'] >= '2011-12-01',\n",
    "    'InvoiceDate'\n",
    "]"
   ]
  },
  {
   "cell_type": "code",
   "execution_count": 15,
   "metadata": {},
   "outputs": [
    {
     "name": "stdout",
     "output_type": "stream",
     "text": [
      "Min date: 2011-12-01 08:33:00\n",
      "Max date: 2011-12-09 12:50:00\n"
     ]
    }
   ],
   "source": [
    "print('Min date: %s\\nMax date: %s' % (invoice_dates.min(), invoice_dates.max()))"
   ]
  },
  {
   "cell_type": "code",
   "execution_count": 16,
   "metadata": {},
   "outputs": [
    {
     "data": {
      "text/plain": [
       "(506150, 8)"
      ]
     },
     "execution_count": 16,
     "metadata": {},
     "output_type": "execute_result"
    }
   ],
   "source": [
    "df.loc[df['InvoiceDate'] < '2011-12-01'].shape"
   ]
  },
  {
   "cell_type": "code",
   "execution_count": 17,
   "metadata": {},
   "outputs": [
    {
     "data": {
      "text/plain": [
       "(531285, 8)"
      ]
     },
     "execution_count": 17,
     "metadata": {},
     "output_type": "execute_result"
    }
   ],
   "source": [
    "df.shape"
   ]
  },
  {
   "cell_type": "code",
   "execution_count": 18,
   "metadata": {},
   "outputs": [],
   "source": [
    "df = df.loc[df['InvoiceDate'] < '2011-12-01']"
   ]
  },
  {
   "cell_type": "code",
   "execution_count": 19,
   "metadata": {},
   "outputs": [],
   "source": [
    "monthly_orders_df = df.set_index('InvoiceDate')['InvoiceNo'].resample('M').nunique()"
   ]
  },
  {
   "cell_type": "code",
   "execution_count": 20,
   "metadata": {},
   "outputs": [
    {
     "data": {
      "text/plain": [
       "InvoiceDate\n",
       "2010-12-31    1629\n",
       "2011-01-31    1120\n",
       "2011-02-28    1126\n",
       "2011-03-31    1531\n",
       "2011-04-30    1318\n",
       "2011-05-31    1731\n",
       "2011-06-30    1576\n",
       "2011-07-31    1540\n",
       "2011-08-31    1409\n",
       "2011-09-30    1896\n",
       "2011-10-31    2129\n",
       "2011-11-30    2884\n",
       "Freq: M, Name: InvoiceNo, dtype: int64"
      ]
     },
     "execution_count": 20,
     "metadata": {},
     "output_type": "execute_result"
    }
   ],
   "source": [
    "monthly_orders_df"
   ]
  },
  {
   "cell_type": "code",
   "execution_count": 21,
   "metadata": {},
   "outputs": [
    {
     "data": {
      "image/png": "[encoded data removed]",
      "text/plain": [
       "<Figure size 720x504 with 1 Axes>"
      ]
     },
     "metadata": {
      "needs_background": "light"
     },
     "output_type": "display_data"
    }
   ],
   "source": [
    "ax = pd.DataFrame(monthly_orders_df.values).plot(\n",
    "    grid=True,\n",
    "    figsize=(10,7),\n",
    "    legend=False\n",
    ")\n",
    "\n",
    "ax.set_xlabel('date')\n",
    "ax.set_ylabel('number of orders')\n",
    "ax.set_title('Total Number of Orders Over Time')\n",
    "\n",
    "ax.set_ylim([0, max(monthly_orders_df.values)+500])\n",
    "\n",
    "plt.xticks(\n",
    "    range(len(monthly_orders_df.index)), \n",
    "    [x.strftime('%m.%Y') for x in monthly_orders_df.index], \n",
    "    rotation=45\n",
    ")\n",
    "\n",
    "plt.show()"
   ]
  },
  {
   "cell_type": "markdown",
   "metadata": {},
   "source": [
    "#### - Time-series Revenue"
   ]
  },
  {
   "cell_type": "code",
   "execution_count": 22,
   "metadata": {},
   "outputs": [],
   "source": [
    "df['Sales'] = df['Quantity'] * df['UnitPrice']"
   ]
  },
  {
   "cell_type": "code",
   "execution_count": 23,
   "metadata": {},
   "outputs": [],
   "source": [
    "monthly_revenue_df = df.set_index('InvoiceDate')['Sales'].resample('M').sum()"
   ]
  },
  {
   "cell_type": "code",
   "execution_count": 24,
   "metadata": {},
   "outputs": [
    {
     "data": {
      "text/plain": [
       "InvoiceDate\n",
       "2010-12-31     823746.140\n",
       "2011-01-31     691364.560\n",
       "2011-02-28     523631.890\n",
       "2011-03-31     717639.360\n",
       "2011-04-30     537808.621\n",
       "2011-05-31     770536.020\n",
       "2011-06-30     761739.900\n",
       "2011-07-31     719221.191\n",
       "2011-08-31     737014.260\n",
       "2011-09-30    1058590.172\n",
       "2011-10-31    1154979.300\n",
       "2011-11-30    1509496.330\n",
       "Freq: M, Name: Sales, dtype: float64"
      ]
     },
     "execution_count": 24,
     "metadata": {},
     "output_type": "execute_result"
    }
   ],
   "source": [
    "monthly_revenue_df"
   ]
  },
  {
   "cell_type": "code",
   "execution_count": 25,
   "metadata": {},
   "outputs": [
    {
     "data": {
      "image/png": "[encoded data removed]",
      "text/plain": [
       "<Figure size 720x504 with 1 Axes>"
      ]
     },
     "metadata": {
      "needs_background": "light"
     },
     "output_type": "display_data"
    }
   ],
   "source": [
    "ax = pd.DataFrame(monthly_revenue_df.values).plot(\n",
    "    grid=True,\n",
    "    figsize=(10,7),\n",
    "    legend=False\n",
    ")\n",
    "\n",
    "ax.set_xlabel('date')\n",
    "ax.set_ylabel('sales')\n",
    "ax.set_title('Total Revenue Over Time')\n",
    "\n",
    "ax.set_ylim([0, max(monthly_revenue_df.values)+100000])\n",
    "\n",
    "plt.xticks(\n",
    "    range(len(monthly_revenue_df.index)), \n",
    "    [x.strftime('%m.%Y') for x in monthly_revenue_df.index], \n",
    "    rotation=45\n",
    ")\n",
    "\n",
    "plt.show()"
   ]
  },
  {
   "cell_type": "markdown",
   "metadata": {},
   "source": [
    "#### - Time-series Repeat Customers"
   ]
  },
  {
   "cell_type": "code",
   "execution_count": 26,
   "metadata": {},
   "outputs": [
    {
     "data": {
      "text/html": [
       "<div>\n",
       "<style scoped>\n",
       "    .dataframe tbody tr th:only-of-type {\n",
       "        vertical-align: middle;\n",
       "    }\n",
       "\n",
       "    .dataframe tbody tr th {\n",
       "        vertical-align: top;\n",
       "    }\n",
       "\n",
       "    .dataframe thead th {\n",
       "        text-align: right;\n",
       "    }\n",
       "</style>\n",
       "<table border=\"1\" class=\"dataframe\">\n",
       "  <thead>\n",
       "    <tr style=\"text-align: right;\">\n",
       "      <th></th>\n",
       "      <th>InvoiceNo</th>\n",
       "      <th>StockCode</th>\n",
       "      <th>Description</th>\n",
       "      <th>Quantity</th>\n",
       "      <th>InvoiceDate</th>\n",
       "      <th>UnitPrice</th>\n",
       "      <th>CustomerID</th>\n",
       "      <th>Country</th>\n",
       "      <th>Sales</th>\n",
       "    </tr>\n",
       "  </thead>\n",
       "  <tbody>\n",
       "    <tr>\n",
       "      <th>0</th>\n",
       "      <td>536365</td>\n",
       "      <td>85123A</td>\n",
       "      <td>WHITE HANGING HEART T-LIGHT HOLDER</td>\n",
       "      <td>6</td>\n",
       "      <td>2010-12-01 08:26:00</td>\n",
       "      <td>2.55</td>\n",
       "      <td>17850.0</td>\n",
       "      <td>United Kingdom</td>\n",
       "      <td>15.30</td>\n",
       "    </tr>\n",
       "    <tr>\n",
       "      <th>1</th>\n",
       "      <td>536365</td>\n",
       "      <td>71053</td>\n",
       "      <td>WHITE METAL LANTERN</td>\n",
       "      <td>6</td>\n",
       "      <td>2010-12-01 08:26:00</td>\n",
       "      <td>3.39</td>\n",
       "      <td>17850.0</td>\n",
       "      <td>United Kingdom</td>\n",
       "      <td>20.34</td>\n",
       "    </tr>\n",
       "    <tr>\n",
       "      <th>2</th>\n",
       "      <td>536365</td>\n",
       "      <td>84406B</td>\n",
       "      <td>CREAM CUPID HEARTS COAT HANGER</td>\n",
       "      <td>8</td>\n",
       "      <td>2010-12-01 08:26:00</td>\n",
       "      <td>2.75</td>\n",
       "      <td>17850.0</td>\n",
       "      <td>United Kingdom</td>\n",
       "      <td>22.00</td>\n",
       "    </tr>\n",
       "    <tr>\n",
       "      <th>3</th>\n",
       "      <td>536365</td>\n",
       "      <td>84029G</td>\n",
       "      <td>KNITTED UNION FLAG HOT WATER BOTTLE</td>\n",
       "      <td>6</td>\n",
       "      <td>2010-12-01 08:26:00</td>\n",
       "      <td>3.39</td>\n",
       "      <td>17850.0</td>\n",
       "      <td>United Kingdom</td>\n",
       "      <td>20.34</td>\n",
       "    </tr>\n",
       "    <tr>\n",
       "      <th>4</th>\n",
       "      <td>536365</td>\n",
       "      <td>84029E</td>\n",
       "      <td>RED WOOLLY HOTTIE WHITE HEART.</td>\n",
       "      <td>6</td>\n",
       "      <td>2010-12-01 08:26:00</td>\n",
       "      <td>3.39</td>\n",
       "      <td>17850.0</td>\n",
       "      <td>United Kingdom</td>\n",
       "      <td>20.34</td>\n",
       "    </tr>\n",
       "  </tbody>\n",
       "</table>\n",
       "</div>"
      ],
      "text/plain": [
       "  InvoiceNo StockCode                          Description  Quantity  \\\n",
       "0    536365    85123A   WHITE HANGING HEART T-LIGHT HOLDER         6   \n",
       "1    536365     71053                  WHITE METAL LANTERN         6   \n",
       "2    536365    84406B       CREAM CUPID HEARTS COAT HANGER         8   \n",
       "3    536365    84029G  KNITTED UNION FLAG HOT WATER BOTTLE         6   \n",
       "4    536365    84029E       RED WOOLLY HOTTIE WHITE HEART.         6   \n",
       "\n",
       "          InvoiceDate  UnitPrice  CustomerID         Country  Sales  \n",
       "0 2010-12-01 08:26:00       2.55     17850.0  United Kingdom  15.30  \n",
       "1 2010-12-01 08:26:00       3.39     17850.0  United Kingdom  20.34  \n",
       "2 2010-12-01 08:26:00       2.75     17850.0  United Kingdom  22.00  \n",
       "3 2010-12-01 08:26:00       3.39     17850.0  United Kingdom  20.34  \n",
       "4 2010-12-01 08:26:00       3.39     17850.0  United Kingdom  20.34  "
      ]
     },
     "execution_count": 26,
     "metadata": {},
     "output_type": "execute_result"
    }
   ],
   "source": [
    "df.head()"
   ]
  },
  {
   "cell_type": "code",
   "execution_count": 27,
   "metadata": {
    "scrolled": true
   },
   "outputs": [],
   "source": [
    "invoice_customer_df = df.groupby(\n",
    "    by=['InvoiceNo', 'InvoiceDate']\n",
    ").agg({\n",
    "    'Sales': sum,\n",
    "    'CustomerID': max,\n",
    "    'Country': max,\n",
    "}).reset_index()"
   ]
  },
  {
   "cell_type": "code",
   "execution_count": 28,
   "metadata": {},
   "outputs": [
    {
     "data": {
      "text/html": [
       "<div>\n",
       "<style scoped>\n",
       "    .dataframe tbody tr th:only-of-type {\n",
       "        vertical-align: middle;\n",
       "    }\n",
       "\n",
       "    .dataframe tbody tr th {\n",
       "        vertical-align: top;\n",
       "    }\n",
       "\n",
       "    .dataframe thead th {\n",
       "        text-align: right;\n",
       "    }\n",
       "</style>\n",
       "<table border=\"1\" class=\"dataframe\">\n",
       "  <thead>\n",
       "    <tr style=\"text-align: right;\">\n",
       "      <th></th>\n",
       "      <th>InvoiceNo</th>\n",
       "      <th>InvoiceDate</th>\n",
       "      <th>Sales</th>\n",
       "      <th>CustomerID</th>\n",
       "      <th>Country</th>\n",
       "    </tr>\n",
       "  </thead>\n",
       "  <tbody>\n",
       "    <tr>\n",
       "      <th>0</th>\n",
       "      <td>536365</td>\n",
       "      <td>2010-12-01 08:26:00</td>\n",
       "      <td>139.12</td>\n",
       "      <td>17850.0</td>\n",
       "      <td>United Kingdom</td>\n",
       "    </tr>\n",
       "    <tr>\n",
       "      <th>1</th>\n",
       "      <td>536366</td>\n",
       "      <td>2010-12-01 08:28:00</td>\n",
       "      <td>22.20</td>\n",
       "      <td>17850.0</td>\n",
       "      <td>United Kingdom</td>\n",
       "    </tr>\n",
       "    <tr>\n",
       "      <th>2</th>\n",
       "      <td>536367</td>\n",
       "      <td>2010-12-01 08:34:00</td>\n",
       "      <td>278.73</td>\n",
       "      <td>13047.0</td>\n",
       "      <td>United Kingdom</td>\n",
       "    </tr>\n",
       "    <tr>\n",
       "      <th>3</th>\n",
       "      <td>536368</td>\n",
       "      <td>2010-12-01 08:34:00</td>\n",
       "      <td>70.05</td>\n",
       "      <td>13047.0</td>\n",
       "      <td>United Kingdom</td>\n",
       "    </tr>\n",
       "    <tr>\n",
       "      <th>4</th>\n",
       "      <td>536369</td>\n",
       "      <td>2010-12-01 08:35:00</td>\n",
       "      <td>17.85</td>\n",
       "      <td>13047.0</td>\n",
       "      <td>United Kingdom</td>\n",
       "    </tr>\n",
       "  </tbody>\n",
       "</table>\n",
       "</div>"
      ],
      "text/plain": [
       "  InvoiceNo         InvoiceDate   Sales  CustomerID         Country\n",
       "0    536365 2010-12-01 08:26:00  139.12     17850.0  United Kingdom\n",
       "1    536366 2010-12-01 08:28:00   22.20     17850.0  United Kingdom\n",
       "2    536367 2010-12-01 08:34:00  278.73     13047.0  United Kingdom\n",
       "3    536368 2010-12-01 08:34:00   70.05     13047.0  United Kingdom\n",
       "4    536369 2010-12-01 08:35:00   17.85     13047.0  United Kingdom"
      ]
     },
     "execution_count": 28,
     "metadata": {},
     "output_type": "execute_result"
    }
   ],
   "source": [
    "invoice_customer_df.head()"
   ]
  },
  {
   "cell_type": "code",
   "execution_count": 29,
   "metadata": {
    "scrolled": true
   },
   "outputs": [],
   "source": [
    "monthly_repeat_customers_df = invoice_customer_df.set_index('InvoiceDate').groupby([\n",
    "    pd.Grouper(freq='M'), 'CustomerID'\n",
    "]).filter(lambda x: len(x) > 1).resample('M').nunique()['CustomerID']"
   ]
  },
  {
   "cell_type": "code",
   "execution_count": 30,
   "metadata": {},
   "outputs": [
    {
     "data": {
      "text/plain": [
       "InvoiceDate\n",
       "2010-12-31    263\n",
       "2011-01-31    153\n",
       "2011-02-28    153\n",
       "2011-03-31    203\n",
       "2011-04-30    170\n",
       "2011-05-31    281\n",
       "2011-06-30    220\n",
       "2011-07-31    227\n",
       "2011-08-31    198\n",
       "2011-09-30    272\n",
       "2011-10-31    324\n",
       "2011-11-30    541\n",
       "Freq: M, Name: CustomerID, dtype: int64"
      ]
     },
     "execution_count": 30,
     "metadata": {},
     "output_type": "execute_result"
    }
   ],
   "source": [
    "monthly_repeat_customers_df"
   ]
  },
  {
   "cell_type": "code",
   "execution_count": 31,
   "metadata": {},
   "outputs": [],
   "source": [
    "monthly_unique_customers_df = df.set_index('InvoiceDate')['CustomerID'].resample('M').nunique()"
   ]
  },
  {
   "cell_type": "code",
   "execution_count": 32,
   "metadata": {},
   "outputs": [
    {
     "data": {
      "text/plain": [
       "InvoiceDate\n",
       "2010-12-31     885\n",
       "2011-01-31     741\n",
       "2011-02-28     758\n",
       "2011-03-31     974\n",
       "2011-04-30     856\n",
       "2011-05-31    1056\n",
       "2011-06-30     991\n",
       "2011-07-31     949\n",
       "2011-08-31     935\n",
       "2011-09-30    1266\n",
       "2011-10-31    1364\n",
       "2011-11-30    1665\n",
       "Freq: M, Name: CustomerID, dtype: int64"
      ]
     },
     "execution_count": 32,
     "metadata": {},
     "output_type": "execute_result"
    }
   ],
   "source": [
    "monthly_unique_customers_df"
   ]
  },
  {
   "cell_type": "code",
   "execution_count": 33,
   "metadata": {},
   "outputs": [
    {
     "data": {
      "text/plain": [
       "InvoiceDate\n",
       "2010-12-31    29.717514\n",
       "2011-01-31    20.647773\n",
       "2011-02-28    20.184697\n",
       "2011-03-31    20.841889\n",
       "2011-04-30    19.859813\n",
       "2011-05-31    26.609848\n",
       "2011-06-30    22.199798\n",
       "2011-07-31    23.919916\n",
       "2011-08-31    21.176471\n",
       "2011-09-30    21.484992\n",
       "2011-10-31    23.753666\n",
       "2011-11-30    32.492492\n",
       "Freq: M, Name: CustomerID, dtype: float64"
      ]
     },
     "execution_count": 33,
     "metadata": {},
     "output_type": "execute_result"
    }
   ],
   "source": [
    "monthly_repeat_percentage = monthly_repeat_customers_df/monthly_unique_customers_df*100.0\n",
    "monthly_repeat_percentage"
   ]
  },
  {
   "cell_type": "code",
   "execution_count": 34,
   "metadata": {},
   "outputs": [
    {
     "data": {
      "image/png": "[encoded data removed]",
      "text/plain": [
       "<Figure size 720x504 with 2 Axes>"
      ]
     },
     "metadata": {
      "needs_background": "light"
     },
     "output_type": "display_data"
    }
   ],
   "source": [
    "ax = pd.DataFrame(monthly_repeat_customers_df.values).plot(\n",
    "    figsize=(10,7)\n",
    ")\n",
    "\n",
    "pd.DataFrame(monthly_unique_customers_df.values).plot(\n",
    "    ax=ax,\n",
    "    grid=True\n",
    ")\n",
    "\n",
    "\n",
    "ax2 = pd.DataFrame(monthly_repeat_percentage.values).plot.bar(\n",
    "    ax=ax,\n",
    "    grid=True,\n",
    "    secondary_y=True,\n",
    "    color='green',\n",
    "    alpha=0.2\n",
    ")\n",
    "\n",
    "ax.set_xlabel('date')\n",
    "ax.set_ylabel('number of customers')\n",
    "ax.set_title('Number of All vs. Repeat Customers Over Time')\n",
    "\n",
    "ax2.set_ylabel('percentage (%)')\n",
    "\n",
    "ax.legend(['Repeat Customers', 'All Customers'])\n",
    "ax2.legend(['Percentage of Repeat'], loc='upper right')\n",
    "\n",
    "ax.set_ylim([0, monthly_unique_customers_df.values.max()+100])\n",
    "ax2.set_ylim([0, 100])\n",
    "\n",
    "plt.xticks(\n",
    "    range(len(monthly_repeat_customers_df.index)), \n",
    "    [x.strftime('%m.%Y') for x in monthly_repeat_customers_df.index], \n",
    "    rotation=45\n",
    ")\n",
    "\n",
    "plt.show()"
   ]
  },
  {
   "cell_type": "markdown",
   "metadata": {},
   "source": [
    "#### - Revenue from Repeat Customers"
   ]
  },
  {
   "cell_type": "code",
   "execution_count": 35,
   "metadata": {},
   "outputs": [],
   "source": [
    "monthly_rev_repeat_customers_df = invoice_customer_df.set_index('InvoiceDate').groupby([\n",
    "    pd.Grouper(freq='M'), 'CustomerID'\n",
    "]).filter(lambda x: len(x) > 1).resample('M').sum()['Sales']"
   ]
  },
  {
   "cell_type": "code",
   "execution_count": 36,
   "metadata": {},
   "outputs": [],
   "source": [
    "monthly_rev_perc_repeat_customers_df = monthly_rev_repeat_customers_df/monthly_revenue_df * 100.0"
   ]
  },
  {
   "cell_type": "code",
   "execution_count": 37,
   "metadata": {},
   "outputs": [
    {
     "data": {
      "text/plain": [
       "InvoiceDate\n",
       "2010-12-31    359170.60\n",
       "2011-01-31    222124.00\n",
       "2011-02-28    191229.37\n",
       "2011-03-31    267390.48\n",
       "2011-04-30    195474.18\n",
       "2011-05-31    378197.04\n",
       "2011-06-30    376307.26\n",
       "2011-07-31    317475.00\n",
       "2011-08-31    317134.25\n",
       "2011-09-30    500663.36\n",
       "2011-10-31    574006.87\n",
       "2011-11-30    713775.85\n",
       "Freq: M, Name: Sales, dtype: float64"
      ]
     },
     "execution_count": 37,
     "metadata": {},
     "output_type": "execute_result"
    }
   ],
   "source": [
    "monthly_rev_repeat_customers_df"
   ]
  },
  {
   "cell_type": "code",
   "execution_count": 38,
   "metadata": {},
   "outputs": [
    {
     "data": {
      "image/png": "[encoded data removed]",
      "text/plain": [
       "<Figure size 864x648 with 2 Axes>"
      ]
     },
     "metadata": {
      "needs_background": "light"
     },
     "output_type": "display_data"
    }
   ],
   "source": [
    "ax = pd.DataFrame(monthly_revenue_df.values).plot(figsize=(12,9))\n",
    "\n",
    "pd.DataFrame(monthly_rev_repeat_customers_df.values).plot(\n",
    "    ax=ax,\n",
    "    grid=True,\n",
    ")\n",
    "\n",
    "ax.set_xlabel('date')\n",
    "ax.set_ylabel('sales')\n",
    "ax.set_title('Total Revenue vs. Revenue from Repeat Customers')\n",
    "\n",
    "ax.legend(['Total Revenue', 'Repeat Customer Revenue'])\n",
    "\n",
    "ax.set_ylim([0, max(monthly_revenue_df.values)+100000])\n",
    "\n",
    "ax2 = ax.twinx()\n",
    "\n",
    "pd.DataFrame(monthly_rev_perc_repeat_customers_df.values).plot(\n",
    "    ax=ax2,\n",
    "    kind='bar',\n",
    "    color='g',\n",
    "    alpha=0.2\n",
    ")\n",
    "\n",
    "ax2.set_ylim([0, max(monthly_rev_perc_repeat_customers_df.values)+30])\n",
    "ax2.set_ylabel('percentage (%)')\n",
    "ax2.legend(['Repeat Revenue Percentage'])\n",
    "\n",
    "ax2.set_xticklabels([\n",
    "    x.strftime('%m.%Y') for x in monthly_rev_perc_repeat_customers_df.index\n",
    "])\n",
    "\n",
    "plt.show()"
   ]
  },
  {
   "cell_type": "markdown",
   "metadata": {},
   "source": [
    "#### - Popular Items Over Time"
   ]
  },
  {
   "cell_type": "code",
   "execution_count": 39,
   "metadata": {
    "scrolled": true
   },
   "outputs": [
    {
     "data": {
      "text/html": [
       "<div>\n",
       "<style scoped>\n",
       "    .dataframe tbody tr th:only-of-type {\n",
       "        vertical-align: middle;\n",
       "    }\n",
       "\n",
       "    .dataframe tbody tr th {\n",
       "        vertical-align: top;\n",
       "    }\n",
       "\n",
       "    .dataframe thead th {\n",
       "        text-align: right;\n",
       "    }\n",
       "</style>\n",
       "<table border=\"1\" class=\"dataframe\">\n",
       "  <thead>\n",
       "    <tr style=\"text-align: right;\">\n",
       "      <th></th>\n",
       "      <th></th>\n",
       "      <th>Quantity</th>\n",
       "    </tr>\n",
       "    <tr>\n",
       "      <th>InvoiceDate</th>\n",
       "      <th>StockCode</th>\n",
       "      <th></th>\n",
       "    </tr>\n",
       "  </thead>\n",
       "  <tbody>\n",
       "    <tr>\n",
       "      <th rowspan=\"5\" valign=\"top\">2010-12-31</th>\n",
       "      <th>10002</th>\n",
       "      <td>251</td>\n",
       "    </tr>\n",
       "    <tr>\n",
       "      <th>10120</th>\n",
       "      <td>16</td>\n",
       "    </tr>\n",
       "    <tr>\n",
       "      <th>10125</th>\n",
       "      <td>154</td>\n",
       "    </tr>\n",
       "    <tr>\n",
       "      <th>10133</th>\n",
       "      <td>130</td>\n",
       "    </tr>\n",
       "    <tr>\n",
       "      <th>10135</th>\n",
       "      <td>411</td>\n",
       "    </tr>\n",
       "    <tr>\n",
       "      <th>...</th>\n",
       "      <th>...</th>\n",
       "      <td>...</td>\n",
       "    </tr>\n",
       "    <tr>\n",
       "      <th rowspan=\"5\" valign=\"top\">2011-11-30</th>\n",
       "      <th>C2</th>\n",
       "      <td>173</td>\n",
       "    </tr>\n",
       "    <tr>\n",
       "      <th>DCGSSGIRL</th>\n",
       "      <td>1</td>\n",
       "    </tr>\n",
       "    <tr>\n",
       "      <th>DOT</th>\n",
       "      <td>47</td>\n",
       "    </tr>\n",
       "    <tr>\n",
       "      <th>M</th>\n",
       "      <td>3894</td>\n",
       "    </tr>\n",
       "    <tr>\n",
       "      <th>POST</th>\n",
       "      <td>1262</td>\n",
       "    </tr>\n",
       "  </tbody>\n",
       "</table>\n",
       "<p>31701 rows × 1 columns</p>\n",
       "</div>"
      ],
      "text/plain": [
       "                       Quantity\n",
       "InvoiceDate StockCode          \n",
       "2010-12-31  10002           251\n",
       "            10120            16\n",
       "            10125           154\n",
       "            10133           130\n",
       "            10135           411\n",
       "...                         ...\n",
       "2011-11-30  C2              173\n",
       "            DCGSSGIRL         1\n",
       "            DOT              47\n",
       "            M              3894\n",
       "            POST           1262\n",
       "\n",
       "[31701 rows x 1 columns]"
      ]
     },
     "execution_count": 39,
     "metadata": {},
     "output_type": "execute_result"
    }
   ],
   "source": [
    "date_item_df = pd.DataFrame(\n",
    "    df.set_index('InvoiceDate').groupby([\n",
    "        pd.Grouper(freq='M'), 'StockCode'\n",
    "    ])['Quantity'].sum()\n",
    ")\n",
    "date_item_df"
   ]
  },
  {
   "cell_type": "code",
   "execution_count": 40,
   "metadata": {
    "scrolled": true
   },
   "outputs": [
    {
     "data": {
      "text/html": [
       "<div>\n",
       "<style scoped>\n",
       "    .dataframe tbody tr th:only-of-type {\n",
       "        vertical-align: middle;\n",
       "    }\n",
       "\n",
       "    .dataframe tbody tr th {\n",
       "        vertical-align: top;\n",
       "    }\n",
       "\n",
       "    .dataframe thead th {\n",
       "        text-align: right;\n",
       "    }\n",
       "</style>\n",
       "<table border=\"1\" class=\"dataframe\">\n",
       "  <thead>\n",
       "    <tr style=\"text-align: right;\">\n",
       "      <th></th>\n",
       "      <th>InvoiceDate</th>\n",
       "      <th>StockCode</th>\n",
       "      <th>Quantity</th>\n",
       "    </tr>\n",
       "  </thead>\n",
       "  <tbody>\n",
       "    <tr>\n",
       "      <th>0</th>\n",
       "      <td>2011-11-30</td>\n",
       "      <td>23084</td>\n",
       "      <td>14954</td>\n",
       "    </tr>\n",
       "    <tr>\n",
       "      <th>1</th>\n",
       "      <td>2011-11-30</td>\n",
       "      <td>84826</td>\n",
       "      <td>12551</td>\n",
       "    </tr>\n",
       "    <tr>\n",
       "      <th>2</th>\n",
       "      <td>2011-11-30</td>\n",
       "      <td>22197</td>\n",
       "      <td>12460</td>\n",
       "    </tr>\n",
       "    <tr>\n",
       "      <th>3</th>\n",
       "      <td>2011-11-30</td>\n",
       "      <td>22086</td>\n",
       "      <td>7908</td>\n",
       "    </tr>\n",
       "    <tr>\n",
       "      <th>4</th>\n",
       "      <td>2011-11-30</td>\n",
       "      <td>85099B</td>\n",
       "      <td>5909</td>\n",
       "    </tr>\n",
       "    <tr>\n",
       "      <th>...</th>\n",
       "      <td>...</td>\n",
       "      <td>...</td>\n",
       "      <td>...</td>\n",
       "    </tr>\n",
       "    <tr>\n",
       "      <th>2941</th>\n",
       "      <td>2011-11-30</td>\n",
       "      <td>84549</td>\n",
       "      <td>1</td>\n",
       "    </tr>\n",
       "    <tr>\n",
       "      <th>2942</th>\n",
       "      <td>2011-11-30</td>\n",
       "      <td>84527</td>\n",
       "      <td>1</td>\n",
       "    </tr>\n",
       "    <tr>\n",
       "      <th>2943</th>\n",
       "      <td>2011-11-30</td>\n",
       "      <td>90082B</td>\n",
       "      <td>1</td>\n",
       "    </tr>\n",
       "    <tr>\n",
       "      <th>2944</th>\n",
       "      <td>2011-11-30</td>\n",
       "      <td>90082D</td>\n",
       "      <td>1</td>\n",
       "    </tr>\n",
       "    <tr>\n",
       "      <th>2945</th>\n",
       "      <td>2011-11-30</td>\n",
       "      <td>90026D</td>\n",
       "      <td>1</td>\n",
       "    </tr>\n",
       "  </tbody>\n",
       "</table>\n",
       "<p>2946 rows × 3 columns</p>\n",
       "</div>"
      ],
      "text/plain": [
       "     InvoiceDate StockCode  Quantity\n",
       "0     2011-11-30     23084     14954\n",
       "1     2011-11-30     84826     12551\n",
       "2     2011-11-30     22197     12460\n",
       "3     2011-11-30     22086      7908\n",
       "4     2011-11-30    85099B      5909\n",
       "...          ...       ...       ...\n",
       "2941  2011-11-30     84549         1\n",
       "2942  2011-11-30     84527         1\n",
       "2943  2011-11-30    90082B         1\n",
       "2944  2011-11-30    90082D         1\n",
       "2945  2011-11-30    90026D         1\n",
       "\n",
       "[2946 rows x 3 columns]"
      ]
     },
     "execution_count": 40,
     "metadata": {},
     "output_type": "execute_result"
    }
   ],
   "source": [
    "# Rank items by the last month sales\n",
    "last_month_sorted_df = date_item_df.loc['2011-11-30'].sort_values(\n",
    "    by='Quantity', ascending=False\n",
    ").reset_index()\n",
    "\n",
    "last_month_sorted_df"
   ]
  },
  {
   "cell_type": "code",
   "execution_count": 41,
   "metadata": {
    "scrolled": true
   },
   "outputs": [
    {
     "data": {
      "text/html": [
       "<div>\n",
       "<style scoped>\n",
       "    .dataframe tbody tr th:only-of-type {\n",
       "        vertical-align: middle;\n",
       "    }\n",
       "\n",
       "    .dataframe tbody tr th {\n",
       "        vertical-align: top;\n",
       "    }\n",
       "\n",
       "    .dataframe thead th {\n",
       "        text-align: right;\n",
       "    }\n",
       "</style>\n",
       "<table border=\"1\" class=\"dataframe\">\n",
       "  <thead>\n",
       "    <tr style=\"text-align: right;\">\n",
       "      <th></th>\n",
       "      <th></th>\n",
       "      <th>Quantity</th>\n",
       "    </tr>\n",
       "    <tr>\n",
       "      <th>InvoiceDate</th>\n",
       "      <th>StockCode</th>\n",
       "      <th></th>\n",
       "    </tr>\n",
       "  </thead>\n",
       "  <tbody>\n",
       "    <tr>\n",
       "      <th rowspan=\"4\" valign=\"top\">2010-12-31</th>\n",
       "      <th>22086</th>\n",
       "      <td>2460</td>\n",
       "    </tr>\n",
       "    <tr>\n",
       "      <th>22197</th>\n",
       "      <td>2738</td>\n",
       "    </tr>\n",
       "    <tr>\n",
       "      <th>84826</th>\n",
       "      <td>366</td>\n",
       "    </tr>\n",
       "    <tr>\n",
       "      <th>85099B</th>\n",
       "      <td>2152</td>\n",
       "    </tr>\n",
       "    <tr>\n",
       "      <th rowspan=\"4\" valign=\"top\">2011-01-31</th>\n",
       "      <th>22086</th>\n",
       "      <td>24</td>\n",
       "    </tr>\n",
       "    <tr>\n",
       "      <th>22197</th>\n",
       "      <td>1824</td>\n",
       "    </tr>\n",
       "    <tr>\n",
       "      <th>84826</th>\n",
       "      <td>480</td>\n",
       "    </tr>\n",
       "    <tr>\n",
       "      <th>85099B</th>\n",
       "      <td>2747</td>\n",
       "    </tr>\n",
       "    <tr>\n",
       "      <th rowspan=\"4\" valign=\"top\">2011-02-28</th>\n",
       "      <th>22086</th>\n",
       "      <td>5</td>\n",
       "    </tr>\n",
       "    <tr>\n",
       "      <th>22197</th>\n",
       "      <td>2666</td>\n",
       "    </tr>\n",
       "    <tr>\n",
       "      <th>84826</th>\n",
       "      <td>66</td>\n",
       "    </tr>\n",
       "    <tr>\n",
       "      <th>85099B</th>\n",
       "      <td>3080</td>\n",
       "    </tr>\n",
       "    <tr>\n",
       "      <th rowspan=\"4\" valign=\"top\">2011-03-31</th>\n",
       "      <th>22086</th>\n",
       "      <td>87</td>\n",
       "    </tr>\n",
       "    <tr>\n",
       "      <th>22197</th>\n",
       "      <td>2803</td>\n",
       "    </tr>\n",
       "    <tr>\n",
       "      <th>84826</th>\n",
       "      <td>60</td>\n",
       "    </tr>\n",
       "    <tr>\n",
       "      <th>85099B</th>\n",
       "      <td>5282</td>\n",
       "    </tr>\n",
       "    <tr>\n",
       "      <th rowspan=\"4\" valign=\"top\">2011-04-30</th>\n",
       "      <th>22086</th>\n",
       "      <td>13</td>\n",
       "    </tr>\n",
       "    <tr>\n",
       "      <th>22197</th>\n",
       "      <td>1869</td>\n",
       "    </tr>\n",
       "    <tr>\n",
       "      <th>84826</th>\n",
       "      <td>1</td>\n",
       "    </tr>\n",
       "    <tr>\n",
       "      <th>85099B</th>\n",
       "      <td>2456</td>\n",
       "    </tr>\n",
       "    <tr>\n",
       "      <th rowspan=\"4\" valign=\"top\">2011-05-31</th>\n",
       "      <th>22086</th>\n",
       "      <td>17</td>\n",
       "    </tr>\n",
       "    <tr>\n",
       "      <th>22197</th>\n",
       "      <td>6849</td>\n",
       "    </tr>\n",
       "    <tr>\n",
       "      <th>23084</th>\n",
       "      <td>1131</td>\n",
       "    </tr>\n",
       "    <tr>\n",
       "      <th>85099B</th>\n",
       "      <td>3621</td>\n",
       "    </tr>\n",
       "    <tr>\n",
       "      <th rowspan=\"5\" valign=\"top\">2011-06-30</th>\n",
       "      <th>22086</th>\n",
       "      <td>344</td>\n",
       "    </tr>\n",
       "    <tr>\n",
       "      <th>22197</th>\n",
       "      <td>2095</td>\n",
       "    </tr>\n",
       "    <tr>\n",
       "      <th>23084</th>\n",
       "      <td>1713</td>\n",
       "    </tr>\n",
       "    <tr>\n",
       "      <th>84826</th>\n",
       "      <td>4</td>\n",
       "    </tr>\n",
       "    <tr>\n",
       "      <th>85099B</th>\n",
       "      <td>3682</td>\n",
       "    </tr>\n",
       "    <tr>\n",
       "      <th rowspan=\"5\" valign=\"top\">2011-07-31</th>\n",
       "      <th>22086</th>\n",
       "      <td>383</td>\n",
       "    </tr>\n",
       "    <tr>\n",
       "      <th>22197</th>\n",
       "      <td>1876</td>\n",
       "    </tr>\n",
       "    <tr>\n",
       "      <th>23084</th>\n",
       "      <td>318</td>\n",
       "    </tr>\n",
       "    <tr>\n",
       "      <th>84826</th>\n",
       "      <td>2</td>\n",
       "    </tr>\n",
       "    <tr>\n",
       "      <th>85099B</th>\n",
       "      <td>3129</td>\n",
       "    </tr>\n",
       "    <tr>\n",
       "      <th rowspan=\"5\" valign=\"top\">2011-08-31</th>\n",
       "      <th>22086</th>\n",
       "      <td>490</td>\n",
       "    </tr>\n",
       "    <tr>\n",
       "      <th>22197</th>\n",
       "      <td>5421</td>\n",
       "    </tr>\n",
       "    <tr>\n",
       "      <th>23084</th>\n",
       "      <td>2267</td>\n",
       "    </tr>\n",
       "    <tr>\n",
       "      <th>84826</th>\n",
       "      <td>72</td>\n",
       "    </tr>\n",
       "    <tr>\n",
       "      <th>85099B</th>\n",
       "      <td>5502</td>\n",
       "    </tr>\n",
       "    <tr>\n",
       "      <th rowspan=\"4\" valign=\"top\">2011-09-30</th>\n",
       "      <th>22086</th>\n",
       "      <td>2106</td>\n",
       "    </tr>\n",
       "    <tr>\n",
       "      <th>22197</th>\n",
       "      <td>4196</td>\n",
       "    </tr>\n",
       "    <tr>\n",
       "      <th>23084</th>\n",
       "      <td>680</td>\n",
       "    </tr>\n",
       "    <tr>\n",
       "      <th>85099B</th>\n",
       "      <td>4401</td>\n",
       "    </tr>\n",
       "    <tr>\n",
       "      <th rowspan=\"5\" valign=\"top\">2011-10-31</th>\n",
       "      <th>22086</th>\n",
       "      <td>3429</td>\n",
       "    </tr>\n",
       "    <tr>\n",
       "      <th>22197</th>\n",
       "      <td>5907</td>\n",
       "    </tr>\n",
       "    <tr>\n",
       "      <th>23084</th>\n",
       "      <td>6348</td>\n",
       "    </tr>\n",
       "    <tr>\n",
       "      <th>84826</th>\n",
       "      <td>11</td>\n",
       "    </tr>\n",
       "    <tr>\n",
       "      <th>85099B</th>\n",
       "      <td>5412</td>\n",
       "    </tr>\n",
       "    <tr>\n",
       "      <th rowspan=\"5\" valign=\"top\">2011-11-30</th>\n",
       "      <th>22086</th>\n",
       "      <td>7908</td>\n",
       "    </tr>\n",
       "    <tr>\n",
       "      <th>22197</th>\n",
       "      <td>12460</td>\n",
       "    </tr>\n",
       "    <tr>\n",
       "      <th>23084</th>\n",
       "      <td>14954</td>\n",
       "    </tr>\n",
       "    <tr>\n",
       "      <th>84826</th>\n",
       "      <td>12551</td>\n",
       "    </tr>\n",
       "    <tr>\n",
       "      <th>85099B</th>\n",
       "      <td>5909</td>\n",
       "    </tr>\n",
       "  </tbody>\n",
       "</table>\n",
       "</div>"
      ],
      "text/plain": [
       "                       Quantity\n",
       "InvoiceDate StockCode          \n",
       "2010-12-31  22086          2460\n",
       "            22197          2738\n",
       "            84826           366\n",
       "            85099B         2152\n",
       "2011-01-31  22086            24\n",
       "            22197          1824\n",
       "            84826           480\n",
       "            85099B         2747\n",
       "2011-02-28  22086             5\n",
       "            22197          2666\n",
       "            84826            66\n",
       "            85099B         3080\n",
       "2011-03-31  22086            87\n",
       "            22197          2803\n",
       "            84826            60\n",
       "            85099B         5282\n",
       "2011-04-30  22086            13\n",
       "            22197          1869\n",
       "            84826             1\n",
       "            85099B         2456\n",
       "2011-05-31  22086            17\n",
       "            22197          6849\n",
       "            23084          1131\n",
       "            85099B         3621\n",
       "2011-06-30  22086           344\n",
       "            22197          2095\n",
       "            23084          1713\n",
       "            84826             4\n",
       "            85099B         3682\n",
       "2011-07-31  22086           383\n",
       "            22197          1876\n",
       "            23084           318\n",
       "            84826             2\n",
       "            85099B         3129\n",
       "2011-08-31  22086           490\n",
       "            22197          5421\n",
       "            23084          2267\n",
       "            84826            72\n",
       "            85099B         5502\n",
       "2011-09-30  22086          2106\n",
       "            22197          4196\n",
       "            23084           680\n",
       "            85099B         4401\n",
       "2011-10-31  22086          3429\n",
       "            22197          5907\n",
       "            23084          6348\n",
       "            84826            11\n",
       "            85099B         5412\n",
       "2011-11-30  22086          7908\n",
       "            22197         12460\n",
       "            23084         14954\n",
       "            84826         12551\n",
       "            85099B         5909"
      ]
     },
     "execution_count": 41,
     "metadata": {},
     "output_type": "execute_result"
    }
   ],
   "source": [
    "# Regroup for top 5 items\n",
    "date_item_df = pd.DataFrame(\n",
    "    df.loc[\n",
    "        df['StockCode'].isin([23084, 84826, 22197, 22086, '85099B'])\n",
    "    ].set_index('InvoiceDate').groupby([\n",
    "        pd.Grouper(freq='M'), 'StockCode'\n",
    "    ])['Quantity'].sum()\n",
    ")\n",
    "date_item_df"
   ]
  },
  {
   "cell_type": "code",
   "execution_count": 42,
   "metadata": {},
   "outputs": [
    {
     "data": {
      "text/html": [
       "<div>\n",
       "<style scoped>\n",
       "    .dataframe tbody tr th:only-of-type {\n",
       "        vertical-align: middle;\n",
       "    }\n",
       "\n",
       "    .dataframe tbody tr th {\n",
       "        vertical-align: top;\n",
       "    }\n",
       "\n",
       "    .dataframe thead th {\n",
       "        text-align: right;\n",
       "    }\n",
       "</style>\n",
       "<table border=\"1\" class=\"dataframe\">\n",
       "  <thead>\n",
       "    <tr style=\"text-align: right;\">\n",
       "      <th>StockCode</th>\n",
       "      <th>22086</th>\n",
       "      <th>22197</th>\n",
       "      <th>23084</th>\n",
       "      <th>84826</th>\n",
       "      <th>85099B</th>\n",
       "    </tr>\n",
       "    <tr>\n",
       "      <th>InvoiceDate</th>\n",
       "      <th></th>\n",
       "      <th></th>\n",
       "      <th></th>\n",
       "      <th></th>\n",
       "      <th></th>\n",
       "    </tr>\n",
       "  </thead>\n",
       "  <tbody>\n",
       "    <tr>\n",
       "      <th>2010-12-31</th>\n",
       "      <td>2460.0</td>\n",
       "      <td>2738.0</td>\n",
       "      <td>0.0</td>\n",
       "      <td>366.0</td>\n",
       "      <td>2152.0</td>\n",
       "    </tr>\n",
       "    <tr>\n",
       "      <th>2011-01-31</th>\n",
       "      <td>24.0</td>\n",
       "      <td>1824.0</td>\n",
       "      <td>0.0</td>\n",
       "      <td>480.0</td>\n",
       "      <td>2747.0</td>\n",
       "    </tr>\n",
       "    <tr>\n",
       "      <th>2011-02-28</th>\n",
       "      <td>5.0</td>\n",
       "      <td>2666.0</td>\n",
       "      <td>0.0</td>\n",
       "      <td>66.0</td>\n",
       "      <td>3080.0</td>\n",
       "    </tr>\n",
       "    <tr>\n",
       "      <th>2011-03-31</th>\n",
       "      <td>87.0</td>\n",
       "      <td>2803.0</td>\n",
       "      <td>0.0</td>\n",
       "      <td>60.0</td>\n",
       "      <td>5282.0</td>\n",
       "    </tr>\n",
       "    <tr>\n",
       "      <th>2011-04-30</th>\n",
       "      <td>13.0</td>\n",
       "      <td>1869.0</td>\n",
       "      <td>0.0</td>\n",
       "      <td>1.0</td>\n",
       "      <td>2456.0</td>\n",
       "    </tr>\n",
       "    <tr>\n",
       "      <th>2011-05-31</th>\n",
       "      <td>17.0</td>\n",
       "      <td>6849.0</td>\n",
       "      <td>1131.0</td>\n",
       "      <td>0.0</td>\n",
       "      <td>3621.0</td>\n",
       "    </tr>\n",
       "    <tr>\n",
       "      <th>2011-06-30</th>\n",
       "      <td>344.0</td>\n",
       "      <td>2095.0</td>\n",
       "      <td>1713.0</td>\n",
       "      <td>4.0</td>\n",
       "      <td>3682.0</td>\n",
       "    </tr>\n",
       "    <tr>\n",
       "      <th>2011-07-31</th>\n",
       "      <td>383.0</td>\n",
       "      <td>1876.0</td>\n",
       "      <td>318.0</td>\n",
       "      <td>2.0</td>\n",
       "      <td>3129.0</td>\n",
       "    </tr>\n",
       "    <tr>\n",
       "      <th>2011-08-31</th>\n",
       "      <td>490.0</td>\n",
       "      <td>5421.0</td>\n",
       "      <td>2267.0</td>\n",
       "      <td>72.0</td>\n",
       "      <td>5502.0</td>\n",
       "    </tr>\n",
       "    <tr>\n",
       "      <th>2011-09-30</th>\n",
       "      <td>2106.0</td>\n",
       "      <td>4196.0</td>\n",
       "      <td>680.0</td>\n",
       "      <td>0.0</td>\n",
       "      <td>4401.0</td>\n",
       "    </tr>\n",
       "    <tr>\n",
       "      <th>2011-10-31</th>\n",
       "      <td>3429.0</td>\n",
       "      <td>5907.0</td>\n",
       "      <td>6348.0</td>\n",
       "      <td>11.0</td>\n",
       "      <td>5412.0</td>\n",
       "    </tr>\n",
       "    <tr>\n",
       "      <th>2011-11-30</th>\n",
       "      <td>7908.0</td>\n",
       "      <td>12460.0</td>\n",
       "      <td>14954.0</td>\n",
       "      <td>12551.0</td>\n",
       "      <td>5909.0</td>\n",
       "    </tr>\n",
       "  </tbody>\n",
       "</table>\n",
       "</div>"
      ],
      "text/plain": [
       "StockCode     22086    22197    23084    84826  85099B\n",
       "InvoiceDate                                           \n",
       "2010-12-31   2460.0   2738.0      0.0    366.0  2152.0\n",
       "2011-01-31     24.0   1824.0      0.0    480.0  2747.0\n",
       "2011-02-28      5.0   2666.0      0.0     66.0  3080.0\n",
       "2011-03-31     87.0   2803.0      0.0     60.0  5282.0\n",
       "2011-04-30     13.0   1869.0      0.0      1.0  2456.0\n",
       "2011-05-31     17.0   6849.0   1131.0      0.0  3621.0\n",
       "2011-06-30    344.0   2095.0   1713.0      4.0  3682.0\n",
       "2011-07-31    383.0   1876.0    318.0      2.0  3129.0\n",
       "2011-08-31    490.0   5421.0   2267.0     72.0  5502.0\n",
       "2011-09-30   2106.0   4196.0    680.0      0.0  4401.0\n",
       "2011-10-31   3429.0   5907.0   6348.0     11.0  5412.0\n",
       "2011-11-30   7908.0  12460.0  14954.0  12551.0  5909.0"
      ]
     },
     "execution_count": 42,
     "metadata": {},
     "output_type": "execute_result"
    }
   ],
   "source": [
    "trending_itmes_df = date_item_df.reset_index().pivot('InvoiceDate','StockCode').fillna(0)\n",
    "\n",
    "trending_itmes_df = trending_itmes_df.reset_index()\n",
    "trending_itmes_df = trending_itmes_df.set_index('InvoiceDate')\n",
    "trending_itmes_df.columns = trending_itmes_df.columns.droplevel(0)\n",
    "\n",
    "trending_itmes_df"
   ]
  },
  {
   "cell_type": "code",
   "execution_count": 43,
   "metadata": {},
   "outputs": [
    {
     "data": {
      "image/png": "[encoded data removed]",
      "text/plain": [
       "<Figure size 720x504 with 1 Axes>"
      ]
     },
     "metadata": {
      "needs_background": "light"
     },
     "output_type": "display_data"
    }
   ],
   "source": [
    "ax = pd.DataFrame(trending_itmes_df.values).plot(\n",
    "    figsize=(10,7),\n",
    "    grid=True,\n",
    ")\n",
    "\n",
    "ax.set_ylabel('number of purchases')\n",
    "ax.set_xlabel('date')\n",
    "ax.set_title('Item Trends over Time')\n",
    "\n",
    "ax.legend(trending_itmes_df.columns, loc='upper left')\n",
    "\n",
    "plt.xticks(\n",
    "    range(len(trending_itmes_df.index)), \n",
    "    [x.strftime('%m.%Y') for x in trending_itmes_df.index], \n",
    "    rotation=45\n",
    ")\n",
    "\n",
    "plt.show()"
   ]
  }
 ],
 "metadata": {
  "kernelspec": {
   "display_name": "Python 3",
   "language": "python",
   "name": "python3"
  },
  "language_info": {
   "codemirror_mode": {
    "name": "ipython",
    "version": 3
   },
   "file_extension": ".py",
   "mimetype": "text/x-python",
   "name": "python",
   "nbconvert_exporter": "python",
   "pygments_lexer": "ipython3",
   "version": "3.7.9"
  }
 },
 "nbformat": 4,
 "nbformat_minor": 2
}
